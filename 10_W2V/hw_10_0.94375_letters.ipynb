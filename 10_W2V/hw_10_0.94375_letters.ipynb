{
 "cells": [
  {
   "cell_type": "code",
   "execution_count": 25,
   "metadata": {},
   "outputs": [],
   "source": [
    "import pymystem3, pymorphy2\n",
    "import numpy as np\n",
    "import pandas as pd\n",
    "import re\n",
    "from tqdm import tqdm\n",
    "import seaborn as sns\n",
    "import scipy.stats as st\n",
    "from scipy.stats import norm\n",
    "from matplotlib import pyplot as plt\n",
    "from sklearn.decomposition import PCA\n",
    "from sklearn.manifold import MDS\n",
    "from sklearn.pipeline import Pipeline\n",
    "from sklearn.metrics import roc_auc_score, accuracy_score, f1_score, recall_score, confusion_matrix, classification_report\n",
    "from sklearn.linear_model import LogisticRegression\n",
    "from sklearn.neighbors import KNeighborsClassifier\n",
    "from sklearn.tree import DecisionTreeClassifier\n",
    "from sklearn.model_selection import GridSearchCV, RandomizedSearchCV\n",
    "from sklearn.feature_extraction.text import TfidfVectorizer, CountVectorizer\n",
    "from sklearn.preprocessing import StandardScaler, MinMaxScaler, MaxAbsScaler, KBinsDiscretizer\n",
    "from sklearn.model_selection import train_test_split, cross_val_score, KFold, StratifiedKFold\n",
    "from sklearn.svm import LinearSVC, SVC\n",
    "from sklearn.multiclass import OneVsRestClassifier, OneVsOneClassifier\n",
    "from sklearn.feature_extraction.text import CountVectorizer, TfidfVectorizer\n",
    "from sklearn.linear_model import LogisticRegression\n",
    "from gensim.models.word2vec import Word2Vec\n",
    "from gensim.models.word2vec import LineSentence\n",
    "from gensim.models import KeyedVectors \n",
    "from sklearn.metrics import classification_report, confusion_matrix\n",
    "from sklearn.cluster import KMeans\n",
    "\n",
    "import warnings\n",
    "warnings.filterwarnings('ignore')\n",
    "\n",
    "%matplotlib inline"
   ]
  },
  {
   "cell_type": "markdown",
   "metadata": {},
   "source": [
    "## Data Uploading"
   ]
  },
  {
   "cell_type": "code",
   "execution_count": 2,
   "metadata": {},
   "outputs": [],
   "source": [
    "df_train = pd.read_csv('train.csv', sep=';', index_col='id')"
   ]
  },
  {
   "cell_type": "code",
   "execution_count": 3,
   "metadata": {},
   "outputs": [],
   "source": [
    "df_test = pd.read_csv('test.csv', sep=';', index_col='id')"
   ]
  },
  {
   "cell_type": "code",
   "execution_count": 4,
   "metadata": {},
   "outputs": [
    {
     "data": {
      "image/png": "[encoded data removed]",
      "text/plain": [
       "<Figure size 432x288 with 1 Axes>"
      ]
     },
     "metadata": {
      "needs_background": "light"
     },
     "output_type": "display_data"
    }
   ],
   "source": [
    "df_train['target'].hist(bins=len(set(df_train['target'])))\n",
    "plt.title('Распределение классов');"
   ]
  },
  {
   "cell_type": "markdown",
   "metadata": {},
   "source": [
    "Метки классов:\n",
    "- **[0]** Строительство, недвижимость\n",
    "- **[1]**  Медицина, фармацевтика\n",
    "- **[2]**  Информационные технологии, интернет, телеком\n",
    "- **[3]** Бухгалтерия, управленческий учет, финансы предприятия\n",
    "- **[4]** Туризм, гостиницы, рестораны\n",
    "- **[5]** Транспорт, логистика"
   ]
  },
  {
   "cell_type": "markdown",
   "metadata": {},
   "source": [
    "## Text Preprocecssing"
   ]
  },
  {
   "cell_type": "code",
   "execution_count": 5,
   "metadata": {},
   "outputs": [
    {
     "data": {
      "text/plain": [
       "['слон', 'лавка', 'посудный']"
      ]
     },
     "execution_count": 5,
     "metadata": {},
     "output_type": "execute_result"
    }
   ],
   "source": [
    "# Список значимых частей речи. \n",
    "# Они нам потом понадобятся в немного другом виде. Так что сделаем словарь. чтобы два раза не вставать.\n",
    "\n",
    "morph = pymorphy2.MorphAnalyzer()\n",
    "\n",
    "# conv_pos = {'ADJF':'ADJ', 'ADJS':'ADJ', 'ADV':'ADV', 'NOUN':'NOUN', \n",
    "#             'VERB':'VERB', 'PRTF':'ADJ', 'PRTS':'ADJ', 'GRND':'VERB'}\n",
    "\n",
    "conv_pos = {'ADJF':'ADJ', 'ADJS':'ADJ', 'ADV':'ADV', 'NOUN':'NOUN', 'PRTF':'ADJ', 'PRTS':'ADJ'}\n",
    "            \n",
    "tmp_dict = {} # Кеш значимых слов.\n",
    "nones = {} # Кеш незначимых слов.\n",
    "\n",
    "# Фильтруем по части речи и возвращаем только начальную форму.\n",
    "def normalizePymorphy_fast(text, need_pos=False):\n",
    "    tokens = re.findall('[A-Za-zА-Яа-яЁё]+\\-[A-Za-zА-Яа-яЁё]+|[A-Za-zА-Яа-яЁё]+', text)\n",
    "    with open(\"mystopwords.txt\", encoding=\"utf-8\") as file: \n",
    "        stop_words = file.read()\n",
    "    words = []\n",
    "    for t in set(tokens):\n",
    "        # Если токен уже был закеширован, быстро возьмем результат из него.\n",
    "        if t in tmp_dict.keys():\n",
    "            words.append(tmp_dict[t])\n",
    "        # Аналогично, если он в кеше незначимых слов.\n",
    "        elif t in nones.keys():\n",
    "            pass\n",
    "        # Слово еще не встретилось, будем проводить медленный морфологический анализ.\n",
    "        else:\n",
    "            pv = morph.parse(t)\n",
    "            if pv[0].tag.POS != None:\n",
    "                if pv[0].normal_form != 'быть' and \\\n",
    "                len(pv[0].normal_form) > 2 and \\\n",
    "                pv[0].normal_form not in stop_words and \\\n",
    "                pv[0].tag.POS in conv_pos.keys():\n",
    "                    if need_pos:\n",
    "                        word = pv[0].normal_form+\"_\"+conv_pos[pv[0].tag.POS]\n",
    "                    else:\n",
    "                        word = pv[0].normal_form\n",
    "                    # Отправляем слово в результат, ...\n",
    "                    words.append(word)\n",
    "                    # ... и кешируем результат его разбора.\n",
    "                    tmp_dict[t] = word\n",
    "                else:\n",
    "                    # Для незначимых слов можно даже ничего не хранить. Лишь бы потом не обращаться к морфологии.\n",
    "                    nones[t] = \"\"\n",
    "                    \n",
    "    return words\n",
    "\n",
    "normalizePymorphy_fast('слон слон слон в посудной лавке дружный коллектив')"
   ]
  },
  {
   "cell_type": "code",
   "execution_count": 6,
   "metadata": {},
   "outputs": [
    {
     "name": "stdout",
     "output_type": "stream",
     "text": [
      "CPU times: user 37.7 s, sys: 407 ms, total: 38.1 s\n",
      "Wall time: 38.1 s\n"
     ]
    }
   ],
   "source": [
    "%%time\n",
    "df_train['NText'] = df_train['text'].map(lambda x:' '.join(normalizePymorphy_fast(x)))"
   ]
  },
  {
   "cell_type": "code",
   "execution_count": 7,
   "metadata": {},
   "outputs": [
    {
     "data": {
      "text/html": [
       "<div>\n",
       "<style scoped>\n",
       "    .dataframe tbody tr th:only-of-type {\n",
       "        vertical-align: middle;\n",
       "    }\n",
       "\n",
       "    .dataframe tbody tr th {\n",
       "        vertical-align: top;\n",
       "    }\n",
       "\n",
       "    .dataframe thead th {\n",
       "        text-align: right;\n",
       "    }\n",
       "</style>\n",
       "<table border=\"1\" class=\"dataframe\">\n",
       "  <thead>\n",
       "    <tr style=\"text-align: right;\">\n",
       "      <th></th>\n",
       "      <th>text</th>\n",
       "      <th>target</th>\n",
       "      <th>NText</th>\n",
       "    </tr>\n",
       "    <tr>\n",
       "      <th>id</th>\n",
       "      <th></th>\n",
       "      <th></th>\n",
       "      <th></th>\n",
       "    </tr>\n",
       "  </thead>\n",
       "  <tbody>\n",
       "    <tr>\n",
       "      <td>0</td>\n",
       "      <td>&lt;p&gt;В молодой и дружный коллектив динамично раз...</td>\n",
       "      <td>2</td>\n",
       "      <td>программа образование язык встреча соответстви...</td>\n",
       "    </tr>\n",
       "    <tr>\n",
       "      <td>1</td>\n",
       "      <td>&lt;p&gt;&lt;strong&gt;Обязанности: &lt;/strong&gt;- Прием входя...</td>\n",
       "      <td>2</td>\n",
       "      <td>корзина ведение покупатель испытательный алекс...</td>\n",
       "    </tr>\n",
       "    <tr>\n",
       "      <td>2</td>\n",
       "      <td>&lt;p&gt;&lt;strong&gt;Федеральная сеть аптек &lt;/strong&gt;в с...</td>\n",
       "      <td>1</td>\n",
       "      <td>участие образование сохранить рецептурный поез...</td>\n",
       "    </tr>\n",
       "    <tr>\n",
       "      <td>3</td>\n",
       "      <td>&lt;strong&gt;Обязанности:&lt;/strong&gt; &lt;ul&gt; &lt;li&gt; &lt;p&gt;раз...</td>\n",
       "      <td>0</td>\n",
       "      <td>должность документ согласование аскуэ дружеств...</td>\n",
       "    </tr>\n",
       "    <tr>\n",
       "      <td>4</td>\n",
       "      <td>&lt;p&gt;Производителю сантехники тм Domani Spa треб...</td>\n",
       "      <td>5</td>\n",
       "      <td>погрузка-выгрузка екатеринбург указанный аккур...</td>\n",
       "    </tr>\n",
       "  </tbody>\n",
       "</table>\n",
       "</div>"
      ],
      "text/plain": [
       "                                                 text  target  \\\n",
       "id                                                              \n",
       "0   <p>В молодой и дружный коллектив динамично раз...       2   \n",
       "1   <p><strong>Обязанности: </strong>- Прием входя...       2   \n",
       "2   <p><strong>Федеральная сеть аптек </strong>в с...       1   \n",
       "3   <strong>Обязанности:</strong> <ul> <li> <p>раз...       0   \n",
       "4   <p>Производителю сантехники тм Domani Spa треб...       5   \n",
       "\n",
       "                                                NText  \n",
       "id                                                     \n",
       "0   программа образование язык встреча соответстви...  \n",
       "1   корзина ведение покупатель испытательный алекс...  \n",
       "2   участие образование сохранить рецептурный поез...  \n",
       "3   должность документ согласование аскуэ дружеств...  \n",
       "4   погрузка-выгрузка екатеринбург указанный аккур...  "
      ]
     },
     "execution_count": 7,
     "metadata": {},
     "output_type": "execute_result"
    }
   ],
   "source": [
    "df_train.head()"
   ]
  },
  {
   "cell_type": "code",
   "execution_count": 8,
   "metadata": {},
   "outputs": [
    {
     "name": "stdout",
     "output_type": "stream",
     "text": [
      "CPU times: user 25.4 s, sys: 436 ms, total: 25.9 s\n",
      "Wall time: 25.9 s\n"
     ]
    }
   ],
   "source": [
    "%%time\n",
    "df_test['NText'] = df_test['text'].map(lambda x:' '.join(normalizePymorphy_fast(x)))"
   ]
  },
  {
   "cell_type": "code",
   "execution_count": 9,
   "metadata": {},
   "outputs": [
    {
     "data": {
      "text/plain": [
       "array(['<p><strong>В крупную компанию по организации и приготовлению корпоративного питания требуется - Бухгалтер калькулятор.</strong></p> <p><strong>Обязанности:</strong></p> <ul> <li>работа с технологическими картами</li> <li>расчет себестоимости блюд</li> <li>ведение номенклатур</li> <li>ведение документооборота производства</li> <li>ценообразование</li> <li>участие в проведении инвентаризации</li> </ul> <strong>Требования:</strong> <ul> <li>опыт работы в общепите бухгалтером-калькулятором</li> <li>умение работать в программе общепит &quot;Айко&quot; (или другой)</li> <li>внимательность и ответственное отношение к работе</li> </ul> <strong>Условия:</strong> <ul> <li>официальное трудоустройство с первого рабочего дня</li> <li>место работы Советский район</li> <li>график работы 5/2 с 9:00 до 18:00</li> <li>предоставляется бесплатное питание</li> </ul>',\n",
       "       'советский проведение блюдо айко участие официальный питание производство инвентаризация ведение документооборот бухгалтер-калькулятор технологический расчёт район бухгалтер бесплатный программа калькулятор ценообразование номенклатура питание первое общепит приготовление карта общепит место себестоимость'],\n",
       "      dtype=object)"
      ]
     },
     "execution_count": 9,
     "metadata": {},
     "output_type": "execute_result"
    }
   ],
   "source": [
    "df_test.iloc[0].values"
   ]
  },
  {
   "cell_type": "markdown",
   "metadata": {},
   "source": [
    "## Text Vectorizing"
   ]
  },
  {
   "cell_type": "code",
   "execution_count": 10,
   "metadata": {},
   "outputs": [],
   "source": [
    "cv = CountVectorizer()"
   ]
  },
  {
   "cell_type": "code",
   "execution_count": 11,
   "metadata": {},
   "outputs": [],
   "source": [
    "tfidf = TfidfVectorizer()"
   ]
  },
  {
   "cell_type": "markdown",
   "metadata": {},
   "source": [
    "### Word2Vec"
   ]
  },
  {
   "cell_type": "code",
   "execution_count": 12,
   "metadata": {},
   "outputs": [
    {
     "name": "stdout",
     "output_type": "stream",
     "text": [
      "CPU times: user 1min 20s, sys: 329 ms, total: 1min 21s\n",
      "Wall time: 42 s\n"
     ]
    }
   ],
   "source": [
    "%%time\n",
    "\n",
    "# список параметров, которые можно менять по вашему желанию\n",
    "num_features = 300  # итоговая размерность вектора каждого слова\n",
    "min_word_count = 1  # минимальная частотность слова, чтобы оно попало в модель\n",
    "num_workers = 2     # количество ядер вашего процессора, чтоб запустить обучение в несколько потоков\n",
    "context = 10        # размер окна \n",
    "downsampling = 1e-3 # внутренняя метрика модели\n",
    "\n",
    "w2v_model = Word2Vec(df_train.NText, \n",
    "                     workers=num_workers, \n",
    "                     size=num_features,\n",
    "                     min_count=min_word_count, \n",
    "                     window=context, \n",
    "                     sample=downsampling)"
   ]
  },
  {
   "cell_type": "code",
   "execution_count": 13,
   "metadata": {},
   "outputs": [],
   "source": [
    "w2v_model.init_sims(replace=True)"
   ]
  },
  {
   "cell_type": "code",
   "execution_count": 14,
   "metadata": {},
   "outputs": [
    {
     "data": {
      "text/plain": [
       "[('м', 0.44958484172821045),\n",
       " ('ф', 0.3694712519645691),\n",
       " ('в', 0.2692612409591675),\n",
       " ('с', 0.26331251859664917),\n",
       " ('у', 0.2557999789714813),\n",
       " ('з', 0.21091657876968384),\n",
       " ('т', 0.17970049381256104),\n",
       " ('н', 0.17615342140197754),\n",
       " ('ю', 0.1761188507080078),\n",
       " ('к', 0.15585611760616302)]"
      ]
     },
     "execution_count": 14,
     "metadata": {},
     "output_type": "execute_result"
    }
   ],
   "source": [
    "w2v_model.most_similar('п')"
   ]
  },
  {
   "cell_type": "code",
   "execution_count": 15,
   "metadata": {},
   "outputs": [
    {
     "data": {
      "text/plain": [
       "18340775"
      ]
     },
     "execution_count": 15,
     "metadata": {},
     "output_type": "execute_result"
    }
   ],
   "source": [
    "w2v_model.corpus_total_words"
   ]
  },
  {
   "cell_type": "markdown",
   "metadata": {},
   "source": [
    "## Modeling"
   ]
  },
  {
   "cell_type": "code",
   "execution_count": 16,
   "metadata": {},
   "outputs": [],
   "source": [
    "y = df_train['target']"
   ]
  },
  {
   "cell_type": "code",
   "execution_count": 17,
   "metadata": {},
   "outputs": [
    {
     "data": {
      "text/plain": [
       "(31063, 105185)"
      ]
     },
     "execution_count": 17,
     "metadata": {},
     "output_type": "execute_result"
    }
   ],
   "source": [
    "w2v_dict = dict(zip(w2v_model.wv.index2word, w2v_model.wv.syn0))\n",
    "tfidf2 = TfidfVectorizer(w2v_dict).fit(df_train.text)\n",
    "X = tfidf2.transform(df_train.text)\n",
    "X.shape"
   ]
  },
  {
   "cell_type": "code",
   "execution_count": 18,
   "metadata": {},
   "outputs": [],
   "source": [
    "X_train, X_test, y_train, y_test = train_test_split(X, y, test_size=0.3, random_state=0)"
   ]
  },
  {
   "cell_type": "code",
   "execution_count": 19,
   "metadata": {},
   "outputs": [],
   "source": [
    "model = LinearSVC(C=0.8)"
   ]
  },
  {
   "cell_type": "code",
   "execution_count": 20,
   "metadata": {},
   "outputs": [
    {
     "name": "stdout",
     "output_type": "stream",
     "text": [
      "model: 0.9412711182622687\n",
      "model: 0.9414225941422594\n",
      "model: 0.9396426846933849\n",
      "model: 0.9478428847392144\n",
      "model: 0.9431470446126591\n"
     ]
    }
   ],
   "source": [
    "cv = StratifiedKFold(n_splits=5, random_state=0, shuffle=True)\n",
    "for train_index, test_index in cv.split(X, y):\n",
    "    X_train, X_test = X[train_index], X[test_index]\n",
    "    y_train, y_test = y[train_index], y[test_index]\n",
    "    model.fit(X_train, y_train)\n",
    "    print('model:', accuracy_score(y_test, model.predict(X_test)))"
   ]
  },
  {
   "cell_type": "code",
   "execution_count": 21,
   "metadata": {},
   "outputs": [
    {
     "name": "stdout",
     "output_type": "stream",
     "text": [
      "model: 0.9431470446126591\n"
     ]
    }
   ],
   "source": [
    "model.fit(X_train, y_train)\n",
    "print('model:', accuracy_score(y_test, model.predict(X_test)))"
   ]
  },
  {
   "cell_type": "code",
   "execution_count": 22,
   "metadata": {},
   "outputs": [
    {
     "name": "stdout",
     "output_type": "stream",
     "text": [
      "              precision    recall  f1-score   support\n",
      "\n",
      "           0       0.91      0.93      0.92      1166\n",
      "           1       0.98      0.94      0.96       610\n",
      "           2       0.96      0.96      0.96      1517\n",
      "           3       0.95      0.92      0.93       931\n",
      "           4       0.96      0.97      0.96       851\n",
      "           5       0.92      0.93      0.93      1134\n",
      "\n",
      "    accuracy                           0.94      6209\n",
      "   macro avg       0.95      0.94      0.94      6209\n",
      "weighted avg       0.94      0.94      0.94      6209\n",
      "\n",
      "[[1086    2   14   14    8   42]\n",
      " [   6  576    8    6    6    8]\n",
      " [  29    1 1461   13    0   13]\n",
      " [  22    2   21  854   14   18]\n",
      " [   5    0   10    4  823    9]\n",
      " [  40    7   15   11    5 1056]]\n"
     ]
    }
   ],
   "source": [
    "print(classification_report(y_test, model.predict(X_test)))\n",
    "print(confusion_matrix(y_test, model.predict(X_test)))"
   ]
  },
  {
   "cell_type": "markdown",
   "metadata": {},
   "source": [
    "Метки классов:\n",
    "- **[0]** Строительство, недвижимость\n",
    "- **[1]**  Медицина, фармацевтика\n",
    "- **[2]**  Информационные технологии, интернет, телеком\n",
    "- **[3]** Бухгалтерия, управленческий учет, финансы предприятия\n",
    "- **[4]** Туризм, гостиницы, рестораны\n",
    "- **[5]** Транспорт, логистика"
   ]
  },
  {
   "cell_type": "code",
   "execution_count": 23,
   "metadata": {},
   "outputs": [
    {
     "name": "stdout",
     "output_type": "stream",
     "text": [
      "Linear SVC: C = 0.001 , score = 0.6390723143823482\n",
      "Linear SVC: C = 0.01 , score = 0.8874214849412143\n",
      "Linear SVC: C = 0.1 , score = 0.9339668223546465\n",
      "Linear SVC: C = 0.2 , score = 0.9405701401191818\n",
      "Linear SVC: C = 0.8 , score = 0.9431470446126591\n",
      "Linear SVC: C = 1 , score = 0.9418585923659204\n",
      "Linear SVC: C = 2 , score = 0.9408922531808664\n"
     ]
    }
   ],
   "source": [
    "for c in [0.001, 0.01, 0.1, 0.2, 0.8, 1, 2]:\n",
    "    model = LinearSVC(C=c)\n",
    "    model.fit(X_train, y_train)\n",
    "    print('Linear SVC: C =', c, ', score =', accuracy_score(y_test, model.predict(X_test)))    "
   ]
  },
  {
   "cell_type": "markdown",
   "metadata": {},
   "source": [
    "## Predict"
   ]
  },
  {
   "cell_type": "code",
   "execution_count": 27,
   "metadata": {},
   "outputs": [],
   "source": [
    "df_test_vectorized = tfidf2.transform(df_test.text)"
   ]
  },
  {
   "cell_type": "code",
   "execution_count": 37,
   "metadata": {},
   "outputs": [],
   "source": [
    "df_test_vectorized = [text_to_vec(text) for text in df_test['NText']]"
   ]
  },
  {
   "cell_type": "code",
   "execution_count": 28,
   "metadata": {},
   "outputs": [],
   "source": [
    "final_model = LinearSVC(C=0.8)"
   ]
  },
  {
   "cell_type": "code",
   "execution_count": 29,
   "metadata": {},
   "outputs": [
    {
     "data": {
      "text/plain": [
       "LinearSVC(C=0.8, class_weight=None, dual=True, fit_intercept=True,\n",
       "          intercept_scaling=1, loss='squared_hinge', max_iter=1000,\n",
       "          multi_class='ovr', penalty='l2', random_state=None, tol=0.0001,\n",
       "          verbose=0)"
      ]
     },
     "execution_count": 29,
     "metadata": {},
     "output_type": "execute_result"
    }
   ],
   "source": [
    "final_model.fit(X, y)"
   ]
  },
  {
   "cell_type": "code",
   "execution_count": 30,
   "metadata": {},
   "outputs": [
    {
     "data": {
      "text/plain": [
       "array([3, 2, 5, ..., 0, 4, 5])"
      ]
     },
     "execution_count": 30,
     "metadata": {},
     "output_type": "execute_result"
    }
   ],
   "source": [
    "pred = final_model.predict(df_test_vectorized)\n",
    "pred"
   ]
  },
  {
   "cell_type": "markdown",
   "metadata": {},
   "source": [
    "## Submition"
   ]
  },
  {
   "cell_type": "code",
   "execution_count": 80,
   "metadata": {},
   "outputs": [],
   "source": [
    "pd.DataFrame(zip(df_test.index, pred), columns = ['id','target']).to_csv('pred_hw10.csv', sep=',', index=False)"
   ]
  },
  {
   "cell_type": "markdown",
   "metadata": {},
   "source": [
    "## Dump Final Model"
   ]
  },
  {
   "cell_type": "code",
   "execution_count": 24,
   "metadata": {},
   "outputs": [],
   "source": [
    "import pickle"
   ]
  },
  {
   "cell_type": "code",
   "execution_count": 31,
   "metadata": {},
   "outputs": [],
   "source": [
    "pickle.dump(final_model, open('final_model.pckl', 'wb'))"
   ]
  },
  {
   "cell_type": "code",
   "execution_count": 32,
   "metadata": {},
   "outputs": [],
   "source": [
    "pickle.dump(tfidf2, open('tfidf.pckl', 'wb'))"
   ]
  },
  {
   "cell_type": "markdown",
   "metadata": {},
   "source": [
    "## Memory Monitoring"
   ]
  },
  {
   "cell_type": "code",
   "execution_count": 102,
   "metadata": {},
   "outputs": [
    {
     "name": "stdout",
     "output_type": "stream",
     "text": [
      "                      df_train: 199.0 MiB\n",
      "                       df_test: 123.6 MiB\n",
      "                      tmp_dict:  5.0 MiB\n",
      "                     tmp_dict2:  5.0 MiB\n",
      "                 all_sentences:  3.3 MiB\n",
      "                             y:  1.7 MiB\n",
      "                         nones: 576.1 KiB\n",
      "                        nones2: 576.1 KiB\n",
      "                index2word_set: 512.2 KiB\n",
      "                       y_train: 339.8 KiB\n"
     ]
    }
   ],
   "source": [
    "# какие десять переменных занимают больше всего памяти\n",
    "import sys\n",
    "def sizeof_fmt(num, suffix='B'):\n",
    "    ''' by Fred Cirera,  https://stackoverflow.com/a/1094933/1870254, modified'''\n",
    "    for unit in ['','Ki','Mi','Gi','Ti','Pi','Ei','Zi']:\n",
    "        if abs(num) < 1024.0:\n",
    "            return \"%3.1f %s%s\" % (num, unit, suffix)\n",
    "        num /= 1024.0\n",
    "    return \"%.1f %s%s\" % (num, 'Yi', suffix)\n",
    "\n",
    "for name, size in sorted(((name, sys.getsizeof(value)) for name, value in locals().items()),\n",
    "                         key= lambda x: -x[1])[:10]:\n",
    "    print(\"{:>30}: {:>8}\".format(name, sizeof_fmt(size)))"
   ]
  },
  {
   "cell_type": "code",
   "execution_count": 103,
   "metadata": {},
   "outputs": [],
   "source": [
    "def reduce_mem_usage(df):\n",
    "    \"\"\" function by Bartosz Mikulski\n",
    "        https://www.mikulskibartosz.name/how-to-reduce-memory-usage-in-pandas/\n",
    "    \"\"\"\n",
    "    \n",
    "    start_mem = df.memory_usage().sum() / 1024**2\n",
    "    print('Memory usage of dataframe is {:.2f} MB'.format(start_mem))\n",
    "\n",
    "    for col in df.columns:\n",
    "        col_type = df[col].dtype\n",
    "    if col_type != object:\n",
    "            c_min = df[col].min()\n",
    "            c_max = df[col].max()\n",
    "            if str(col_type)[:3] == 'int':\n",
    "                if c_min > np.iinfo(np.int8).min and c_max < np.iinfo(np.int8).max:\n",
    "                    df[col] = df[col].astype(np.int8)\n",
    "                elif c_min > np.iinfo(np.uint8).min and c_max < np.iinfo(np.uint8).max:\n",
    "                    df[col] = df[col].astype(np.uint8)\n",
    "                elif c_min > np.iinfo(np.int16).min and c_max < np.iinfo(np.int16).max:\n",
    "                    df[col] = df[col].astype(np.int16)\n",
    "                elif c_min > np.iinfo(np.uint16).min and c_max < np.iinfo(np.uint16).max:\n",
    "                    df[col] = df[col].astype(np.uint16)\n",
    "                elif c_min > np.iinfo(np.int32).min and c_max < np.iinfo(np.int32).max:\n",
    "                    df[col] = df[col].astype(np.int32)\n",
    "                elif c_min > np.iinfo(np.uint32).min and c_max < np.iinfo(np.uint32).max:\n",
    "                    df[col] = df[col].astype(np.uint32)                    \n",
    "                elif c_min > np.iinfo(np.int64).min and c_max < np.iinfo(np.int64).max:\n",
    "                    df[col] = df[col].astype(np.int64)\n",
    "                elif c_min > np.iinfo(np.uint64).min and c_max < np.iinfo(np.uint64).max:\n",
    "                    df[col] = df[col].astype(np.uint64)\n",
    "            else:\n",
    "                if c_min > np.finfo(np.float16).min and c_max < np.finfo(np.float16).max:\n",
    "                    df[col] = df[col].astype(np.float16)\n",
    "                elif c_min > np.finfo(np.float32).min and c_max < np.finfo(np.float32).max:\n",
    "                    df[col] = df[col].astype(np.float32)\n",
    "                else:\n",
    "                    df[col] = df[col].astype(np.float64)\n",
    "\n",
    "    end_mem = df.memory_usage().sum() / 1024**2\n",
    "    print('Memory usage after optimization is: {:.2f} MB'.format(end_mem))\n",
    "    print('Decreased by {:.1f}%'.format(100 * (start_mem - end_mem) / start_mem))\n",
    "    return df"
   ]
  },
  {
   "cell_type": "code",
   "execution_count": 104,
   "metadata": {},
   "outputs": [
    {
     "name": "stdout",
     "output_type": "stream",
     "text": [
      "Memory usage of dataframe is 2.91 MB\n",
      "Memory usage after optimization is: 2.91 MB\n",
      "Decreased by 0.0%\n",
      "Memory usage of dataframe is 0.71 MB\n",
      "Memory usage after optimization is: 0.71 MB\n",
      "Decreased by 0.0%\n"
     ]
    }
   ],
   "source": [
    "df_train = reduce_mem_usage(df_train)\n",
    "df_test = reduce_mem_usage(df_test)"
   ]
  },
  {
   "cell_type": "code",
   "execution_count": null,
   "metadata": {},
   "outputs": [],
   "source": [
    "%reset"
   ]
  },
  {
   "cell_type": "code",
   "execution_count": null,
   "metadata": {},
   "outputs": [],
   "source": []
  }
 ],
 "metadata": {
  "kernelspec": {
   "display_name": "Python 3",
   "language": "python",
   "name": "python3"
  },
  "language_info": {
   "codemirror_mode": {
    "name": "ipython",
    "version": 3
   },
   "file_extension": ".py",
   "mimetype": "text/x-python",
   "name": "python",
   "nbconvert_exporter": "python",
   "pygments_lexer": "ipython3",
   "version": "3.6.8"
  }
 },
 "nbformat": 4,
 "nbformat_minor": 2
}
