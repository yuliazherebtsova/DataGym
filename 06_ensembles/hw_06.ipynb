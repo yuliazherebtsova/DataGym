{
 "cells": [
  {
   "cell_type": "code",
   "execution_count": 2,
   "metadata": {},
   "outputs": [],
   "source": [
    "import pandas as pd\n",
    "from sklearn.linear_model import LogisticRegression\n",
    "from sklearn.tree import DecisionTreeClassifier\n",
    "from sklearn.metrics import roc_auc_score"
   ]
  },
  {
   "cell_type": "code",
   "execution_count": 3,
   "metadata": {},
   "outputs": [
    {
     "name": "stdout",
     "output_type": "stream",
     "text": [
      "(7500, 29)\n",
      "(7500, 28)\n"
     ]
    }
   ],
   "source": [
    "train = pd.read_csv('hw3_train.csv')\n",
    "print(train.shape)\n",
    "y = train['use_direct_debit']\n",
    "train = train.drop('use_direct_debit', axis=1)\n",
    "print(train.shape)"
   ]
  },
  {
   "cell_type": "code",
   "execution_count": 4,
   "metadata": {},
   "outputs": [
    {
     "name": "stdout",
     "output_type": "stream",
     "text": [
      "(7500, 28)\n"
     ]
    }
   ],
   "source": [
    "test = pd.read_csv('hw3_test_data.csv')\n",
    "print(test.shape)"
   ]
  },
  {
   "cell_type": "code",
   "execution_count": 5,
   "metadata": {},
   "outputs": [],
   "source": [
    "# Стандартный подход: берем модель (дерево), обучаем, получаем предсказания\n",
    "\n",
    "dtc = DecisionTreeClassifier()\n",
    "dtc.fit(train, y)\n",
    "pred = dtc.predict_proba(test)[:,1] \n",
    "\n",
    "# Дает качество 0.687"
   ]
  },
  {
   "cell_type": "code",
   "execution_count": 6,
   "metadata": {},
   "outputs": [
    {
     "data": {
      "text/plain": [
       "0.573297302763832"
      ]
     },
     "execution_count": 6,
     "metadata": {},
     "output_type": "execute_result"
    }
   ],
   "source": [
    "roc_auc_score(y, pred)"
   ]
  },
  {
   "cell_type": "code",
   "execution_count": 7,
   "metadata": {},
   "outputs": [
    {
     "name": "stderr",
     "output_type": "stream",
     "text": [
      "/home/jupyterhub/jupyterhub_venv/lib/python3.6/site-packages/sklearn/linear_model/logistic.py:432: FutureWarning: Default solver will be changed to 'lbfgs' in 0.22. Specify a solver to silence this warning.\n",
      "  FutureWarning)\n"
     ]
    }
   ],
   "source": [
    "# Попробуем сделать стекинг\n",
    "\n",
    "dtc = DecisionTreeClassifier()\n",
    "lr = LogisticRegression()\n",
    "\n",
    "# Обучаем логрег и ее предсказания записываем в отдельную фичу\n",
    "lr.fit(train, y)\n",
    "train['new_stacking_feature_train'] = lr.predict_proba(train)[:,1] \n",
    "test['new_stacking_feature_test']   = lr.predict_proba(test)[:,1] \n",
    "\n",
    "# На всех данных с новой фичой обучаем новую модель (дерево) и делаем предсказание\n",
    "dtc.fit(train, y)\n",
    "pred = dtc.predict_proba(test)[:,1] \n",
    "\n",
    "# Дает качество 0.683"
   ]
  },
  {
   "cell_type": "code",
   "execution_count": 8,
   "metadata": {},
   "outputs": [
    {
     "data": {
      "text/plain": [
       "0.5683830407799558"
      ]
     },
     "execution_count": 8,
     "metadata": {},
     "output_type": "execute_result"
    }
   ],
   "source": [
    "roc_auc_score(y, pred)"
   ]
  },
  {
   "cell_type": "code",
   "execution_count": 9,
   "metadata": {},
   "outputs": [],
   "source": [
    "# Стало хуже\n",
    "# Есть проблема: ваша задача найти проблему и ее исправить"
   ]
  },
  {
   "cell_type": "code",
   "execution_count": 10,
   "metadata": {},
   "outputs": [],
   "source": [
    "# Новые фичи не создаем, другие модели не используем\n",
    "# Дело не в преобразовании старых фичей или в используемых моделях (дереве и лог-рег-е)"
   ]
  },
  {
   "cell_type": "markdown",
   "metadata": {},
   "source": [
    "### Реализуем обучение ансамбля правильно, как это описано в лекции"
   ]
  },
  {
   "cell_type": "markdown",
   "metadata": {},
   "source": [
    "Разобьем обучающую выборку на три множества $A, B$ и $C$:"
   ]
  },
  {
   "cell_type": "code",
   "execution_count": 160,
   "metadata": {},
   "outputs": [],
   "source": [
    "from sklearn.model_selection import train_test_split\n",
    "\n",
    "X_train_A, X_train_C, y_train_A, y_train_C = train_test_split(\n",
    "        train, y, test_size=0.4, random_state=0)"
   ]
  },
  {
   "cell_type": "code",
   "execution_count": 161,
   "metadata": {},
   "outputs": [
    {
     "data": {
      "text/plain": [
       "((4500, 29), (1238, 29))"
      ]
     },
     "execution_count": 161,
     "metadata": {},
     "output_type": "execute_result"
    }
   ],
   "source": [
    "X_train_A.shape, X_train_B.shape, "
   ]
  },
  {
   "cell_type": "code",
   "execution_count": 162,
   "metadata": {},
   "outputs": [],
   "source": [
    "X_train_A, X_train_B, y_train_A, y_train_B = train_test_split(\n",
    "        X_train_A, y_train_A, test_size=0.5, random_state=0)"
   ]
  },
  {
   "cell_type": "code",
   "execution_count": 163,
   "metadata": {},
   "outputs": [
    {
     "data": {
      "text/plain": [
       "((2250, 29), (2250, 29), (3000, 29))"
      ]
     },
     "execution_count": 163,
     "metadata": {},
     "output_type": "execute_result"
    }
   ],
   "source": [
    "X_train_A.shape, X_train_B.shape, X_train_C.shape"
   ]
  },
  {
   "cell_type": "code",
   "execution_count": 164,
   "metadata": {},
   "outputs": [
    {
     "data": {
      "text/html": [
       "<div>\n",
       "<style scoped>\n",
       "    .dataframe tbody tr th:only-of-type {\n",
       "        vertical-align: middle;\n",
       "    }\n",
       "\n",
       "    .dataframe tbody tr th {\n",
       "        vertical-align: top;\n",
       "    }\n",
       "\n",
       "    .dataframe thead th {\n",
       "        text-align: right;\n",
       "    }\n",
       "</style>\n",
       "<table border=\"1\" class=\"dataframe\">\n",
       "  <thead>\n",
       "    <tr style=\"text-align: right;\">\n",
       "      <th></th>\n",
       "      <th>customer_id</th>\n",
       "      <th>customer_residence_code</th>\n",
       "      <th>gender</th>\n",
       "      <th>age</th>\n",
       "      <th>is_new_customer</th>\n",
       "      <th>seniority_month</th>\n",
       "      <th>customer_type</th>\n",
       "      <th>customer_relation_type</th>\n",
       "      <th>residence_same_as_bank</th>\n",
       "      <th>country_same_as_bank</th>\n",
       "      <th>...</th>\n",
       "      <th>use_payroll_account</th>\n",
       "      <th>use_short_deposits</th>\n",
       "      <th>use_medium_deposits</th>\n",
       "      <th>use_long_deposits</th>\n",
       "      <th>use_e_account</th>\n",
       "      <th>use_loans</th>\n",
       "      <th>use_taxes</th>\n",
       "      <th>use_credit_card</th>\n",
       "      <th>use_pensions</th>\n",
       "      <th>new_stacking_feature_train</th>\n",
       "    </tr>\n",
       "  </thead>\n",
       "  <tbody>\n",
       "    <tr>\n",
       "      <td>6419</td>\n",
       "      <td>225370</td>\n",
       "      <td>1</td>\n",
       "      <td>0</td>\n",
       "      <td>23</td>\n",
       "      <td>0.0</td>\n",
       "      <td>35</td>\n",
       "      <td>1.0</td>\n",
       "      <td>0</td>\n",
       "      <td>2</td>\n",
       "      <td>0</td>\n",
       "      <td>...</td>\n",
       "      <td>0</td>\n",
       "      <td>0</td>\n",
       "      <td>0</td>\n",
       "      <td>0</td>\n",
       "      <td>0</td>\n",
       "      <td>0</td>\n",
       "      <td>0</td>\n",
       "      <td>0</td>\n",
       "      <td>0.0</td>\n",
       "      <td>0.110358</td>\n",
       "    </tr>\n",
       "    <tr>\n",
       "      <td>7426</td>\n",
       "      <td>327441</td>\n",
       "      <td>1</td>\n",
       "      <td>0</td>\n",
       "      <td>23</td>\n",
       "      <td>0.0</td>\n",
       "      <td>36</td>\n",
       "      <td>1.0</td>\n",
       "      <td>0</td>\n",
       "      <td>2</td>\n",
       "      <td>0</td>\n",
       "      <td>...</td>\n",
       "      <td>0</td>\n",
       "      <td>0</td>\n",
       "      <td>0</td>\n",
       "      <td>0</td>\n",
       "      <td>0</td>\n",
       "      <td>0</td>\n",
       "      <td>0</td>\n",
       "      <td>0</td>\n",
       "      <td>0.0</td>\n",
       "      <td>0.120518</td>\n",
       "    </tr>\n",
       "    <tr>\n",
       "      <td>4128</td>\n",
       "      <td>338589</td>\n",
       "      <td>1</td>\n",
       "      <td>0</td>\n",
       "      <td>39</td>\n",
       "      <td>0.0</td>\n",
       "      <td>37</td>\n",
       "      <td>1.0</td>\n",
       "      <td>1</td>\n",
       "      <td>2</td>\n",
       "      <td>0</td>\n",
       "      <td>...</td>\n",
       "      <td>0</td>\n",
       "      <td>0</td>\n",
       "      <td>0</td>\n",
       "      <td>0</td>\n",
       "      <td>1</td>\n",
       "      <td>0</td>\n",
       "      <td>0</td>\n",
       "      <td>0</td>\n",
       "      <td>0.0</td>\n",
       "      <td>0.181329</td>\n",
       "    </tr>\n",
       "    <tr>\n",
       "      <td>3206</td>\n",
       "      <td>202995</td>\n",
       "      <td>1</td>\n",
       "      <td>0</td>\n",
       "      <td>39</td>\n",
       "      <td>0.0</td>\n",
       "      <td>38</td>\n",
       "      <td>1.0</td>\n",
       "      <td>1</td>\n",
       "      <td>2</td>\n",
       "      <td>0</td>\n",
       "      <td>...</td>\n",
       "      <td>0</td>\n",
       "      <td>0</td>\n",
       "      <td>0</td>\n",
       "      <td>0</td>\n",
       "      <td>0</td>\n",
       "      <td>0</td>\n",
       "      <td>0</td>\n",
       "      <td>0</td>\n",
       "      <td>0.0</td>\n",
       "      <td>0.107740</td>\n",
       "    </tr>\n",
       "    <tr>\n",
       "      <td>4274</td>\n",
       "      <td>302722</td>\n",
       "      <td>1</td>\n",
       "      <td>0</td>\n",
       "      <td>15</td>\n",
       "      <td>0.0</td>\n",
       "      <td>37</td>\n",
       "      <td>1.0</td>\n",
       "      <td>1</td>\n",
       "      <td>2</td>\n",
       "      <td>0</td>\n",
       "      <td>...</td>\n",
       "      <td>0</td>\n",
       "      <td>0</td>\n",
       "      <td>0</td>\n",
       "      <td>0</td>\n",
       "      <td>0</td>\n",
       "      <td>0</td>\n",
       "      <td>0</td>\n",
       "      <td>0</td>\n",
       "      <td>0.0</td>\n",
       "      <td>0.121332</td>\n",
       "    </tr>\n",
       "  </tbody>\n",
       "</table>\n",
       "<p>5 rows × 29 columns</p>\n",
       "</div>"
      ],
      "text/plain": [
       "      customer_id  customer_residence_code  gender  age  is_new_customer  \\\n",
       "6419       225370                        1       0   23              0.0   \n",
       "7426       327441                        1       0   23              0.0   \n",
       "4128       338589                        1       0   39              0.0   \n",
       "3206       202995                        1       0   39              0.0   \n",
       "4274       302722                        1       0   15              0.0   \n",
       "\n",
       "      seniority_month  customer_type  customer_relation_type  \\\n",
       "6419               35            1.0                       0   \n",
       "7426               36            1.0                       0   \n",
       "4128               37            1.0                       1   \n",
       "3206               38            1.0                       1   \n",
       "4274               37            1.0                       1   \n",
       "\n",
       "      residence_same_as_bank  country_same_as_bank  ...  use_payroll_account  \\\n",
       "6419                       2                     0  ...                    0   \n",
       "7426                       2                     0  ...                    0   \n",
       "4128                       2                     0  ...                    0   \n",
       "3206                       2                     0  ...                    0   \n",
       "4274                       2                     0  ...                    0   \n",
       "\n",
       "      use_short_deposits  use_medium_deposits  use_long_deposits  \\\n",
       "6419                   0                    0                  0   \n",
       "7426                   0                    0                  0   \n",
       "4128                   0                    0                  0   \n",
       "3206                   0                    0                  0   \n",
       "4274                   0                    0                  0   \n",
       "\n",
       "      use_e_account  use_loans  use_taxes  use_credit_card  use_pensions  \\\n",
       "6419              0          0          0                0           0.0   \n",
       "7426              0          0          0                0           0.0   \n",
       "4128              1          0          0                0           0.0   \n",
       "3206              0          0          0                0           0.0   \n",
       "4274              0          0          0                0           0.0   \n",
       "\n",
       "      new_stacking_feature_train  \n",
       "6419                    0.110358  \n",
       "7426                    0.120518  \n",
       "4128                    0.181329  \n",
       "3206                    0.107740  \n",
       "4274                    0.121332  \n",
       "\n",
       "[5 rows x 29 columns]"
      ]
     },
     "execution_count": 164,
     "metadata": {},
     "output_type": "execute_result"
    }
   ],
   "source": [
    "X_train_A.head()"
   ]
  },
  {
   "cell_type": "code",
   "execution_count": 165,
   "metadata": {},
   "outputs": [
    {
     "data": {
      "text/html": [
       "<div>\n",
       "<style scoped>\n",
       "    .dataframe tbody tr th:only-of-type {\n",
       "        vertical-align: middle;\n",
       "    }\n",
       "\n",
       "    .dataframe tbody tr th {\n",
       "        vertical-align: top;\n",
       "    }\n",
       "\n",
       "    .dataframe thead th {\n",
       "        text-align: right;\n",
       "    }\n",
       "</style>\n",
       "<table border=\"1\" class=\"dataframe\">\n",
       "  <thead>\n",
       "    <tr style=\"text-align: right;\">\n",
       "      <th></th>\n",
       "      <th>customer_id</th>\n",
       "      <th>customer_residence_code</th>\n",
       "      <th>gender</th>\n",
       "      <th>age</th>\n",
       "      <th>is_new_customer</th>\n",
       "      <th>seniority_month</th>\n",
       "      <th>customer_type</th>\n",
       "      <th>customer_relation_type</th>\n",
       "      <th>residence_same_as_bank</th>\n",
       "      <th>country_same_as_bank</th>\n",
       "      <th>...</th>\n",
       "      <th>use_payroll_account</th>\n",
       "      <th>use_short_deposits</th>\n",
       "      <th>use_medium_deposits</th>\n",
       "      <th>use_long_deposits</th>\n",
       "      <th>use_e_account</th>\n",
       "      <th>use_loans</th>\n",
       "      <th>use_taxes</th>\n",
       "      <th>use_credit_card</th>\n",
       "      <th>use_pensions</th>\n",
       "      <th>new_stacking_feature_train</th>\n",
       "    </tr>\n",
       "  </thead>\n",
       "  <tbody>\n",
       "    <tr>\n",
       "      <td>3177</td>\n",
       "      <td>200887</td>\n",
       "      <td>1</td>\n",
       "      <td>0</td>\n",
       "      <td>25</td>\n",
       "      <td>0.0</td>\n",
       "      <td>38</td>\n",
       "      <td>1.0</td>\n",
       "      <td>1</td>\n",
       "      <td>2</td>\n",
       "      <td>2</td>\n",
       "      <td>...</td>\n",
       "      <td>0</td>\n",
       "      <td>0</td>\n",
       "      <td>0</td>\n",
       "      <td>0</td>\n",
       "      <td>0</td>\n",
       "      <td>0</td>\n",
       "      <td>0</td>\n",
       "      <td>0</td>\n",
       "      <td>0.0</td>\n",
       "      <td>0.094049</td>\n",
       "    </tr>\n",
       "    <tr>\n",
       "      <td>2668</td>\n",
       "      <td>292368</td>\n",
       "      <td>1</td>\n",
       "      <td>2</td>\n",
       "      <td>50</td>\n",
       "      <td>0.0</td>\n",
       "      <td>38</td>\n",
       "      <td>1.0</td>\n",
       "      <td>0</td>\n",
       "      <td>2</td>\n",
       "      <td>0</td>\n",
       "      <td>...</td>\n",
       "      <td>0</td>\n",
       "      <td>0</td>\n",
       "      <td>0</td>\n",
       "      <td>0</td>\n",
       "      <td>1</td>\n",
       "      <td>0</td>\n",
       "      <td>0</td>\n",
       "      <td>0</td>\n",
       "      <td>0.0</td>\n",
       "      <td>0.150128</td>\n",
       "    </tr>\n",
       "    <tr>\n",
       "      <td>7435</td>\n",
       "      <td>328030</td>\n",
       "      <td>1</td>\n",
       "      <td>2</td>\n",
       "      <td>31</td>\n",
       "      <td>0.0</td>\n",
       "      <td>36</td>\n",
       "      <td>1.0</td>\n",
       "      <td>1</td>\n",
       "      <td>2</td>\n",
       "      <td>0</td>\n",
       "      <td>...</td>\n",
       "      <td>0</td>\n",
       "      <td>0</td>\n",
       "      <td>0</td>\n",
       "      <td>0</td>\n",
       "      <td>0</td>\n",
       "      <td>0</td>\n",
       "      <td>0</td>\n",
       "      <td>0</td>\n",
       "      <td>0.0</td>\n",
       "      <td>0.128463</td>\n",
       "    </tr>\n",
       "    <tr>\n",
       "      <td>6868</td>\n",
       "      <td>181133</td>\n",
       "      <td>1</td>\n",
       "      <td>2</td>\n",
       "      <td>25</td>\n",
       "      <td>0.0</td>\n",
       "      <td>35</td>\n",
       "      <td>1.0</td>\n",
       "      <td>1</td>\n",
       "      <td>2</td>\n",
       "      <td>0</td>\n",
       "      <td>...</td>\n",
       "      <td>0</td>\n",
       "      <td>0</td>\n",
       "      <td>0</td>\n",
       "      <td>0</td>\n",
       "      <td>0</td>\n",
       "      <td>0</td>\n",
       "      <td>0</td>\n",
       "      <td>0</td>\n",
       "      <td>0.0</td>\n",
       "      <td>0.104087</td>\n",
       "    </tr>\n",
       "    <tr>\n",
       "      <td>701</td>\n",
       "      <td>93980</td>\n",
       "      <td>1</td>\n",
       "      <td>0</td>\n",
       "      <td>23</td>\n",
       "      <td>0.0</td>\n",
       "      <td>36</td>\n",
       "      <td>1.0</td>\n",
       "      <td>0</td>\n",
       "      <td>2</td>\n",
       "      <td>0</td>\n",
       "      <td>...</td>\n",
       "      <td>0</td>\n",
       "      <td>0</td>\n",
       "      <td>0</td>\n",
       "      <td>0</td>\n",
       "      <td>0</td>\n",
       "      <td>0</td>\n",
       "      <td>0</td>\n",
       "      <td>0</td>\n",
       "      <td>0.0</td>\n",
       "      <td>0.085792</td>\n",
       "    </tr>\n",
       "  </tbody>\n",
       "</table>\n",
       "<p>5 rows × 29 columns</p>\n",
       "</div>"
      ],
      "text/plain": [
       "      customer_id  customer_residence_code  gender  age  is_new_customer  \\\n",
       "3177       200887                        1       0   25              0.0   \n",
       "2668       292368                        1       2   50              0.0   \n",
       "7435       328030                        1       2   31              0.0   \n",
       "6868       181133                        1       2   25              0.0   \n",
       "701         93980                        1       0   23              0.0   \n",
       "\n",
       "      seniority_month  customer_type  customer_relation_type  \\\n",
       "3177               38            1.0                       1   \n",
       "2668               38            1.0                       0   \n",
       "7435               36            1.0                       1   \n",
       "6868               35            1.0                       1   \n",
       "701                36            1.0                       0   \n",
       "\n",
       "      residence_same_as_bank  country_same_as_bank  ...  use_payroll_account  \\\n",
       "3177                       2                     2  ...                    0   \n",
       "2668                       2                     0  ...                    0   \n",
       "7435                       2                     0  ...                    0   \n",
       "6868                       2                     0  ...                    0   \n",
       "701                        2                     0  ...                    0   \n",
       "\n",
       "      use_short_deposits  use_medium_deposits  use_long_deposits  \\\n",
       "3177                   0                    0                  0   \n",
       "2668                   0                    0                  0   \n",
       "7435                   0                    0                  0   \n",
       "6868                   0                    0                  0   \n",
       "701                    0                    0                  0   \n",
       "\n",
       "      use_e_account  use_loans  use_taxes  use_credit_card  use_pensions  \\\n",
       "3177              0          0          0                0           0.0   \n",
       "2668              1          0          0                0           0.0   \n",
       "7435              0          0          0                0           0.0   \n",
       "6868              0          0          0                0           0.0   \n",
       "701               0          0          0                0           0.0   \n",
       "\n",
       "      new_stacking_feature_train  \n",
       "3177                    0.094049  \n",
       "2668                    0.150128  \n",
       "7435                    0.128463  \n",
       "6868                    0.104087  \n",
       "701                     0.085792  \n",
       "\n",
       "[5 rows x 29 columns]"
      ]
     },
     "execution_count": 165,
     "metadata": {},
     "output_type": "execute_result"
    }
   ],
   "source": [
    "X_train_B.head()"
   ]
  },
  {
   "cell_type": "code",
   "execution_count": 166,
   "metadata": {},
   "outputs": [
    {
     "data": {
      "text/html": [
       "<div>\n",
       "<style scoped>\n",
       "    .dataframe tbody tr th:only-of-type {\n",
       "        vertical-align: middle;\n",
       "    }\n",
       "\n",
       "    .dataframe tbody tr th {\n",
       "        vertical-align: top;\n",
       "    }\n",
       "\n",
       "    .dataframe thead th {\n",
       "        text-align: right;\n",
       "    }\n",
       "</style>\n",
       "<table border=\"1\" class=\"dataframe\">\n",
       "  <thead>\n",
       "    <tr style=\"text-align: right;\">\n",
       "      <th></th>\n",
       "      <th>customer_id</th>\n",
       "      <th>customer_residence_code</th>\n",
       "      <th>gender</th>\n",
       "      <th>age</th>\n",
       "      <th>is_new_customer</th>\n",
       "      <th>seniority_month</th>\n",
       "      <th>customer_type</th>\n",
       "      <th>customer_relation_type</th>\n",
       "      <th>residence_same_as_bank</th>\n",
       "      <th>country_same_as_bank</th>\n",
       "      <th>...</th>\n",
       "      <th>use_payroll_account</th>\n",
       "      <th>use_short_deposits</th>\n",
       "      <th>use_medium_deposits</th>\n",
       "      <th>use_long_deposits</th>\n",
       "      <th>use_e_account</th>\n",
       "      <th>use_loans</th>\n",
       "      <th>use_taxes</th>\n",
       "      <th>use_credit_card</th>\n",
       "      <th>use_pensions</th>\n",
       "      <th>new_stacking_feature_train</th>\n",
       "    </tr>\n",
       "  </thead>\n",
       "  <tbody>\n",
       "    <tr>\n",
       "      <td>1563</td>\n",
       "      <td>226908</td>\n",
       "      <td>1</td>\n",
       "      <td>0</td>\n",
       "      <td>23</td>\n",
       "      <td>0.0</td>\n",
       "      <td>36</td>\n",
       "      <td>1.0</td>\n",
       "      <td>1</td>\n",
       "      <td>2</td>\n",
       "      <td>0</td>\n",
       "      <td>...</td>\n",
       "      <td>0</td>\n",
       "      <td>0</td>\n",
       "      <td>0</td>\n",
       "      <td>0</td>\n",
       "      <td>0</td>\n",
       "      <td>0</td>\n",
       "      <td>0</td>\n",
       "      <td>0</td>\n",
       "      <td>0.0</td>\n",
       "      <td>0.104084</td>\n",
       "    </tr>\n",
       "    <tr>\n",
       "      <td>5333</td>\n",
       "      <td>58838</td>\n",
       "      <td>1</td>\n",
       "      <td>2</td>\n",
       "      <td>23</td>\n",
       "      <td>0.0</td>\n",
       "      <td>36</td>\n",
       "      <td>1.0</td>\n",
       "      <td>1</td>\n",
       "      <td>2</td>\n",
       "      <td>0</td>\n",
       "      <td>...</td>\n",
       "      <td>0</td>\n",
       "      <td>0</td>\n",
       "      <td>0</td>\n",
       "      <td>0</td>\n",
       "      <td>0</td>\n",
       "      <td>0</td>\n",
       "      <td>0</td>\n",
       "      <td>0</td>\n",
       "      <td>0.0</td>\n",
       "      <td>0.081682</td>\n",
       "    </tr>\n",
       "    <tr>\n",
       "      <td>7424</td>\n",
       "      <td>326573</td>\n",
       "      <td>1</td>\n",
       "      <td>2</td>\n",
       "      <td>23</td>\n",
       "      <td>0.0</td>\n",
       "      <td>36</td>\n",
       "      <td>1.0</td>\n",
       "      <td>1</td>\n",
       "      <td>2</td>\n",
       "      <td>0</td>\n",
       "      <td>...</td>\n",
       "      <td>0</td>\n",
       "      <td>0</td>\n",
       "      <td>0</td>\n",
       "      <td>0</td>\n",
       "      <td>0</td>\n",
       "      <td>0</td>\n",
       "      <td>0</td>\n",
       "      <td>0</td>\n",
       "      <td>0.0</td>\n",
       "      <td>0.119449</td>\n",
       "    </tr>\n",
       "    <tr>\n",
       "      <td>6731</td>\n",
       "      <td>151683</td>\n",
       "      <td>1</td>\n",
       "      <td>2</td>\n",
       "      <td>23</td>\n",
       "      <td>0.0</td>\n",
       "      <td>35</td>\n",
       "      <td>1.0</td>\n",
       "      <td>1</td>\n",
       "      <td>2</td>\n",
       "      <td>0</td>\n",
       "      <td>...</td>\n",
       "      <td>0</td>\n",
       "      <td>0</td>\n",
       "      <td>0</td>\n",
       "      <td>0</td>\n",
       "      <td>0</td>\n",
       "      <td>0</td>\n",
       "      <td>0</td>\n",
       "      <td>0</td>\n",
       "      <td>0.0</td>\n",
       "      <td>0.097991</td>\n",
       "    </tr>\n",
       "    <tr>\n",
       "      <td>4178</td>\n",
       "      <td>332327</td>\n",
       "      <td>1</td>\n",
       "      <td>2</td>\n",
       "      <td>39</td>\n",
       "      <td>0.0</td>\n",
       "      <td>37</td>\n",
       "      <td>1.0</td>\n",
       "      <td>1</td>\n",
       "      <td>2</td>\n",
       "      <td>2</td>\n",
       "      <td>...</td>\n",
       "      <td>0</td>\n",
       "      <td>0</td>\n",
       "      <td>0</td>\n",
       "      <td>0</td>\n",
       "      <td>0</td>\n",
       "      <td>0</td>\n",
       "      <td>0</td>\n",
       "      <td>0</td>\n",
       "      <td>0.0</td>\n",
       "      <td>0.151123</td>\n",
       "    </tr>\n",
       "  </tbody>\n",
       "</table>\n",
       "<p>5 rows × 29 columns</p>\n",
       "</div>"
      ],
      "text/plain": [
       "      customer_id  customer_residence_code  gender  age  is_new_customer  \\\n",
       "1563       226908                        1       0   23              0.0   \n",
       "5333        58838                        1       2   23              0.0   \n",
       "7424       326573                        1       2   23              0.0   \n",
       "6731       151683                        1       2   23              0.0   \n",
       "4178       332327                        1       2   39              0.0   \n",
       "\n",
       "      seniority_month  customer_type  customer_relation_type  \\\n",
       "1563               36            1.0                       1   \n",
       "5333               36            1.0                       1   \n",
       "7424               36            1.0                       1   \n",
       "6731               35            1.0                       1   \n",
       "4178               37            1.0                       1   \n",
       "\n",
       "      residence_same_as_bank  country_same_as_bank  ...  use_payroll_account  \\\n",
       "1563                       2                     0  ...                    0   \n",
       "5333                       2                     0  ...                    0   \n",
       "7424                       2                     0  ...                    0   \n",
       "6731                       2                     0  ...                    0   \n",
       "4178                       2                     2  ...                    0   \n",
       "\n",
       "      use_short_deposits  use_medium_deposits  use_long_deposits  \\\n",
       "1563                   0                    0                  0   \n",
       "5333                   0                    0                  0   \n",
       "7424                   0                    0                  0   \n",
       "6731                   0                    0                  0   \n",
       "4178                   0                    0                  0   \n",
       "\n",
       "      use_e_account  use_loans  use_taxes  use_credit_card  use_pensions  \\\n",
       "1563              0          0          0                0           0.0   \n",
       "5333              0          0          0                0           0.0   \n",
       "7424              0          0          0                0           0.0   \n",
       "6731              0          0          0                0           0.0   \n",
       "4178              0          0          0                0           0.0   \n",
       "\n",
       "      new_stacking_feature_train  \n",
       "1563                    0.104084  \n",
       "5333                    0.081682  \n",
       "7424                    0.119449  \n",
       "6731                    0.097991  \n",
       "4178                    0.151123  \n",
       "\n",
       "[5 rows x 29 columns]"
      ]
     },
     "execution_count": 166,
     "metadata": {},
     "output_type": "execute_result"
    }
   ],
   "source": [
    "X_train_C.head()"
   ]
  },
  {
   "cell_type": "markdown",
   "metadata": {},
   "source": [
    "Учим базовую модель $h_i(x)$ - в данном случае одну логистическую регрессию - на множестве $А$, и предсказываем - на $B$ и $C$"
   ]
  },
  {
   "cell_type": "code",
   "execution_count": 167,
   "metadata": {},
   "outputs": [
    {
     "name": "stderr",
     "output_type": "stream",
     "text": [
      "/home/jupyterhub/jupyterhub_venv/lib/python3.6/site-packages/sklearn/linear_model/logistic.py:432: FutureWarning: Default solver will be changed to 'lbfgs' in 0.22. Specify a solver to silence this warning.\n",
      "  FutureWarning)\n"
     ]
    }
   ],
   "source": [
    "lr = LogisticRegression()\n",
    "lr.fit(X_train_A, y_train_A)\n",
    "pred_B = lr.predict_proba(X_train_B)[:,1]\n",
    "pred_C = lr.predict_proba(X_train_C)[:,1] "
   ]
  },
  {
   "cell_type": "markdown",
   "metadata": {},
   "source": [
    "На предсказаниях для $B$ обучаем модель второго уровня (решающее правило $d(h_i(x))$ - в данном случае дерево решений с новой фичой с предсказанием от логистической регрессии:"
   ]
  },
  {
   "cell_type": "code",
   "execution_count": 168,
   "metadata": {},
   "outputs": [],
   "source": [
    "dtc = DecisionTreeClassifier()\n",
    "X_train_B['new_stacking_feature_train'] = pred_B\n",
    "\n",
    "dtc.fit(X_train_B, y_train_B);"
   ]
  },
  {
   "cell_type": "markdown",
   "metadata": {},
   "source": [
    "Используем $d$ для получения финальных предсказаний для $C$:"
   ]
  },
  {
   "cell_type": "code",
   "execution_count": 169,
   "metadata": {},
   "outputs": [
    {
     "name": "stderr",
     "output_type": "stream",
     "text": [
      "/home/jupyterhub/jupyterhub_venv/lib/python3.6/site-packages/ipykernel_launcher.py:1: SettingWithCopyWarning: \n",
      "A value is trying to be set on a copy of a slice from a DataFrame.\n",
      "Try using .loc[row_indexer,col_indexer] = value instead\n",
      "\n",
      "See the caveats in the documentation: http://pandas.pydata.org/pandas-docs/stable/user_guide/indexing.html#returning-a-view-versus-a-copy\n",
      "  \"\"\"Entry point for launching an IPython kernel.\n"
     ]
    }
   ],
   "source": [
    "X_train_C['new_stacking_feature_train'] = pred_C\n",
    "pred_final = dtc.predict_proba(X_train_C)[:,1] "
   ]
  },
  {
   "cell_type": "code",
   "execution_count": 170,
   "metadata": {},
   "outputs": [
    {
     "data": {
      "text/plain": [
       "0.6931600947842063"
      ]
     },
     "execution_count": 170,
     "metadata": {},
     "output_type": "execute_result"
    }
   ],
   "source": [
    "# стало\n",
    "new_score = roc_auc_score(y_train_C, pred_final)\n",
    "new_score"
   ]
  },
  {
   "cell_type": "code",
   "execution_count": 171,
   "metadata": {},
   "outputs": [
    {
     "data": {
      "text/plain": [
       "0.5683830407799558"
      ]
     },
     "execution_count": 171,
     "metadata": {},
     "output_type": "execute_result"
    }
   ],
   "source": [
    "# было\n",
    "old_score = roc_auc_score(y, pred)\n",
    "old_score"
   ]
  },
  {
   "cell_type": "markdown",
   "metadata": {},
   "source": [
    "Видим, что от стекинга и правильной валидации на обучающей выборке score увеличился на:"
   ]
  },
  {
   "cell_type": "code",
   "execution_count": 172,
   "metadata": {},
   "outputs": [
    {
     "data": {
      "text/plain": [
       "0.12477705400425043"
      ]
     },
     "execution_count": 172,
     "metadata": {},
     "output_type": "execute_result"
    }
   ],
   "source": [
    "abs(new_score-old_score)"
   ]
  },
  {
   "cell_type": "code",
   "execution_count": null,
   "metadata": {},
   "outputs": [],
   "source": []
  }
 ],
 "metadata": {
  "kernelspec": {
   "display_name": "Python 3",
   "language": "python",
   "name": "python3"
  },
  "language_info": {
   "codemirror_mode": {
    "name": "ipython",
    "version": 3
   },
   "file_extension": ".py",
   "mimetype": "text/x-python",
   "name": "python",
   "nbconvert_exporter": "python",
   "pygments_lexer": "ipython3",
   "version": "3.6.8"
  }
 },
 "nbformat": 4,
 "nbformat_minor": 2
}
