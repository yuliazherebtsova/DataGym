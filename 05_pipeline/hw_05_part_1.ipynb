{
 "cells": [
  {
   "cell_type": "code",
   "execution_count": 1244,
   "metadata": {},
   "outputs": [],
   "source": [
    "%matplotlib inline"
   ]
  },
  {
   "cell_type": "code",
   "execution_count": 1245,
   "metadata": {},
   "outputs": [],
   "source": [
    "import pandas as pd\n",
    "import numpy as np\n",
    "import matplotlib.pyplot as plt\n",
    "\n",
    "\n",
    "plt.style.use('ggplot')\n",
    "plt.rcParams['figure.figsize'] = (12, 8)"
   ]
  },
  {
   "cell_type": "markdown",
   "metadata": {},
   "source": [
    "# Собственный трансформер категориальных переменных \n",
    "## Target Encoder"
   ]
  },
  {
   "cell_type": "markdown",
   "metadata": {},
   "source": [
    "Категориальные переменные могут быть очень полезны для моделирования. Крайне важно подать их в модель наиболее эффективным способом.\n",
    "\n",
    "Мы с вами изучили один из способов - OneHotEncoding. Такое представление может быть хорошо воспринято линейными моделями, но его [не рекомендуется](https://roamanalytics.com/2016/10/28/are-categorical-variables-getting-lost-in-your-random-forests/) использовать для деревянных методов. А с метрическими - все еще сложнее.\n",
    "\n",
    "Сейчас мы с вами попробуем понять новый подход кодирования категориальных переменных с использованием целевой переменной - Target Encoding. Способов его реализовать [довольно много](https://towardsdatascience.com/benchmarking-categorical-encoders-9c322bd77ee8), мы рассмотрим наиболее простой из них"
   ]
  },
  {
   "cell_type": "markdown",
   "metadata": {},
   "source": [
    "Рассмотрим датасет `data_train` из одной категориальной переменной `category` и целевой переменной `y`."
   ]
  },
  {
   "cell_type": "code",
   "execution_count": 1246,
   "metadata": {},
   "outputs": [
    {
     "data": {
      "text/html": [
       "<div>\n",
       "<style scoped>\n",
       "    .dataframe tbody tr th:only-of-type {\n",
       "        vertical-align: middle;\n",
       "    }\n",
       "\n",
       "    .dataframe tbody tr th {\n",
       "        vertical-align: top;\n",
       "    }\n",
       "\n",
       "    .dataframe thead th {\n",
       "        text-align: right;\n",
       "    }\n",
       "</style>\n",
       "<table border=\"1\" class=\"dataframe\">\n",
       "  <thead>\n",
       "    <tr style=\"text-align: right;\">\n",
       "      <th></th>\n",
       "      <th>category</th>\n",
       "      <th>y</th>\n",
       "    </tr>\n",
       "  </thead>\n",
       "  <tbody>\n",
       "    <tr>\n",
       "      <td>0</td>\n",
       "      <td>1</td>\n",
       "      <td>0</td>\n",
       "    </tr>\n",
       "    <tr>\n",
       "      <td>1</td>\n",
       "      <td>1</td>\n",
       "      <td>0</td>\n",
       "    </tr>\n",
       "    <tr>\n",
       "      <td>2</td>\n",
       "      <td>1</td>\n",
       "      <td>1</td>\n",
       "    </tr>\n",
       "    <tr>\n",
       "      <td>3</td>\n",
       "      <td>1</td>\n",
       "      <td>1</td>\n",
       "    </tr>\n",
       "    <tr>\n",
       "      <td>4</td>\n",
       "      <td>1</td>\n",
       "      <td>0</td>\n",
       "    </tr>\n",
       "    <tr>\n",
       "      <td>5</td>\n",
       "      <td>2</td>\n",
       "      <td>1</td>\n",
       "    </tr>\n",
       "    <tr>\n",
       "      <td>6</td>\n",
       "      <td>2</td>\n",
       "      <td>1</td>\n",
       "    </tr>\n",
       "    <tr>\n",
       "      <td>7</td>\n",
       "      <td>2</td>\n",
       "      <td>0</td>\n",
       "    </tr>\n",
       "    <tr>\n",
       "      <td>8</td>\n",
       "      <td>3</td>\n",
       "      <td>0</td>\n",
       "    </tr>\n",
       "    <tr>\n",
       "      <td>9</td>\n",
       "      <td>3</td>\n",
       "      <td>0</td>\n",
       "    </tr>\n",
       "    <tr>\n",
       "      <td>10</td>\n",
       "      <td>3</td>\n",
       "      <td>0</td>\n",
       "    </tr>\n",
       "    <tr>\n",
       "      <td>11</td>\n",
       "      <td>3</td>\n",
       "      <td>1</td>\n",
       "    </tr>\n",
       "  </tbody>\n",
       "</table>\n",
       "</div>"
      ],
      "text/plain": [
       "    category  y\n",
       "0          1  0\n",
       "1          1  0\n",
       "2          1  1\n",
       "3          1  1\n",
       "4          1  0\n",
       "5          2  1\n",
       "6          2  1\n",
       "7          2  0\n",
       "8          3  0\n",
       "9          3  0\n",
       "10         3  0\n",
       "11         3  1"
      ]
     },
     "execution_count": 1246,
     "metadata": {},
     "output_type": "execute_result"
    }
   ],
   "source": [
    "data_train = pd.DataFrame(data={\n",
    "    'category': [1] * 5 + [2] * 3 + [3] * 4,\n",
    "    'y': [0, 0, 1, 1, 0, 1, 1, 0, 0, 0, 0, 1]\n",
    "})\n",
    "\n",
    "data_train"
   ]
  },
  {
   "cell_type": "markdown",
   "metadata": {},
   "source": [
    "Target encoding, как следует из названия, использует целевую переменную. Идея его довольно проста:\n",
    "* Давайте для каждой категории посчитаем усредненное значение целевой переменной\n",
    "* Заменим индекс категории на это значение\n",
    "* Исходный столбец удаляется\n",
    "\n",
    "Если написать это в виде формул то получим:\n",
    "\n",
    "$$ v_c = \\frac{\\sum_{i \\in c}y_i}{N} $$\n",
    "* $v_c$ - это значение, которое получится для категории $c$\n",
    "* $N$ - это общее количество объектов\n",
    "\n",
    "Если писать это на pandas, получится следующее:"
   ]
  },
  {
   "cell_type": "code",
   "execution_count": 1247,
   "metadata": {},
   "outputs": [
    {
     "data": {
      "text/plain": [
       "category\n",
       "1    0.400000\n",
       "2    0.666667\n",
       "3    0.250000\n",
       "Name: y, dtype: float64"
      ]
     },
     "execution_count": 1247,
     "metadata": {},
     "output_type": "execute_result"
    }
   ],
   "source": [
    "category_encoding = data_train.groupby('category').y.mean()\n",
    "category_encoding"
   ]
  },
  {
   "cell_type": "code",
   "execution_count": 1248,
   "metadata": {},
   "outputs": [],
   "source": [
    "data_train.loc[:, 'category_encoding'] = data_train.category.replace(category_encoding)"
   ]
  },
  {
   "cell_type": "code",
   "execution_count": 1249,
   "metadata": {},
   "outputs": [
    {
     "data": {
      "text/html": [
       "<div>\n",
       "<style scoped>\n",
       "    .dataframe tbody tr th:only-of-type {\n",
       "        vertical-align: middle;\n",
       "    }\n",
       "\n",
       "    .dataframe tbody tr th {\n",
       "        vertical-align: top;\n",
       "    }\n",
       "\n",
       "    .dataframe thead th {\n",
       "        text-align: right;\n",
       "    }\n",
       "</style>\n",
       "<table border=\"1\" class=\"dataframe\">\n",
       "  <thead>\n",
       "    <tr style=\"text-align: right;\">\n",
       "      <th></th>\n",
       "      <th>category</th>\n",
       "      <th>category_encoding</th>\n",
       "      <th>y</th>\n",
       "    </tr>\n",
       "  </thead>\n",
       "  <tbody>\n",
       "    <tr>\n",
       "      <td>0</td>\n",
       "      <td>1</td>\n",
       "      <td>0.400000</td>\n",
       "      <td>0</td>\n",
       "    </tr>\n",
       "    <tr>\n",
       "      <td>1</td>\n",
       "      <td>1</td>\n",
       "      <td>0.400000</td>\n",
       "      <td>0</td>\n",
       "    </tr>\n",
       "    <tr>\n",
       "      <td>2</td>\n",
       "      <td>1</td>\n",
       "      <td>0.400000</td>\n",
       "      <td>1</td>\n",
       "    </tr>\n",
       "    <tr>\n",
       "      <td>3</td>\n",
       "      <td>1</td>\n",
       "      <td>0.400000</td>\n",
       "      <td>1</td>\n",
       "    </tr>\n",
       "    <tr>\n",
       "      <td>4</td>\n",
       "      <td>1</td>\n",
       "      <td>0.400000</td>\n",
       "      <td>0</td>\n",
       "    </tr>\n",
       "    <tr>\n",
       "      <td>5</td>\n",
       "      <td>2</td>\n",
       "      <td>0.666667</td>\n",
       "      <td>1</td>\n",
       "    </tr>\n",
       "    <tr>\n",
       "      <td>6</td>\n",
       "      <td>2</td>\n",
       "      <td>0.666667</td>\n",
       "      <td>1</td>\n",
       "    </tr>\n",
       "    <tr>\n",
       "      <td>7</td>\n",
       "      <td>2</td>\n",
       "      <td>0.666667</td>\n",
       "      <td>0</td>\n",
       "    </tr>\n",
       "    <tr>\n",
       "      <td>8</td>\n",
       "      <td>3</td>\n",
       "      <td>0.250000</td>\n",
       "      <td>0</td>\n",
       "    </tr>\n",
       "    <tr>\n",
       "      <td>9</td>\n",
       "      <td>3</td>\n",
       "      <td>0.250000</td>\n",
       "      <td>0</td>\n",
       "    </tr>\n",
       "    <tr>\n",
       "      <td>10</td>\n",
       "      <td>3</td>\n",
       "      <td>0.250000</td>\n",
       "      <td>0</td>\n",
       "    </tr>\n",
       "    <tr>\n",
       "      <td>11</td>\n",
       "      <td>3</td>\n",
       "      <td>0.250000</td>\n",
       "      <td>1</td>\n",
       "    </tr>\n",
       "  </tbody>\n",
       "</table>\n",
       "</div>"
      ],
      "text/plain": [
       "    category  category_encoding  y\n",
       "0          1           0.400000  0\n",
       "1          1           0.400000  0\n",
       "2          1           0.400000  1\n",
       "3          1           0.400000  1\n",
       "4          1           0.400000  0\n",
       "5          2           0.666667  1\n",
       "6          2           0.666667  1\n",
       "7          2           0.666667  0\n",
       "8          3           0.250000  0\n",
       "9          3           0.250000  0\n",
       "10         3           0.250000  0\n",
       "11         3           0.250000  1"
      ]
     },
     "execution_count": 1249,
     "metadata": {},
     "output_type": "execute_result"
    }
   ],
   "source": [
    "data_train.loc[:, ['category', 'category_encoding', 'y']]"
   ]
  },
  {
   "cell_type": "markdown",
   "metadata": {},
   "source": [
    "Теперь, на тестовом датасете мы получили бы такой результат:"
   ]
  },
  {
   "cell_type": "code",
   "execution_count": 1250,
   "metadata": {},
   "outputs": [
    {
     "data": {
      "text/html": [
       "<div>\n",
       "<style scoped>\n",
       "    .dataframe tbody tr th:only-of-type {\n",
       "        vertical-align: middle;\n",
       "    }\n",
       "\n",
       "    .dataframe tbody tr th {\n",
       "        vertical-align: top;\n",
       "    }\n",
       "\n",
       "    .dataframe thead th {\n",
       "        text-align: right;\n",
       "    }\n",
       "</style>\n",
       "<table border=\"1\" class=\"dataframe\">\n",
       "  <thead>\n",
       "    <tr style=\"text-align: right;\">\n",
       "      <th></th>\n",
       "      <th>category</th>\n",
       "    </tr>\n",
       "  </thead>\n",
       "  <tbody>\n",
       "    <tr>\n",
       "      <td>0</td>\n",
       "      <td>1</td>\n",
       "    </tr>\n",
       "    <tr>\n",
       "      <td>1</td>\n",
       "      <td>1</td>\n",
       "    </tr>\n",
       "    <tr>\n",
       "      <td>2</td>\n",
       "      <td>2</td>\n",
       "    </tr>\n",
       "    <tr>\n",
       "      <td>3</td>\n",
       "      <td>2</td>\n",
       "    </tr>\n",
       "    <tr>\n",
       "      <td>4</td>\n",
       "      <td>3</td>\n",
       "    </tr>\n",
       "    <tr>\n",
       "      <td>5</td>\n",
       "      <td>3</td>\n",
       "    </tr>\n",
       "  </tbody>\n",
       "</table>\n",
       "</div>"
      ],
      "text/plain": [
       "   category\n",
       "0         1\n",
       "1         1\n",
       "2         2\n",
       "3         2\n",
       "4         3\n",
       "5         3"
      ]
     },
     "execution_count": 1250,
     "metadata": {},
     "output_type": "execute_result"
    }
   ],
   "source": [
    "data_test= pd.DataFrame(data={\n",
    "    'category': [1] * 2 + [2] * 2 + [3] * 2,\n",
    "})\n",
    "data_test"
   ]
  },
  {
   "cell_type": "code",
   "execution_count": 1251,
   "metadata": {},
   "outputs": [
    {
     "data": {
      "text/html": [
       "<div>\n",
       "<style scoped>\n",
       "    .dataframe tbody tr th:only-of-type {\n",
       "        vertical-align: middle;\n",
       "    }\n",
       "\n",
       "    .dataframe tbody tr th {\n",
       "        vertical-align: top;\n",
       "    }\n",
       "\n",
       "    .dataframe thead th {\n",
       "        text-align: right;\n",
       "    }\n",
       "</style>\n",
       "<table border=\"1\" class=\"dataframe\">\n",
       "  <thead>\n",
       "    <tr style=\"text-align: right;\">\n",
       "      <th></th>\n",
       "      <th>category</th>\n",
       "      <th>category_encoding</th>\n",
       "    </tr>\n",
       "  </thead>\n",
       "  <tbody>\n",
       "    <tr>\n",
       "      <td>0</td>\n",
       "      <td>1</td>\n",
       "      <td>0.400000</td>\n",
       "    </tr>\n",
       "    <tr>\n",
       "      <td>1</td>\n",
       "      <td>1</td>\n",
       "      <td>0.400000</td>\n",
       "    </tr>\n",
       "    <tr>\n",
       "      <td>2</td>\n",
       "      <td>2</td>\n",
       "      <td>0.666667</td>\n",
       "    </tr>\n",
       "    <tr>\n",
       "      <td>3</td>\n",
       "      <td>2</td>\n",
       "      <td>0.666667</td>\n",
       "    </tr>\n",
       "    <tr>\n",
       "      <td>4</td>\n",
       "      <td>3</td>\n",
       "      <td>0.250000</td>\n",
       "    </tr>\n",
       "    <tr>\n",
       "      <td>5</td>\n",
       "      <td>3</td>\n",
       "      <td>0.250000</td>\n",
       "    </tr>\n",
       "  </tbody>\n",
       "</table>\n",
       "</div>"
      ],
      "text/plain": [
       "   category  category_encoding\n",
       "0         1           0.400000\n",
       "1         1           0.400000\n",
       "2         2           0.666667\n",
       "3         2           0.666667\n",
       "4         3           0.250000\n",
       "5         3           0.250000"
      ]
     },
     "execution_count": 1251,
     "metadata": {},
     "output_type": "execute_result"
    }
   ],
   "source": [
    "data_test.loc[:, 'category_encoding'] = data_test.category.replace(category_encoding, )\n",
    "data_test"
   ]
  },
  {
   "cell_type": "markdown",
   "metadata": {},
   "source": [
    "У данного кодировщика есть одна большая проблема - он может переобучиться!\n",
    "\n",
    "Что если какой-то категории все значения целевой переменной оказались одинаковыми? В этом случае модель будет просто копировать значения в ответ. Поэтому надо ввести **регуляризацию**.\n",
    "\n",
    "Будем немного \"ослаблять\" наше кодирование - подмешаем туда общее среднее значение по целевой переменной с весом $w$. Тогда, в виде формулы получится\n",
    "\n",
    "$$ v_c = \\frac{(1-w)\\sum_{i \\in c}y_i + w\\cdot m}{N} $$\n",
    "* $m = \\frac{\\sum_i y_i}{N}$ - глабальное среднее по $y$\n",
    "* $w\\in[0,1]$ - сила регуляризации. Чем больше $w$ - тем больше будет смещение к глобальному среднему\n",
    "\n",
    "На питоне получится как-то так:"
   ]
  },
  {
   "cell_type": "code",
   "execution_count": 1252,
   "metadata": {},
   "outputs": [],
   "source": [
    "w = 0.1 # Попробуйте для разных значений и сравните результаты\n",
    "category_encoding = (1-w)*data_train.groupby('category').y.mean() + w*data_train.y.mean()"
   ]
  },
  {
   "cell_type": "code",
   "execution_count": 1253,
   "metadata": {},
   "outputs": [
    {
     "data": {
      "text/plain": [
       "category\n",
       "1    0.401667\n",
       "2    0.641667\n",
       "3    0.266667\n",
       "Name: y, dtype: float64"
      ]
     },
     "execution_count": 1253,
     "metadata": {},
     "output_type": "execute_result"
    }
   ],
   "source": [
    "category_encoding"
   ]
  },
  {
   "cell_type": "code",
   "execution_count": 1254,
   "metadata": {},
   "outputs": [],
   "source": [
    "data_train.loc[:, 'category_encoding'] = data_train.category.replace(category_encoding)"
   ]
  },
  {
   "cell_type": "code",
   "execution_count": 1255,
   "metadata": {},
   "outputs": [
    {
     "data": {
      "text/html": [
       "<div>\n",
       "<style scoped>\n",
       "    .dataframe tbody tr th:only-of-type {\n",
       "        vertical-align: middle;\n",
       "    }\n",
       "\n",
       "    .dataframe tbody tr th {\n",
       "        vertical-align: top;\n",
       "    }\n",
       "\n",
       "    .dataframe thead th {\n",
       "        text-align: right;\n",
       "    }\n",
       "</style>\n",
       "<table border=\"1\" class=\"dataframe\">\n",
       "  <thead>\n",
       "    <tr style=\"text-align: right;\">\n",
       "      <th></th>\n",
       "      <th>category</th>\n",
       "      <th>category_encoding</th>\n",
       "      <th>y</th>\n",
       "    </tr>\n",
       "  </thead>\n",
       "  <tbody>\n",
       "    <tr>\n",
       "      <td>0</td>\n",
       "      <td>1</td>\n",
       "      <td>0.401667</td>\n",
       "      <td>0</td>\n",
       "    </tr>\n",
       "    <tr>\n",
       "      <td>1</td>\n",
       "      <td>1</td>\n",
       "      <td>0.401667</td>\n",
       "      <td>0</td>\n",
       "    </tr>\n",
       "    <tr>\n",
       "      <td>2</td>\n",
       "      <td>1</td>\n",
       "      <td>0.401667</td>\n",
       "      <td>1</td>\n",
       "    </tr>\n",
       "    <tr>\n",
       "      <td>3</td>\n",
       "      <td>1</td>\n",
       "      <td>0.401667</td>\n",
       "      <td>1</td>\n",
       "    </tr>\n",
       "    <tr>\n",
       "      <td>4</td>\n",
       "      <td>1</td>\n",
       "      <td>0.401667</td>\n",
       "      <td>0</td>\n",
       "    </tr>\n",
       "    <tr>\n",
       "      <td>5</td>\n",
       "      <td>2</td>\n",
       "      <td>0.641667</td>\n",
       "      <td>1</td>\n",
       "    </tr>\n",
       "    <tr>\n",
       "      <td>6</td>\n",
       "      <td>2</td>\n",
       "      <td>0.641667</td>\n",
       "      <td>1</td>\n",
       "    </tr>\n",
       "    <tr>\n",
       "      <td>7</td>\n",
       "      <td>2</td>\n",
       "      <td>0.641667</td>\n",
       "      <td>0</td>\n",
       "    </tr>\n",
       "    <tr>\n",
       "      <td>8</td>\n",
       "      <td>3</td>\n",
       "      <td>0.266667</td>\n",
       "      <td>0</td>\n",
       "    </tr>\n",
       "    <tr>\n",
       "      <td>9</td>\n",
       "      <td>3</td>\n",
       "      <td>0.266667</td>\n",
       "      <td>0</td>\n",
       "    </tr>\n",
       "    <tr>\n",
       "      <td>10</td>\n",
       "      <td>3</td>\n",
       "      <td>0.266667</td>\n",
       "      <td>0</td>\n",
       "    </tr>\n",
       "    <tr>\n",
       "      <td>11</td>\n",
       "      <td>3</td>\n",
       "      <td>0.266667</td>\n",
       "      <td>1</td>\n",
       "    </tr>\n",
       "  </tbody>\n",
       "</table>\n",
       "</div>"
      ],
      "text/plain": [
       "    category  category_encoding  y\n",
       "0          1           0.401667  0\n",
       "1          1           0.401667  0\n",
       "2          1           0.401667  1\n",
       "3          1           0.401667  1\n",
       "4          1           0.401667  0\n",
       "5          2           0.641667  1\n",
       "6          2           0.641667  1\n",
       "7          2           0.641667  0\n",
       "8          3           0.266667  0\n",
       "9          3           0.266667  0\n",
       "10         3           0.266667  0\n",
       "11         3           0.266667  1"
      ]
     },
     "execution_count": 1255,
     "metadata": {},
     "output_type": "execute_result"
    }
   ],
   "source": [
    "data_train.loc[:, ['category', 'category_encoding', 'y']]"
   ]
  },
  {
   "cell_type": "markdown",
   "metadata": {},
   "source": [
    "## Задача"
   ]
  },
  {
   "cell_type": "markdown",
   "metadata": {},
   "source": [
    "Напишите трансформер, который делает target encoding. В качестве гиперараметра он должен принимать коэффициент $w$\n",
    "\n",
    "Вам нужно дописать код в методы `fit` и `transform`:\n",
    "* `fit` по имеющимся `X` и `y` должен \"выучивать\" мэппинг `self.category_mapping` категории в значение\n",
    "* `transform` по имеющимся `X` должен переводить каждое значение в мэппинг\n",
    "\n",
    "В базовой версии предполагается, что `X` состоит из одной колонки с категориальной переменной.<br>\n",
    "**Бонус:** сделайте трансформер, который будет справляться с несколькими категориальными колонками"
   ]
  },
  {
   "cell_type": "code",
   "execution_count": 1256,
   "metadata": {},
   "outputs": [],
   "source": [
    "from sklearn.base import BaseEstimator, TransformerMixin\n",
    "\n",
    "class TargetEncoder(BaseEstimator, TransformerMixin):\n",
    "    '''Performes target encoding of a categorical column'''\n",
    "    def __init__(self, w=0.1):\n",
    "        self.w = w\n",
    "        self.global_mean = None\n",
    "        self.category_mapping = []\n",
    "        \n",
    "    def fit(self, X, y):\n",
    "        for i in range(X.shape[1]):\n",
    "            uniq = np.unique(X[:, i])\n",
    "            self.global_mean = y.mean()\n",
    "            mapping = dict()\n",
    "            for category in uniq:\n",
    "                category_target = [y[j] for j in range(len(y)) if X[j, i] == category]\n",
    "                \n",
    "                mapping[category] = \\\n",
    "                ((1-self.w)*sum(category_target) / len(category_target)) + self.w*self.global_mean \n",
    "                \n",
    "            self.category_mapping.append(mapping)\n",
    "        return self\n",
    "\n",
    "    def transform(self, X):\n",
    "        X_output = []\n",
    "        for i in range(X.shape[1]):\n",
    "            transformed_column = np.vectorize(self.category_mapping[i].get)(X[:, i]).reshape(-1,1)\n",
    "            X_output.append(transformed_column)\n",
    "        return np.hstack(X_output)"
   ]
  },
  {
   "cell_type": "code",
   "execution_count": 1257,
   "metadata": {},
   "outputs": [],
   "source": [
    "X = data_train.category.values.reshape(-1,1)\n",
    "y = data_train.y.values"
   ]
  },
  {
   "cell_type": "code",
   "execution_count": 1258,
   "metadata": {},
   "outputs": [
    {
     "data": {
      "text/plain": [
       "array([[0.40166667],\n",
       "       [0.40166667],\n",
       "       [0.40166667],\n",
       "       [0.40166667],\n",
       "       [0.40166667],\n",
       "       [0.64166667],\n",
       "       [0.64166667],\n",
       "       [0.64166667],\n",
       "       [0.26666667],\n",
       "       [0.26666667],\n",
       "       [0.26666667],\n",
       "       [0.26666667]])"
      ]
     },
     "execution_count": 1258,
     "metadata": {},
     "output_type": "execute_result"
    }
   ],
   "source": [
    "encoder = TargetEncoder(w=0.1)\n",
    "# X_transformed = encoder.fit(X, y)\n",
    "# X_transformed = encoder.transform(X)\n",
    "\n",
    "X_transformed = encoder.fit_transform(X,y)\n",
    "#print(encoder.category_mapping)\n",
    "X_transformed"
   ]
  },
  {
   "cell_type": "code",
   "execution_count": 1259,
   "metadata": {},
   "outputs": [],
   "source": [
    "# Tests\n",
    "encoder = TargetEncoder(w=0.1)\n",
    "X_transformed = encoder.fit_transform(X,y)\n",
    "X_true = np.array([0.40166667, 0.40166667, 0.40166667, 0.40166667, 0.40166667,\n",
    "                   0.64166667, 0.64166667, 0.64166667, 0.26666667, 0.26666667,\n",
    "                   0.26666667, 0.26666667]).reshape(-1,1)\n",
    "\n",
    "assert np.allclose(X_transformed, X_true)\n",
    "\n",
    "encoder = TargetEncoder(w=0.9)\n",
    "X_transformed = encoder.fit_transform(X,y)\n",
    "X_true = np.array([0.415     , 0.415     , 0.415     , 0.415     , 0.415     ,\n",
    "                   0.44166667, 0.44166667, 0.44166667, 0.4       , 0.4       ,\n",
    "                   0.4       , 0.4       ]).reshape(-1,1)\n",
    "assert np.allclose(X_transformed, X_true)\n",
    "\n",
    "encoder = TargetEncoder(w=1)\n",
    "X_transformed = encoder.fit_transform(X,y)\n",
    "\n",
    "assert np.all(X_transformed == y.mean())"
   ]
  },
  {
   "cell_type": "markdown",
   "metadata": {},
   "source": [
    "## Преобразование для нескольких категориальных колонок"
   ]
  },
  {
   "cell_type": "code",
   "execution_count": 1260,
   "metadata": {},
   "outputs": [
    {
     "data": {
      "text/html": [
       "<div>\n",
       "<style scoped>\n",
       "    .dataframe tbody tr th:only-of-type {\n",
       "        vertical-align: middle;\n",
       "    }\n",
       "\n",
       "    .dataframe tbody tr th {\n",
       "        vertical-align: top;\n",
       "    }\n",
       "\n",
       "    .dataframe thead th {\n",
       "        text-align: right;\n",
       "    }\n",
       "</style>\n",
       "<table border=\"1\" class=\"dataframe\">\n",
       "  <thead>\n",
       "    <tr style=\"text-align: right;\">\n",
       "      <th></th>\n",
       "      <th>category_1</th>\n",
       "      <th>category_2</th>\n",
       "      <th>category_3</th>\n",
       "      <th>y</th>\n",
       "    </tr>\n",
       "  </thead>\n",
       "  <tbody>\n",
       "    <tr>\n",
       "      <td>0</td>\n",
       "      <td>1</td>\n",
       "      <td>1</td>\n",
       "      <td>1</td>\n",
       "      <td>0</td>\n",
       "    </tr>\n",
       "    <tr>\n",
       "      <td>1</td>\n",
       "      <td>1</td>\n",
       "      <td>1</td>\n",
       "      <td>1</td>\n",
       "      <td>0</td>\n",
       "    </tr>\n",
       "    <tr>\n",
       "      <td>2</td>\n",
       "      <td>1</td>\n",
       "      <td>1</td>\n",
       "      <td>2</td>\n",
       "      <td>1</td>\n",
       "    </tr>\n",
       "    <tr>\n",
       "      <td>3</td>\n",
       "      <td>1</td>\n",
       "      <td>1</td>\n",
       "      <td>2</td>\n",
       "      <td>1</td>\n",
       "    </tr>\n",
       "    <tr>\n",
       "      <td>4</td>\n",
       "      <td>1</td>\n",
       "      <td>2</td>\n",
       "      <td>2</td>\n",
       "      <td>0</td>\n",
       "    </tr>\n",
       "    <tr>\n",
       "      <td>5</td>\n",
       "      <td>2</td>\n",
       "      <td>2</td>\n",
       "      <td>2</td>\n",
       "      <td>1</td>\n",
       "    </tr>\n",
       "    <tr>\n",
       "      <td>6</td>\n",
       "      <td>2</td>\n",
       "      <td>2</td>\n",
       "      <td>2</td>\n",
       "      <td>1</td>\n",
       "    </tr>\n",
       "    <tr>\n",
       "      <td>7</td>\n",
       "      <td>2</td>\n",
       "      <td>2</td>\n",
       "      <td>2</td>\n",
       "      <td>0</td>\n",
       "    </tr>\n",
       "    <tr>\n",
       "      <td>8</td>\n",
       "      <td>3</td>\n",
       "      <td>3</td>\n",
       "      <td>2</td>\n",
       "      <td>0</td>\n",
       "    </tr>\n",
       "    <tr>\n",
       "      <td>9</td>\n",
       "      <td>3</td>\n",
       "      <td>3</td>\n",
       "      <td>3</td>\n",
       "      <td>0</td>\n",
       "    </tr>\n",
       "    <tr>\n",
       "      <td>10</td>\n",
       "      <td>3</td>\n",
       "      <td>3</td>\n",
       "      <td>3</td>\n",
       "      <td>0</td>\n",
       "    </tr>\n",
       "    <tr>\n",
       "      <td>11</td>\n",
       "      <td>3</td>\n",
       "      <td>3</td>\n",
       "      <td>3</td>\n",
       "      <td>1</td>\n",
       "    </tr>\n",
       "  </tbody>\n",
       "</table>\n",
       "</div>"
      ],
      "text/plain": [
       "    category_1  category_2  category_3  y\n",
       "0            1           1           1  0\n",
       "1            1           1           1  0\n",
       "2            1           1           2  1\n",
       "3            1           1           2  1\n",
       "4            1           2           2  0\n",
       "5            2           2           2  1\n",
       "6            2           2           2  1\n",
       "7            2           2           2  0\n",
       "8            3           3           2  0\n",
       "9            3           3           3  0\n",
       "10           3           3           3  0\n",
       "11           3           3           3  1"
      ]
     },
     "execution_count": 1260,
     "metadata": {},
     "output_type": "execute_result"
    }
   ],
   "source": [
    "data_train = pd.DataFrame(data={\n",
    "    'category_1': [1] * 5 + [2] * 3 + [3] * 4,\n",
    "    'category_2': [1] * 4 + [2] * 4 + [3] * 4,\n",
    "    'category_3': [1] * 2 + [2] * 7 + [3] * 3,\n",
    "    'y': [0, 0, 1, 1, 0, 1, 1, 0, 0, 0, 0, 1]\n",
    "})\n",
    "\n",
    "data_train"
   ]
  },
  {
   "cell_type": "code",
   "execution_count": 1261,
   "metadata": {},
   "outputs": [
    {
     "data": {
      "text/plain": [
       "array([[1, 1, 1],\n",
       "       [1, 1, 1],\n",
       "       [1, 1, 2],\n",
       "       [1, 1, 2],\n",
       "       [1, 2, 2],\n",
       "       [2, 2, 2],\n",
       "       [2, 2, 2],\n",
       "       [2, 2, 2],\n",
       "       [3, 3, 2],\n",
       "       [3, 3, 3],\n",
       "       [3, 3, 3],\n",
       "       [3, 3, 3]])"
      ]
     },
     "execution_count": 1261,
     "metadata": {},
     "output_type": "execute_result"
    }
   ],
   "source": [
    "X2 = data_train.iloc[:, :3].values\n",
    "y2 = data_train.y.values\n",
    "X2"
   ]
  },
  {
   "cell_type": "code",
   "execution_count": 1262,
   "metadata": {},
   "outputs": [
    {
     "name": "stdout",
     "output_type": "stream",
     "text": [
      "[{1: 0.40166666666666667, 2: 0.6416666666666666, 3: 0.26666666666666666}, {1: 0.4916666666666667, 2: 0.4916666666666667, 3: 0.26666666666666666}, {1: 0.04166666666666667, 2: 0.555952380952381, 3: 0.3416666666666667}]\n"
     ]
    },
    {
     "data": {
      "text/plain": [
       "array([[0.40166667, 0.49166667, 0.04166667],\n",
       "       [0.40166667, 0.49166667, 0.04166667],\n",
       "       [0.40166667, 0.49166667, 0.55595238],\n",
       "       [0.40166667, 0.49166667, 0.55595238],\n",
       "       [0.40166667, 0.49166667, 0.55595238],\n",
       "       [0.64166667, 0.49166667, 0.55595238],\n",
       "       [0.64166667, 0.49166667, 0.55595238],\n",
       "       [0.64166667, 0.49166667, 0.55595238],\n",
       "       [0.26666667, 0.26666667, 0.55595238],\n",
       "       [0.26666667, 0.26666667, 0.34166667],\n",
       "       [0.26666667, 0.26666667, 0.34166667],\n",
       "       [0.26666667, 0.26666667, 0.34166667]])"
      ]
     },
     "execution_count": 1262,
     "metadata": {},
     "output_type": "execute_result"
    }
   ],
   "source": [
    "encoder = TargetEncoder(w=0.1)\n",
    "\n",
    "X_transformed = encoder.fit(X2,y2)\n",
    "print(encoder.category_mapping)\n",
    "\n",
    "X_transformed = encoder.transform(X2)\n",
    "X_transformed"
   ]
  },
  {
   "cell_type": "code",
   "execution_count": null,
   "metadata": {},
   "outputs": [],
   "source": []
  }
 ],
 "metadata": {
  "kernelspec": {
   "display_name": "Python 3",
   "language": "python",
   "name": "python3"
  },
  "language_info": {
   "codemirror_mode": {
    "name": "ipython",
    "version": 3
   },
   "file_extension": ".py",
   "mimetype": "text/x-python",
   "name": "python",
   "nbconvert_exporter": "python",
   "pygments_lexer": "ipython3",
   "version": "3.6.8"
  },
  "toc": {
   "base_numbering": 1,
   "nav_menu": {},
   "number_sections": true,
   "sideBar": true,
   "skip_h1_title": false,
   "title_cell": "Table of Contents",
   "title_sidebar": "Contents",
   "toc_cell": false,
   "toc_position": {},
   "toc_section_display": true,
   "toc_window_display": false
  }
 },
 "nbformat": 4,
 "nbformat_minor": 2
}
