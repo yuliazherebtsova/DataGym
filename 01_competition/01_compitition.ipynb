{
 "cells": [
  {
   "cell_type": "code",
   "execution_count": 1,
   "metadata": {},
   "outputs": [],
   "source": [
    "import pandas as pd\n",
    "import numpy as np\n",
    "import matplotlib.pyplot as plt\n",
    "import seaborn as sns\n",
    "import warnings\n",
    "warnings.filterwarnings(\"ignore\")\n",
    "import math\n",
    "import scipy.stats as st\n",
    "from sklearn import preprocessing\n",
    "\n",
    "from sklearn.preprocessing import StandardScaler, MinMaxScaler\n",
    "from sklearn.neighbors import KNeighborsRegressor\n",
    "from sklearn.linear_model import LinearRegression, Lasso, Ridge\n",
    "from sklearn.metrics import mean_squared_log_error, make_scorer, mean_squared_error\n",
    "from sklearn.base import BaseEstimator, TransformerMixin\n",
    "from sklearn.pipeline import Pipeline\n",
    "from sklearn.model_selection import train_test_split, KFold, cross_val_score, StratifiedKFold, RandomizedSearchCV, GridSearchCV\n",
    "from sklearn.ensemble import RandomForestRegressor, GradientBoostingRegressor\n",
    "import pickle\n",
    "\n",
    "# plt.style.use('ggplot')\n",
    "# plt.rcParams['figure.figsize'] = (18,12)"
   ]
  },
  {
   "cell_type": "code",
   "execution_count": 2,
   "metadata": {},
   "outputs": [],
   "source": [
    "def rmsle(y, y_hat):\n",
    "    res = 0\n",
    "    for i, j in zip(y, y_hat):\n",
    "        res += (math.log(i + 1) - math.log(j + 1)) ** 2\n",
    "    return (res / len(y)) ** 0.5\n",
    "\n",
    "def rmse(y_actual, y_pred):\n",
    "    return np.sqrt(mean_squared_error(y_actual, y_pred))\n",
    "\n",
    "rmsle_score = make_scorer(rmsle, greater_is_better=False)\n",
    "\n",
    "rmse_score = make_scorer(rmse, greater_is_better=False)"
   ]
  },
  {
   "cell_type": "markdown",
   "metadata": {},
   "source": [
    "## Data Uploading"
   ]
  },
  {
   "cell_type": "code",
   "execution_count": 3,
   "metadata": {},
   "outputs": [],
   "source": [
    "# объединенный трейн и тест датасеты с геогр.координатами\n",
    "with open('df.pkl', 'rb') as f:\n",
    "    df_coordinates = pickle.load(f)\n",
    "f.close()\n",
    "del f"
   ]
  },
  {
   "cell_type": "code",
   "execution_count": 4,
   "metadata": {},
   "outputs": [
    {
     "data": {
      "text/plain": [
       "(262893, 42)"
      ]
     },
     "execution_count": 4,
     "metadata": {},
     "output_type": "execute_result"
    }
   ],
   "source": [
    "df_train = df_coordinates[df_coordinates['sampletype']=='train']\n",
    "df_train.shape"
   ]
  },
  {
   "cell_type": "code",
   "execution_count": 5,
   "metadata": {},
   "outputs": [
    {
     "data": {
      "text/plain": [
       "(129485, 42)"
      ]
     },
     "execution_count": 5,
     "metadata": {},
     "output_type": "execute_result"
    }
   ],
   "source": [
    "df_test = df_coordinates[df_coordinates['sampletype']=='test']\n",
    "df_test.shape"
   ]
  },
  {
   "cell_type": "code",
   "execution_count": 6,
   "metadata": {},
   "outputs": [],
   "source": [
    "del df_coordinates"
   ]
  },
  {
   "cell_type": "markdown",
   "metadata": {},
   "source": [
    "## Test"
   ]
  },
  {
   "cell_type": "markdown",
   "metadata": {},
   "source": [
    "## EDA"
   ]
  },
  {
   "cell_type": "code",
   "execution_count": 7,
   "metadata": {},
   "outputs": [],
   "source": [
    "def df_print_unique(df_input):\n",
    "    df_output = df_input.fillna(-100)\n",
    "    for col in df_output.columns:\n",
    "        print(df_output[col].value_counts())\n",
    "        print(f'nunique = {df_output[col].nunique()}')\n",
    "        print(\"~\"*50)\n",
    "        \n",
    "#df_print_unique(df_train)"
   ]
  },
  {
   "cell_type": "code",
   "execution_count": 8,
   "metadata": {},
   "outputs": [],
   "source": [
    "# for col in df_train.columns:\n",
    "#     print(df_train.groupby('Рубрика')[col].count())\n",
    "#     print('---------------------------------')"
   ]
  },
  {
   "cell_type": "markdown",
   "metadata": {},
   "source": [
    "## Filling NaN"
   ]
  },
  {
   "cell_type": "code",
   "execution_count": 9,
   "metadata": {},
   "outputs": [],
   "source": [
    "# for col in df_train.columns:\n",
    "#     print(col)\n",
    "#     print(pd.unique(df_train[col].values))\n",
    "#     print('---------------------------------')"
   ]
  },
  {
   "cell_type": "code",
   "execution_count": 10,
   "metadata": {},
   "outputs": [],
   "source": [
    "# кол-во пропусков в процентах\n",
    "#df_train.isna().sum()*100/df_train.shape[0]"
   ]
  },
  {
   "cell_type": "code",
   "execution_count": 11,
   "metadata": {},
   "outputs": [],
   "source": [
    "def fill_nan(df_input):\n",
    "    df_output = df_input.copy()\n",
    "    fill_with_minus_1 = ['Коммунальные платежи включены',\n",
    "                  'Находится в залоге',\n",
    "                  'Внесен задаток',\n",
    "                  'Возможен обмен',\n",
    "                  'Ипотека',\n",
    "                  'Чистая продажа',\n",
    "                  'Торг',\n",
    "                  'Интернет',\n",
    "                  'Наличие мебели',\n",
    "                  'Наличие холодильника',\n",
    "                  'Площадь кухни',\n",
    "                  'Жилая площадь',\n",
    "                  'Общая площадь',\n",
    "                  'Год сдачи',\n",
    "                  'Санузел',\n",
    "                  'Ремонт',\n",
    "    ]\n",
    "    \n",
    "    fill_with_other = ['Ориентир',\n",
    "                      'Тип квартиры',\n",
    "                      'Планировка',\n",
    "                      'Форма собственности',\n",
    "                      'Тип дома',       \n",
    "                      'Материал дома'                     \n",
    "    ]\n",
    "    \n",
    "    fill_with_unkn = ['Улица',\n",
    "                      'Номер дома',\n",
    "                      'Район', \n",
    "                      'Микрорайон'\n",
    "    ]\n",
    "    \n",
    "    df_output[fill_with_minus_1] = df_output[fill_with_minus_1].fillna(value=-1)\n",
    "    df_output[fill_with_other] = df_output[fill_with_other].fillna(value='другое')\n",
    "    df_output[fill_with_unkn] = df_output[fill_with_unkn].fillna(value='не указано')\n",
    "    \n",
    "    return df_output"
   ]
  },
  {
   "cell_type": "markdown",
   "metadata": {},
   "source": [
    "## Data Cleaning (preprocessing outliers + garbage)"
   ]
  },
  {
   "cell_type": "code",
   "execution_count": 12,
   "metadata": {},
   "outputs": [],
   "source": [
    "def clean_test_data(df_input):\n",
    "    df_output = df_input.copy()\n",
    "\n",
    "    df_output['Форма собственности'] = df_output['Форма собственности'].replace(\n",
    "        {'другое (укажите в описании)': 'другое'}) \n",
    "    df_output['Материал дома'] = df_output['Материал дома'].replace({'кирпич-монолит':'кирпич - монолит'})\n",
    "    \n",
    "    # исправляем выборосы из координат: сравниваем реальные координаты городов и регионов с раскодированными, удаляем\n",
    "    # слишком далекие друг от друга (по евклидовому расстоянию), заменяем на средние lon и lat по городу\n",
    "#     df_tmp = pd.merge(\n",
    "#                 df_output, df_output.groupby(['Регион', 'Город']).agg({'lat': 'mean', 'lon': 'mean'}).reset_index(), \n",
    "#                 how='left', \n",
    "#                 left_on=['Регион', 'Город'], \n",
    "#                 right_on=['Регион', 'Город'])\n",
    "#     df_tmp['dist'] = df_tmp.apply(\n",
    "#         lambda r: ((r['lat_x'] - r['lat_y'])**2 + (r['lon_x'] - r['lon_y'])**2)**0.5, axis=1)\n",
    "#     for i in df_tmp[(~df_tmp.location_full_match) & (df_tmp.dist > 5)].index.values:\n",
    "#         if str(df_tmp.loc[i, 'Регион']).lower() not in str(df_tmp.loc[i, 'location_display_name']).lower() \\\n",
    "#         and str(df_tmp.loc[i, 'Город']).lower() not in str(df_tmp.loc[i, 'location_display_name']).lower():\n",
    "#             df_output.loc[i, 'lat'] = df_tmp.loc[i, 'lat_y']\n",
    "#             df_output.loc[i, 'lon'] = df_tmp.loc[i, 'lon_y']\n",
    "            \n",
    "            \n",
    "    # удаляем выборосы из всей выборки\n",
    "    outliers = [] \n",
    "    \n",
    "    outliers.extend(df_output[(df_output['Цена']>=10000000)&(df_output['Общая площадь']<=50)|\n",
    "                              (df_output['Цена']>20000000)&(df_output['Общая площадь']<100)|\n",
    "                              (df_output['Цена']==350000000)|\n",
    "                              (df_output['Цена']==111111111)|\n",
    "                              (df_output['Цена']==85000000)|\n",
    "                              (df_output['Цена']==68000000)|\n",
    "                              (df_output['Общая площадь']<=5)\n",
    "                             ].index)\n",
    "    outliers.extend(df_output[(df_output['Этажность']>52)].index)\n",
    "    outliers.extend(df_output[(df_output['Количество лоджий']>20)|(df_output['Количество балконов']>20)].index)\n",
    "    outliers.extend(\n",
    "        df_output[\n",
    "            (df_output['Общая площадь']>400)|\n",
    "            (df_output['Площадь кухни']>df_output['Общая площадь'])|\n",
    "            (df_output['Жилая площадь']>df_output['Общая площадь'])].index\n",
    "    )\n",
    "    \n",
    "    df_output = df_output.drop(df_output.index[outliers])\n",
    "    print('Удалено общих выбросов:', len(outliers))\n",
    "    \n",
    "#     # ДЛЯ АРЕНДЫ\n",
    "#     outliers_rent = []\n",
    "#     outliers_rent.extend(\n",
    "#         (df_output[(df_output['Рубрика']=='Аренда')&(\n",
    "#             (df_output['Цена']<1000)|\n",
    "#             (df_output['Цена']>150000))]).index)\n",
    "#     df_output = df_output.drop(outliers_rent)\n",
    "#     print('Удалено выбросов аренды:', len(outliers_rent))\n",
    "    \n",
    "#     # ДЛЯ ПРОДАЖИ\n",
    "#     outliers_sale = []\n",
    "#     outliers_sale.extend(\n",
    "#         (df_output[(df_output['Рубрика']=='Продажа')&(\n",
    "#             (df_output['Цена']<50000)|\n",
    "#             (df_output['Цена']>45000000))]).index)\n",
    "#     df_output = df_output.drop(outliers_sale)\n",
    "#     print('Удалено выбросов продаж:', len(outliers_sale))\n",
    "    \n",
    "    return df_output"
   ]
  },
  {
   "cell_type": "code",
   "execution_count": 13,
   "metadata": {},
   "outputs": [],
   "source": [
    "# plt.scatter(df_train['lat'], df_train['lon'])\n",
    "# plt.scatter(df_train_preproc_NA_OUT['lat'], df_train_preproc_NA_OUT['lon'])\n",
    "# plt.ylabel('lon')\n",
    "# plt.xlabel('lat')"
   ]
  },
  {
   "cell_type": "markdown",
   "metadata": {},
   "source": [
    "## Feature Encoding"
   ]
  },
  {
   "cell_type": "code",
   "execution_count": 14,
   "metadata": {},
   "outputs": [],
   "source": [
    "# for c in df_train_preproc_NA_OUT.columns:\n",
    "#     if df_train_preproc_NA_OUT[c].dtype == 'object':\n",
    "#         print(df_train_preproc_NA_OUT.groupby(c)[c].count())\n",
    "#         print('----------------------------')"
   ]
  },
  {
   "cell_type": "code",
   "execution_count": 15,
   "metadata": {},
   "outputs": [],
   "source": [
    "def feature_encoding(df_input):\n",
    "    df_output = df_input.copy()\n",
    "    \n",
    "    features_to_ohe = [] # порядок на переменных не задан\n",
    "    \n",
    "    df_output['Количество комнат'] = df_output['Количество комнат'].replace({'комната': 0.5}).astype('float64')\n",
    "    \n",
    "    df_output['Ремонт'] = df_output['Ремонт'].replace(\n",
    "                                                        {\n",
    "                                                        'требует капитального ремонта':1,\n",
    "                                                        'требует косметического ремонта':10,\n",
    "                                                        'хорошее':20,\n",
    "                                                        'в отличном состоянии':100},\n",
    "    ).astype('int64') \n",
    "    \n",
    "    df_output['Санузел'] = df_output['Санузел'].replace(\n",
    "                                                        {'другое':1,\n",
    "                                                        'совмещенный':2,\n",
    "                                                        'раздельный':3,\n",
    "                                                        'несколько':6}\n",
    "    ).astype('int64') \n",
    "    \n",
    "    df_output['Планировка'] = df_output['Планировка'].replace(\n",
    "                                                        {'другое': -1,\n",
    "                                                        'смежная':1,\n",
    "                                                        'смежно-изолированная':10,\n",
    "                                                        'свободная':20,\n",
    "                                                        'изолированная':100},\n",
    "    ).astype('int64') \n",
    "    \n",
    "    df_output['Тип квартиры'] = df_output['Тип квартиры'].replace(\n",
    "                                                        {'другое': -1,\n",
    "                                                        'гостинка':1,\n",
    "                                                        'студия':2,\n",
    "                                                        'улучшенной планировки':3,\n",
    "                                                        'индивидуальной планировки':4,\n",
    "                                                        'двухуровневая':5,\n",
    "                                                        'пентхаус':6}\n",
    "     ).astype('int64')\n",
    "        \n",
    "    df_output['Материал дома'] = df_output['Материал дома'].replace(\n",
    "                                                        {'другое': -1,\n",
    "                                                        'сборный железобетон':1,\n",
    "                                                        'панель':2,\n",
    "                                                        'монолит':3,\n",
    "                                                        'кирпич - монолит':4,\n",
    "                                                        'кирпич':5,\n",
    "                                                        'шлакоблоки':6,\n",
    "                                                        'силикатные блоки':7,\n",
    "                                                        'бетонные блоки':8,\n",
    "                                                        'бетонные блоки - монолит':9,\n",
    "                                                        'дерево':9}\n",
    "     ).astype('int64')\n",
    "    \n",
    "    \n",
    "    df_output['Форма собственности'] = df_output['Форма собственности'].replace(\n",
    "                                                        {'другое': -1,\n",
    "                                                        'не оформлена':1,\n",
    "                                                        'государственная':2,\n",
    "                                                        'предварительный договор':3,\n",
    "                                                        'участие в ЖСК':4,\n",
    "                                                        'кооперативная':5,\n",
    "                                                        'инвестиционная':6,\n",
    "                                                        'договор долевого участия':7,\n",
    "                                                        'частная':8,\n",
    "                                                        'свидетельство о праве собственности':9}\n",
    "     ).astype('int64')\n",
    "    \n",
    "    df_output['Тип дома'] = df_output['Тип дома'].replace(\n",
    "                                                        {'другое': -1,\n",
    "                                                        'общежитие':1,\n",
    "                                                        'секционного типа':2,\n",
    "                                                        'малоэтажка':3,\n",
    "                                                        'ульяновка':4,\n",
    "                                                        'хрущевка':5,\n",
    "                                                        'брежневка':6,\n",
    "                                                        'сталинка':7,\n",
    "                                                        'ленинградский проект':8,\n",
    "                                                        '93 серия':9,\n",
    "                                                        '95 серия':10,\n",
    "                                                        '97 серия':11,\n",
    "                                                        '97 серия улучшенная':12,\n",
    "                                                        '121 серия':13,\n",
    "                                                        '121Т':14,\n",
    "                                                        'спецпроект':15}\n",
    "     ).astype('int64')\n",
    "       \n",
    "    return df_output"
   ]
  },
  {
   "cell_type": "code",
   "execution_count": 16,
   "metadata": {},
   "outputs": [
    {
     "name": "stdout",
     "output_type": "stream",
     "text": [
      "Удалено общих выбросов: 210\n"
     ]
    }
   ],
   "source": [
    "df_train_preproc_NA_OUT_ENC = df_train.pipe(fill_nan).pipe(clean_test_data).pipe(feature_encoding)"
   ]
  },
  {
   "cell_type": "code",
   "execution_count": 17,
   "metadata": {},
   "outputs": [],
   "source": [
    "# def fill_na_with_predict (df_input):\n",
    "#     df_output = df_input.copy()\n",
    "    \n",
    "#     # заполняем пропуски Общей площади методом ближайших соседей\n",
    "#     knn = KNeighborsRegressor(n_neighbors=15, weights='distance')\n",
    "#     knn.fit(df_output.loc[df_output['Общая площадь'].notna(), ['lat', 'lon', 'Количество комнат']], \n",
    "#             df_output.loc[df_output['Общая площадь'].notna(), 'Общая площадь'])\n",
    "#     df_output.loc[df_output['Общая площадь'].isna(), 'Общая площадь'] = \\\n",
    "#     knn.predict(df_output.loc[df_output['Общая площадь'].isna(), ['lat', 'lon', 'Количество комнат']])\n",
    "    \n",
    "#     return df_output\n",
    "\n",
    "#df_train_preproc_NA_OUT_ENC = df_train_preproc_NA_OUT_ENC.pipe(fill_na_with_predict)"
   ]
  },
  {
   "cell_type": "code",
   "execution_count": 18,
   "metadata": {},
   "outputs": [],
   "source": [
    "#df_print_unique(df_train_preproc_NA_OUT_ENC)"
   ]
  },
  {
   "cell_type": "code",
   "execution_count": 19,
   "metadata": {},
   "outputs": [],
   "source": [
    "# for c in df_train_preproc_NA_OUT_ENC.columns:\n",
    "#     if df_train_preproc_NA_OUT_ENC[c].dtype == 'object':\n",
    "#         print(df_train_preproc_NA_OUT.groupby(c)[c].count())\n",
    "#         print('----------------------------')"
   ]
  },
  {
   "cell_type": "code",
   "execution_count": 20,
   "metadata": {},
   "outputs": [],
   "source": [
    "def check_skewness_log(col, train):\n",
    "    sns.distplot(np.log1p(train[col]+1), fit=st.norm);\n",
    "    fig = plt.figure()\n",
    "    (mu, sigma) = st.norm.fit(train[col])"
   ]
  },
  {
   "cell_type": "code",
   "execution_count": 21,
   "metadata": {},
   "outputs": [],
   "source": [
    "def check_skewness(col, train):\n",
    "    sns.distplot(train[col]+1, fit=st.norm);\n",
    "    fig = plt.figure()\n",
    "    (mu, sigma) = st.norm.fit(train[col])"
   ]
  },
  {
   "cell_type": "code",
   "execution_count": 22,
   "metadata": {
    "scrolled": true
   },
   "outputs": [],
   "source": [
    "# for c in df_train_preproc_NA_OUT_ENC.columns:\n",
    "#     if df_train_preproc_NA_OUT_ENC[c].dtype != 'object':\n",
    "#         check_skewness_log(c, df_train_preproc_NA_OUT_ENC)"
   ]
  },
  {
   "cell_type": "markdown",
   "metadata": {},
   "source": [
    "## Visualization"
   ]
  },
  {
   "cell_type": "code",
   "execution_count": 23,
   "metadata": {},
   "outputs": [],
   "source": [
    "# plt.figure(figsize=(20,10))\n",
    "# sns.heatmap(df_train_preproc_NA_OUT_ENC.corr('kendall'), annot=True, linewidths=.5)"
   ]
  },
  {
   "cell_type": "code",
   "execution_count": 24,
   "metadata": {},
   "outputs": [],
   "source": [
    "# # most correlated features\n",
    "# corrmat = df_train_preproc_NA_OUT_ENC.corr()\n",
    "# top_corr_features = corrmat.index[abs(corrmat[\"Цена\"])>0.3]\n",
    "# plt.figure(figsize=(7,5))\n",
    "# g = sns.heatmap(df_train_preproc_NA_OUT_ENC[top_corr_features].corr(),annot=True,cmap=\"RdYlGn\")"
   ]
  },
  {
   "cell_type": "markdown",
   "metadata": {},
   "source": [
    "## Feature engineering  "
   ]
  },
  {
   "cell_type": "code",
   "execution_count": 25,
   "metadata": {},
   "outputs": [],
   "source": [
    "import re"
   ]
  },
  {
   "cell_type": "code",
   "execution_count": 26,
   "metadata": {},
   "outputs": [],
   "source": [
    "def add_features(df_input):\n",
    "    df_output = df_input.copy()\n",
    "\n",
    "    centroid = df_output[['Город', 'lat', 'lon']].groupby('Город').mean()\n",
    "    df_output = df_output.merge(centroid, on='Город', suffixes=('_h', '_centr'), right_index=True)\n",
    "    df_output['dist_center'] = ((df_output.lat_h-df_output.lat_centr)**2+(df_output.lon_h-df_output.lon_centr)**2)**0.5\n",
    "    df_output['dist_center2'] = np.log1p(df_output['dist_center'])\n",
    "    df_output['house_age'] = df_output['Год сдачи'].apply(lambda x: -1 if x<0 else 2019-x if 2019-x>0 else 0.5)\n",
    "    df_output['not_first_floor'] = df_output['Этаж'].apply(lambda x: 0 if x==1 else -1 if x==-1 else 1)\n",
    "    df_output['tmp'] = df_output['Этаж']/df_output['Этажность']\n",
    "    df_output['not_top_floor'] = df_output['tmp'].apply(lambda x: 0 if x==1 else -1 if x<0 else 1)\n",
    "    df_output['has_balcony'] = (df_output['Количество балконов'].apply(lambda x: 0 if x<=0 else 1) + \\\n",
    "                                    df_output['Количество лоджий'].apply(lambda x: 0 if x<=0 else 1))/2\n",
    "    df_output['index_price_perv'] = df_output['Регион'].replace(\n",
    "                                                        {\n",
    "                                                        'Новосибирская область':105.7,\n",
    "                                                        'Свердловская область':103.3,\n",
    "                                                        'Омская область':102.9,\n",
    "                                                        'Тюменская область':103.0,\n",
    "                                                        'Челябинская область':101.0,\n",
    "                                                        'Красноярский край':102.1,\n",
    "                                                        'Пермский край':106.4,\n",
    "                                                        'Архангельская область':100.7,\n",
    "                                                        }\n",
    "                            )\n",
    "    df_output['index_price_vtor'] = df_output['Регион'].replace(\n",
    "                                                        {\n",
    "                                                        'Новосибирская область':101.8,\n",
    "                                                        'Свердловская область':103.0,\n",
    "                                                        'Омская область':105.1,\n",
    "                                                        'Тюменская область':100.3,\n",
    "                                                        'Челябинская область':100.1,\n",
    "                                                        'Красноярский край':101.2,\n",
    "                                                        'Пермский край':92.4,\n",
    "                                                        'Архангельская область':101.4,\n",
    "                                                        }\n",
    "                            )\n",
    "    df_output['zp'] = df_output['Регион'].replace(\n",
    "                                                        {\n",
    "                                                        'Новосибирская область':37173,\n",
    "                                                        'Свердловская область':36853,\n",
    "                                                        'Омская область':34136,\n",
    "                                                        'Тюменская область':72289,\n",
    "                                                        'Челябинская область':36619,\n",
    "                                                        'Красноярский край':48980,\n",
    "                                                        'Пермский край':37173,\n",
    "                                                        'Архангельская область':51236,\n",
    "                                                        }\n",
    "                            )\n",
    "    df_output['metro'] = df_output['Ориентир'].apply(lambda x: 1 if re.search('метро', str(x)) else -1 )\n",
    "    enc = preprocessing.LabelEncoder()\n",
    "    df_output['town'] = enc.fit_transform(df_output['Город'])\n",
    "    \n",
    "    #df_output.plot(x='metro', y='Цена', kind='scatter')\n",
    "    \n",
    "    cols_to_drop = [\n",
    "        'Регион',\n",
    "        'Город',\n",
    "        'Улица',\n",
    "        'Номер дома',\n",
    "        'Район',\n",
    "        'Микрорайон',\n",
    "        'Ориентир',\n",
    "        'Рубрика', \n",
    "        'sampletype',\n",
    "        'address',\n",
    "        'location_display_name',\n",
    "        'location_full_match',\n",
    "    ]\n",
    "    \n",
    "    df_output = df_output.drop(cols_to_drop, axis=1)\n",
    "    \n",
    "    return df_output"
   ]
  },
  {
   "cell_type": "markdown",
   "metadata": {},
   "source": [
    "## Modeling"
   ]
  },
  {
   "cell_type": "code",
   "execution_count": 30,
   "metadata": {
    "scrolled": false
   },
   "outputs": [],
   "source": [
    "# Добавляем новые фичи, делим тестовую выбрку на аренду и продажу, отделяем таргет (цену)\n",
    "df_train_rent = df_train_preproc_NA_OUT_ENC[df_train_preproc_NA_OUT_ENC['Рубрика'] == 'Аренда'].pipe(add_features)\n",
    "df_train_sale = df_train_preproc_NA_OUT_ENC[df_train_preproc_NA_OUT_ENC['Рубрика'] == 'Продажа'].pipe(add_features)\n",
    "\n",
    "cols_to_drop_rent = [\n",
    "        'Цена', 'Торг', 'Чистая продажа', 'Ипотека', 'lat_centr', 'lon_centr',\n",
    "        'Возможен обмен', 'Внесен задаток', 'Находится в залоге', 'tmp', 'town',\n",
    "        'index_price_perv', 'index_price_vtor', 'zp', 'dist_center2'\n",
    "]\n",
    "\n",
    "cols_to_drop_sale = [\n",
    "       'Цена', 'Наличие мебели', 'Наличие холодильника', 'Коммунальные платежи включены', \n",
    "       'lat_centr', 'lon_centr', 'tmp', 'index_price_perv', 'index_price_vtor', 'zp', 'dist_center2'\n",
    "]\n",
    "\n",
    "df_train_rent_target = df_train_rent['Цена']\n",
    "df_train_sale_target = df_train_sale['Цена']\n",
    "\n",
    "df_train_rent.drop(cols_to_drop_rent, axis=1, inplace=True)\n",
    "df_train_sale.drop(cols_to_drop_sale, axis=1, inplace=True)\n",
    "\n",
    "del df_train_preproc_NA_OUT_ENC\n",
    "del df_train"
   ]
  },
  {
   "cell_type": "code",
   "execution_count": 31,
   "metadata": {},
   "outputs": [],
   "source": [
    "# sns.pairplot(df_train_rent, vars=['Количество комнат', 'Общая площадь', 'Жилая площадь', 'Площадь кухни',\n",
    "#        'Этаж', 'Этажность','Цена'], diag_kind='hist')"
   ]
  },
  {
   "cell_type": "code",
   "execution_count": 32,
   "metadata": {},
   "outputs": [],
   "source": [
    "# sns.pairplot(df_train_rent, vars=['lat_h', 'lon_h', 'lat_centr',\n",
    "#        'lon_centr', 'dist_center', 'dist_center2', 'dist_center3',\n",
    "#        'dist_center4', 'house_age', 'house_age2', 'index_price_perv',\n",
    "#        'index_price_vtor', 'inds', 'zp', 'zp2', 'metro', 'Цена'], diag_kind='hist')"
   ]
  },
  {
   "cell_type": "code",
   "execution_count": 33,
   "metadata": {},
   "outputs": [
    {
     "name": "stdout",
     "output_type": "stream",
     "text": [
      "Аренда: Index(['Количество комнат', 'Общая площадь', 'Жилая площадь', 'Площадь кухни',\n",
      "       'Этаж', 'Этажность', 'Тип квартиры', 'Планировка', 'Ремонт', 'Санузел',\n",
      "       'Количество балконов', 'Количество лоджий', 'Наличие мебели',\n",
      "       'Наличие холодильника', 'Интернет', 'Форма собственности',\n",
      "       'Коммунальные платежи включены', 'Год сдачи', 'Тип дома',\n",
      "       'Материал дома', 'Количество фотографий', 'lat_h', 'lon_h',\n",
      "       'dist_center', 'house_age', 'not_first_floor', 'not_top_floor',\n",
      "       'has_balcony', 'metro'],\n",
      "      dtype='object') \n",
      "-----\n",
      " (94642, 29) (94642,) \n",
      "-----\n",
      "Продажа: Index(['Количество комнат', 'Общая площадь', 'Жилая площадь', 'Площадь кухни',\n",
      "       'Этаж', 'Этажность', 'Тип квартиры', 'Планировка', 'Ремонт', 'Санузел',\n",
      "       'Количество балконов', 'Количество лоджий', 'Интернет', 'Торг',\n",
      "       'Чистая продажа', 'Ипотека', 'Возможен обмен', 'Внесен задаток',\n",
      "       'Находится в залоге', 'Форма собственности', 'Год сдачи', 'Тип дома',\n",
      "       'Материал дома', 'Количество фотографий', 'lat_h', 'lon_h',\n",
      "       'dist_center', 'house_age', 'not_first_floor', 'not_top_floor',\n",
      "       'has_balcony', 'metro', 'town'],\n",
      "      dtype='object') \n",
      "-----\n",
      " (168047, 33) (168047,) \n",
      "-----\n"
     ]
    }
   ],
   "source": [
    "print('Аренда:',df_train_rent.columns,'\\n-----\\n',df_train_rent.shape,df_train_rent_target.shape,'\\n-----')\n",
    "print('Продажа:',df_train_sale.columns,'\\n-----\\n',df_train_sale.shape,df_train_sale_target.shape,'\\n-----')"
   ]
  },
  {
   "cell_type": "markdown",
   "metadata": {},
   "source": [
    "## Rent"
   ]
  },
  {
   "cell_type": "code",
   "execution_count": 34,
   "metadata": {},
   "outputs": [],
   "source": [
    "def rent_model_01(X_train, X_test, y_train):\n",
    "        class RentKNNImputer(BaseEstimator, TransformerMixin):\n",
    "            def fit(self, X, y):\n",
    "                return self\n",
    "            def transform(self, X):\n",
    "                cols = [\n",
    "                    'Количество комнат', \n",
    "                    'Общая площадь', \n",
    "                    'Площадь кухни', \n",
    "                    'lat_h', \n",
    "                    'lon_h',\n",
    "                    'Жилая площадь',\n",
    "                    'dist_center',\n",
    "                    'dist_center2',\n",
    "                    'dist_center3',\n",
    "                    'dist_center4',\n",
    "                    'house_age'\n",
    "            ]\n",
    "                return X[cols].copy()\n",
    "\n",
    "        pipe = Pipeline([\n",
    "            ('imputer', RentKNNImputer()),\n",
    "            ('scaler', StandardScaler()),\n",
    "            ('knn', KNeighborsRegressor()),\n",
    "        ])\n",
    "\n",
    "        param_grid = {\n",
    "            'knn__n_neighbors': [12],\n",
    "            'knn__p': [1]\n",
    "        }\n",
    "        \n",
    "        kfold = KFold(n_splits=3, shuffle=True, random_state=0)\n",
    "        hyper_search = GridSearchCV(pipe, param_grid, scoring=rmse_score, cv=kfold, n_jobs=2, refit=True, verbose=2)\n",
    "        hyper_search.fit(X_train, y_train)\n",
    "        model = hyper_search.best_estimator_\n",
    "        print(f\"RentKNNModel: best_params = {hyper_search.best_params_}, best_score = {hyper_search.best_score_}\")\n",
    "        y_pred = model.predict(X_test)\n",
    "        \n",
    "        return y_pred"
   ]
  },
  {
   "cell_type": "code",
   "execution_count": 35,
   "metadata": {},
   "outputs": [],
   "source": [
    "X_train, X_test, y_train, y_test = train_test_split(df_train_rent, df_train_rent_target, random_state=0, test_size=0.5)\n",
    "X_train.shape, X_test.shape, y_train.shape, y_test.shape\n",
    "y_train = np.log1p(y_train)\n",
    "y_test = np.log1p(y_test)"
   ]
  },
  {
   "cell_type": "code",
   "execution_count": 36,
   "metadata": {},
   "outputs": [
    {
     "name": "stdout",
     "output_type": "stream",
     "text": [
      "Fitting 3 folds for each of 1 candidates, totalling 3 fits\n"
     ]
    },
    {
     "name": "stderr",
     "output_type": "stream",
     "text": [
      "[Parallel(n_jobs=2)]: Using backend LokyBackend with 2 concurrent workers.\n"
     ]
    },
    {
     "ename": "KeyError",
     "evalue": "\"['dist_center4', 'dist_center2', 'dist_center3'] not in index\"",
     "output_type": "error",
     "traceback": [
      "\u001b[0;31m---------------------------------------------------------------------------\u001b[0m",
      "\u001b[0;31m_RemoteTraceback\u001b[0m                          Traceback (most recent call last)",
      "\u001b[0;31m_RemoteTraceback\u001b[0m: \n\"\"\"\nTraceback (most recent call last):\n  File \"/home/jupyterhub/jupyterhub_venv/lib/python3.6/site-packages/joblib/externals/loky/process_executor.py\", line 418, in _process_worker\n    r = call_item()\n  File \"/home/jupyterhub/jupyterhub_venv/lib/python3.6/site-packages/joblib/externals/loky/process_executor.py\", line 272, in __call__\n    return self.fn(*self.args, **self.kwargs)\n  File \"/home/jupyterhub/jupyterhub_venv/lib/python3.6/site-packages/joblib/_parallel_backends.py\", line 567, in __call__\n    return self.func(*args, **kwargs)\n  File \"/home/jupyterhub/jupyterhub_venv/lib/python3.6/site-packages/joblib/parallel.py\", line 225, in __call__\n    for func, args, kwargs in self.items]\n  File \"/home/jupyterhub/jupyterhub_venv/lib/python3.6/site-packages/joblib/parallel.py\", line 225, in <listcomp>\n    for func, args, kwargs in self.items]\n  File \"/home/jupyterhub/jupyterhub_venv/lib/python3.6/site-packages/sklearn/model_selection/_validation.py\", line 516, in _fit_and_score\n    estimator.fit(X_train, y_train, **fit_params)\n  File \"/home/jupyterhub/jupyterhub_venv/lib/python3.6/site-packages/sklearn/pipeline.py\", line 352, in fit\n    Xt, fit_params = self._fit(X, y, **fit_params)\n  File \"/home/jupyterhub/jupyterhub_venv/lib/python3.6/site-packages/sklearn/pipeline.py\", line 317, in _fit\n    **fit_params_steps[name])\n  File \"/home/jupyterhub/jupyterhub_venv/lib/python3.6/site-packages/joblib/memory.py\", line 355, in __call__\n    return self.func(*args, **kwargs)\n  File \"/home/jupyterhub/jupyterhub_venv/lib/python3.6/site-packages/sklearn/pipeline.py\", line 716, in _fit_transform_one\n    res = transformer.fit_transform(X, y, **fit_params)\n  File \"/home/jupyterhub/jupyterhub_venv/lib/python3.6/site-packages/sklearn/base.py\", line 556, in fit_transform\n    return self.fit(X, y, **fit_params).transform(X)\n  File \"<ipython-input-34-d1aa679b5caa>\", line 19, in transform\n  File \"/home/jupyterhub/jupyterhub_venv/lib/python3.6/site-packages/pandas/core/frame.py\", line 2986, in __getitem__\n    indexer = self.loc._convert_to_indexer(key, axis=1, raise_missing=True)\n  File \"/home/jupyterhub/jupyterhub_venv/lib/python3.6/site-packages/pandas/core/indexing.py\", line 1285, in _convert_to_indexer\n    return self._get_listlike_indexer(obj, axis, **kwargs)[1]\n  File \"/home/jupyterhub/jupyterhub_venv/lib/python3.6/site-packages/pandas/core/indexing.py\", line 1092, in _get_listlike_indexer\n    keyarr, indexer, o._get_axis_number(axis), raise_missing=raise_missing\n  File \"/home/jupyterhub/jupyterhub_venv/lib/python3.6/site-packages/pandas/core/indexing.py\", line 1185, in _validate_read_indexer\n    raise KeyError(\"{} not in index\".format(not_found))\nKeyError: \"['dist_center4', 'dist_center2', 'dist_center3'] not in index\"\n\"\"\"",
      "\nThe above exception was the direct cause of the following exception:\n",
      "\u001b[0;31mKeyError\u001b[0m                                  Traceback (most recent call last)",
      "\u001b[0;32m<ipython-input-36-2fbe5f2ec6bf>\u001b[0m in \u001b[0;36m<module>\u001b[0;34m\u001b[0m\n\u001b[0;32m----> 1\u001b[0;31m \u001b[0mpred_knn\u001b[0m \u001b[0;34m=\u001b[0m \u001b[0mrent_model_01\u001b[0m\u001b[0;34m(\u001b[0m\u001b[0mX_train\u001b[0m\u001b[0;34m,\u001b[0m \u001b[0mX_test\u001b[0m\u001b[0;34m,\u001b[0m \u001b[0my_train\u001b[0m\u001b[0;34m)\u001b[0m\u001b[0;34m\u001b[0m\u001b[0;34m\u001b[0m\u001b[0m\n\u001b[0m\u001b[1;32m      2\u001b[0m \u001b[0mpred_knn\u001b[0m\u001b[0;34m\u001b[0m\u001b[0;34m\u001b[0m\u001b[0m\n",
      "\u001b[0;32m<ipython-input-34-d1aa679b5caa>\u001b[0m in \u001b[0;36mrent_model_01\u001b[0;34m(X_train, X_test, y_train)\u001b[0m\n\u001b[1;32m     32\u001b[0m         \u001b[0mkfold\u001b[0m \u001b[0;34m=\u001b[0m \u001b[0mKFold\u001b[0m\u001b[0;34m(\u001b[0m\u001b[0mn_splits\u001b[0m\u001b[0;34m=\u001b[0m\u001b[0;36m3\u001b[0m\u001b[0;34m,\u001b[0m \u001b[0mshuffle\u001b[0m\u001b[0;34m=\u001b[0m\u001b[0;32mTrue\u001b[0m\u001b[0;34m,\u001b[0m \u001b[0mrandom_state\u001b[0m\u001b[0;34m=\u001b[0m\u001b[0;36m0\u001b[0m\u001b[0;34m)\u001b[0m\u001b[0;34m\u001b[0m\u001b[0;34m\u001b[0m\u001b[0m\n\u001b[1;32m     33\u001b[0m         \u001b[0mhyper_search\u001b[0m \u001b[0;34m=\u001b[0m \u001b[0mGridSearchCV\u001b[0m\u001b[0;34m(\u001b[0m\u001b[0mpipe\u001b[0m\u001b[0;34m,\u001b[0m \u001b[0mparam_grid\u001b[0m\u001b[0;34m,\u001b[0m \u001b[0mscoring\u001b[0m\u001b[0;34m=\u001b[0m\u001b[0mrmse_score\u001b[0m\u001b[0;34m,\u001b[0m \u001b[0mcv\u001b[0m\u001b[0;34m=\u001b[0m\u001b[0mkfold\u001b[0m\u001b[0;34m,\u001b[0m \u001b[0mn_jobs\u001b[0m\u001b[0;34m=\u001b[0m\u001b[0;36m2\u001b[0m\u001b[0;34m,\u001b[0m \u001b[0mrefit\u001b[0m\u001b[0;34m=\u001b[0m\u001b[0;32mTrue\u001b[0m\u001b[0;34m,\u001b[0m \u001b[0mverbose\u001b[0m\u001b[0;34m=\u001b[0m\u001b[0;36m2\u001b[0m\u001b[0;34m)\u001b[0m\u001b[0;34m\u001b[0m\u001b[0;34m\u001b[0m\u001b[0m\n\u001b[0;32m---> 34\u001b[0;31m         \u001b[0mhyper_search\u001b[0m\u001b[0;34m.\u001b[0m\u001b[0mfit\u001b[0m\u001b[0;34m(\u001b[0m\u001b[0mX_train\u001b[0m\u001b[0;34m,\u001b[0m \u001b[0my_train\u001b[0m\u001b[0;34m)\u001b[0m\u001b[0;34m\u001b[0m\u001b[0;34m\u001b[0m\u001b[0m\n\u001b[0m\u001b[1;32m     35\u001b[0m         \u001b[0mmodel\u001b[0m \u001b[0;34m=\u001b[0m \u001b[0mhyper_search\u001b[0m\u001b[0;34m.\u001b[0m\u001b[0mbest_estimator_\u001b[0m\u001b[0;34m\u001b[0m\u001b[0;34m\u001b[0m\u001b[0m\n\u001b[1;32m     36\u001b[0m         \u001b[0mprint\u001b[0m\u001b[0;34m(\u001b[0m\u001b[0;34mf\"RentKNNModel: best_params = {hyper_search.best_params_}, best_score = {hyper_search.best_score_}\"\u001b[0m\u001b[0;34m)\u001b[0m\u001b[0;34m\u001b[0m\u001b[0;34m\u001b[0m\u001b[0m\n",
      "\u001b[0;32m/home/jupyterhub/jupyterhub_venv/lib/python3.6/site-packages/sklearn/model_selection/_search.py\u001b[0m in \u001b[0;36mfit\u001b[0;34m(self, X, y, groups, **fit_params)\u001b[0m\n\u001b[1;32m    686\u001b[0m                 \u001b[0;32mreturn\u001b[0m \u001b[0mresults\u001b[0m\u001b[0;34m\u001b[0m\u001b[0;34m\u001b[0m\u001b[0m\n\u001b[1;32m    687\u001b[0m \u001b[0;34m\u001b[0m\u001b[0m\n\u001b[0;32m--> 688\u001b[0;31m             \u001b[0mself\u001b[0m\u001b[0;34m.\u001b[0m\u001b[0m_run_search\u001b[0m\u001b[0;34m(\u001b[0m\u001b[0mevaluate_candidates\u001b[0m\u001b[0;34m)\u001b[0m\u001b[0;34m\u001b[0m\u001b[0;34m\u001b[0m\u001b[0m\n\u001b[0m\u001b[1;32m    689\u001b[0m \u001b[0;34m\u001b[0m\u001b[0m\n\u001b[1;32m    690\u001b[0m         \u001b[0;31m# For multi-metric evaluation, store the best_index_, best_params_ and\u001b[0m\u001b[0;34m\u001b[0m\u001b[0;34m\u001b[0m\u001b[0;34m\u001b[0m\u001b[0m\n",
      "\u001b[0;32m/home/jupyterhub/jupyterhub_venv/lib/python3.6/site-packages/sklearn/model_selection/_search.py\u001b[0m in \u001b[0;36m_run_search\u001b[0;34m(self, evaluate_candidates)\u001b[0m\n\u001b[1;32m   1147\u001b[0m     \u001b[0;32mdef\u001b[0m \u001b[0m_run_search\u001b[0m\u001b[0;34m(\u001b[0m\u001b[0mself\u001b[0m\u001b[0;34m,\u001b[0m \u001b[0mevaluate_candidates\u001b[0m\u001b[0;34m)\u001b[0m\u001b[0;34m:\u001b[0m\u001b[0;34m\u001b[0m\u001b[0;34m\u001b[0m\u001b[0m\n\u001b[1;32m   1148\u001b[0m         \u001b[0;34m\"\"\"Search all candidates in param_grid\"\"\"\u001b[0m\u001b[0;34m\u001b[0m\u001b[0;34m\u001b[0m\u001b[0m\n\u001b[0;32m-> 1149\u001b[0;31m         \u001b[0mevaluate_candidates\u001b[0m\u001b[0;34m(\u001b[0m\u001b[0mParameterGrid\u001b[0m\u001b[0;34m(\u001b[0m\u001b[0mself\u001b[0m\u001b[0;34m.\u001b[0m\u001b[0mparam_grid\u001b[0m\u001b[0;34m)\u001b[0m\u001b[0;34m)\u001b[0m\u001b[0;34m\u001b[0m\u001b[0;34m\u001b[0m\u001b[0m\n\u001b[0m\u001b[1;32m   1150\u001b[0m \u001b[0;34m\u001b[0m\u001b[0m\n\u001b[1;32m   1151\u001b[0m \u001b[0;34m\u001b[0m\u001b[0m\n",
      "\u001b[0;32m/home/jupyterhub/jupyterhub_venv/lib/python3.6/site-packages/sklearn/model_selection/_search.py\u001b[0m in \u001b[0;36mevaluate_candidates\u001b[0;34m(candidate_params)\u001b[0m\n\u001b[1;32m    665\u001b[0m                                \u001b[0;32mfor\u001b[0m \u001b[0mparameters\u001b[0m\u001b[0;34m,\u001b[0m \u001b[0;34m(\u001b[0m\u001b[0mtrain\u001b[0m\u001b[0;34m,\u001b[0m \u001b[0mtest\u001b[0m\u001b[0;34m)\u001b[0m\u001b[0;34m\u001b[0m\u001b[0;34m\u001b[0m\u001b[0m\n\u001b[1;32m    666\u001b[0m                                in product(candidate_params,\n\u001b[0;32m--> 667\u001b[0;31m                                           cv.split(X, y, groups)))\n\u001b[0m\u001b[1;32m    668\u001b[0m \u001b[0;34m\u001b[0m\u001b[0m\n\u001b[1;32m    669\u001b[0m                 \u001b[0;32mif\u001b[0m \u001b[0mlen\u001b[0m\u001b[0;34m(\u001b[0m\u001b[0mout\u001b[0m\u001b[0;34m)\u001b[0m \u001b[0;34m<\u001b[0m \u001b[0;36m1\u001b[0m\u001b[0;34m:\u001b[0m\u001b[0;34m\u001b[0m\u001b[0;34m\u001b[0m\u001b[0m\n",
      "\u001b[0;32m/home/jupyterhub/jupyterhub_venv/lib/python3.6/site-packages/joblib/parallel.py\u001b[0m in \u001b[0;36m__call__\u001b[0;34m(self, iterable)\u001b[0m\n\u001b[1;32m    932\u001b[0m \u001b[0;34m\u001b[0m\u001b[0m\n\u001b[1;32m    933\u001b[0m             \u001b[0;32mwith\u001b[0m \u001b[0mself\u001b[0m\u001b[0;34m.\u001b[0m\u001b[0m_backend\u001b[0m\u001b[0;34m.\u001b[0m\u001b[0mretrieval_context\u001b[0m\u001b[0;34m(\u001b[0m\u001b[0;34m)\u001b[0m\u001b[0;34m:\u001b[0m\u001b[0;34m\u001b[0m\u001b[0;34m\u001b[0m\u001b[0m\n\u001b[0;32m--> 934\u001b[0;31m                 \u001b[0mself\u001b[0m\u001b[0;34m.\u001b[0m\u001b[0mretrieve\u001b[0m\u001b[0;34m(\u001b[0m\u001b[0;34m)\u001b[0m\u001b[0;34m\u001b[0m\u001b[0;34m\u001b[0m\u001b[0m\n\u001b[0m\u001b[1;32m    935\u001b[0m             \u001b[0;31m# Make sure that we get a last message telling us we are done\u001b[0m\u001b[0;34m\u001b[0m\u001b[0;34m\u001b[0m\u001b[0;34m\u001b[0m\u001b[0m\n\u001b[1;32m    936\u001b[0m             \u001b[0melapsed_time\u001b[0m \u001b[0;34m=\u001b[0m \u001b[0mtime\u001b[0m\u001b[0;34m.\u001b[0m\u001b[0mtime\u001b[0m\u001b[0;34m(\u001b[0m\u001b[0;34m)\u001b[0m \u001b[0;34m-\u001b[0m \u001b[0mself\u001b[0m\u001b[0;34m.\u001b[0m\u001b[0m_start_time\u001b[0m\u001b[0;34m\u001b[0m\u001b[0;34m\u001b[0m\u001b[0m\n",
      "\u001b[0;32m/home/jupyterhub/jupyterhub_venv/lib/python3.6/site-packages/joblib/parallel.py\u001b[0m in \u001b[0;36mretrieve\u001b[0;34m(self)\u001b[0m\n\u001b[1;32m    831\u001b[0m             \u001b[0;32mtry\u001b[0m\u001b[0;34m:\u001b[0m\u001b[0;34m\u001b[0m\u001b[0;34m\u001b[0m\u001b[0m\n\u001b[1;32m    832\u001b[0m                 \u001b[0;32mif\u001b[0m \u001b[0mgetattr\u001b[0m\u001b[0;34m(\u001b[0m\u001b[0mself\u001b[0m\u001b[0;34m.\u001b[0m\u001b[0m_backend\u001b[0m\u001b[0;34m,\u001b[0m \u001b[0;34m'supports_timeout'\u001b[0m\u001b[0;34m,\u001b[0m \u001b[0;32mFalse\u001b[0m\u001b[0;34m)\u001b[0m\u001b[0;34m:\u001b[0m\u001b[0;34m\u001b[0m\u001b[0;34m\u001b[0m\u001b[0m\n\u001b[0;32m--> 833\u001b[0;31m                     \u001b[0mself\u001b[0m\u001b[0;34m.\u001b[0m\u001b[0m_output\u001b[0m\u001b[0;34m.\u001b[0m\u001b[0mextend\u001b[0m\u001b[0;34m(\u001b[0m\u001b[0mjob\u001b[0m\u001b[0;34m.\u001b[0m\u001b[0mget\u001b[0m\u001b[0;34m(\u001b[0m\u001b[0mtimeout\u001b[0m\u001b[0;34m=\u001b[0m\u001b[0mself\u001b[0m\u001b[0;34m.\u001b[0m\u001b[0mtimeout\u001b[0m\u001b[0;34m)\u001b[0m\u001b[0;34m)\u001b[0m\u001b[0;34m\u001b[0m\u001b[0;34m\u001b[0m\u001b[0m\n\u001b[0m\u001b[1;32m    834\u001b[0m                 \u001b[0;32melse\u001b[0m\u001b[0;34m:\u001b[0m\u001b[0;34m\u001b[0m\u001b[0;34m\u001b[0m\u001b[0m\n\u001b[1;32m    835\u001b[0m                     \u001b[0mself\u001b[0m\u001b[0;34m.\u001b[0m\u001b[0m_output\u001b[0m\u001b[0;34m.\u001b[0m\u001b[0mextend\u001b[0m\u001b[0;34m(\u001b[0m\u001b[0mjob\u001b[0m\u001b[0;34m.\u001b[0m\u001b[0mget\u001b[0m\u001b[0;34m(\u001b[0m\u001b[0;34m)\u001b[0m\u001b[0;34m)\u001b[0m\u001b[0;34m\u001b[0m\u001b[0;34m\u001b[0m\u001b[0m\n",
      "\u001b[0;32m/home/jupyterhub/jupyterhub_venv/lib/python3.6/site-packages/joblib/_parallel_backends.py\u001b[0m in \u001b[0;36mwrap_future_result\u001b[0;34m(future, timeout)\u001b[0m\n\u001b[1;32m    519\u001b[0m         AsyncResults.get from multiprocessing.\"\"\"\n\u001b[1;32m    520\u001b[0m         \u001b[0;32mtry\u001b[0m\u001b[0;34m:\u001b[0m\u001b[0;34m\u001b[0m\u001b[0;34m\u001b[0m\u001b[0m\n\u001b[0;32m--> 521\u001b[0;31m             \u001b[0;32mreturn\u001b[0m \u001b[0mfuture\u001b[0m\u001b[0;34m.\u001b[0m\u001b[0mresult\u001b[0m\u001b[0;34m(\u001b[0m\u001b[0mtimeout\u001b[0m\u001b[0;34m=\u001b[0m\u001b[0mtimeout\u001b[0m\u001b[0;34m)\u001b[0m\u001b[0;34m\u001b[0m\u001b[0;34m\u001b[0m\u001b[0m\n\u001b[0m\u001b[1;32m    522\u001b[0m         \u001b[0;32mexcept\u001b[0m \u001b[0mLokyTimeoutError\u001b[0m\u001b[0;34m:\u001b[0m\u001b[0;34m\u001b[0m\u001b[0;34m\u001b[0m\u001b[0m\n\u001b[1;32m    523\u001b[0m             \u001b[0;32mraise\u001b[0m \u001b[0mTimeoutError\u001b[0m\u001b[0;34m(\u001b[0m\u001b[0;34m)\u001b[0m\u001b[0;34m\u001b[0m\u001b[0;34m\u001b[0m\u001b[0m\n",
      "\u001b[0;32m/usr/lib/python3.6/concurrent/futures/_base.py\u001b[0m in \u001b[0;36mresult\u001b[0;34m(self, timeout)\u001b[0m\n\u001b[1;32m    430\u001b[0m                 \u001b[0;32mraise\u001b[0m \u001b[0mCancelledError\u001b[0m\u001b[0;34m(\u001b[0m\u001b[0;34m)\u001b[0m\u001b[0;34m\u001b[0m\u001b[0;34m\u001b[0m\u001b[0m\n\u001b[1;32m    431\u001b[0m             \u001b[0;32melif\u001b[0m \u001b[0mself\u001b[0m\u001b[0;34m.\u001b[0m\u001b[0m_state\u001b[0m \u001b[0;34m==\u001b[0m \u001b[0mFINISHED\u001b[0m\u001b[0;34m:\u001b[0m\u001b[0;34m\u001b[0m\u001b[0;34m\u001b[0m\u001b[0m\n\u001b[0;32m--> 432\u001b[0;31m                 \u001b[0;32mreturn\u001b[0m \u001b[0mself\u001b[0m\u001b[0;34m.\u001b[0m\u001b[0m__get_result\u001b[0m\u001b[0;34m(\u001b[0m\u001b[0;34m)\u001b[0m\u001b[0;34m\u001b[0m\u001b[0;34m\u001b[0m\u001b[0m\n\u001b[0m\u001b[1;32m    433\u001b[0m             \u001b[0;32melse\u001b[0m\u001b[0;34m:\u001b[0m\u001b[0;34m\u001b[0m\u001b[0;34m\u001b[0m\u001b[0m\n\u001b[1;32m    434\u001b[0m                 \u001b[0;32mraise\u001b[0m \u001b[0mTimeoutError\u001b[0m\u001b[0;34m(\u001b[0m\u001b[0;34m)\u001b[0m\u001b[0;34m\u001b[0m\u001b[0;34m\u001b[0m\u001b[0m\n",
      "\u001b[0;32m/usr/lib/python3.6/concurrent/futures/_base.py\u001b[0m in \u001b[0;36m__get_result\u001b[0;34m(self)\u001b[0m\n\u001b[1;32m    382\u001b[0m     \u001b[0;32mdef\u001b[0m \u001b[0m__get_result\u001b[0m\u001b[0;34m(\u001b[0m\u001b[0mself\u001b[0m\u001b[0;34m)\u001b[0m\u001b[0;34m:\u001b[0m\u001b[0;34m\u001b[0m\u001b[0;34m\u001b[0m\u001b[0m\n\u001b[1;32m    383\u001b[0m         \u001b[0;32mif\u001b[0m \u001b[0mself\u001b[0m\u001b[0;34m.\u001b[0m\u001b[0m_exception\u001b[0m\u001b[0;34m:\u001b[0m\u001b[0;34m\u001b[0m\u001b[0;34m\u001b[0m\u001b[0m\n\u001b[0;32m--> 384\u001b[0;31m             \u001b[0;32mraise\u001b[0m \u001b[0mself\u001b[0m\u001b[0;34m.\u001b[0m\u001b[0m_exception\u001b[0m\u001b[0;34m\u001b[0m\u001b[0;34m\u001b[0m\u001b[0m\n\u001b[0m\u001b[1;32m    385\u001b[0m         \u001b[0;32melse\u001b[0m\u001b[0;34m:\u001b[0m\u001b[0;34m\u001b[0m\u001b[0;34m\u001b[0m\u001b[0m\n\u001b[1;32m    386\u001b[0m             \u001b[0;32mreturn\u001b[0m \u001b[0mself\u001b[0m\u001b[0;34m.\u001b[0m\u001b[0m_result\u001b[0m\u001b[0;34m\u001b[0m\u001b[0;34m\u001b[0m\u001b[0m\n",
      "\u001b[0;31mKeyError\u001b[0m: \"['dist_center4', 'dist_center2', 'dist_center3'] not in index\""
     ]
    }
   ],
   "source": [
    "pred_knn = rent_model_01(X_train, X_test, y_train)\n",
    "pred_knn"
   ]
  },
  {
   "cell_type": "code",
   "execution_count": null,
   "metadata": {},
   "outputs": [],
   "source": [
    "print(f\"score = {rmsle(np.expm1(y_test), np.expm1(pred_knn))}\") #score = 0.23534122382702258"
   ]
  },
  {
   "cell_type": "code",
   "execution_count": null,
   "metadata": {},
   "outputs": [],
   "source": [
    "pred_knn.shape"
   ]
  },
  {
   "cell_type": "code",
   "execution_count": null,
   "metadata": {},
   "outputs": [],
   "source": [
    "X_test_knn = X_test.copy()\n",
    "X_test_knn = pd.concat([X_test_knn, pd.Series(pred_knn, index=X_test.index, name='knn')], axis=1, sort=False)"
   ]
  },
  {
   "cell_type": "code",
   "execution_count": null,
   "metadata": {},
   "outputs": [],
   "source": [
    "X_test_knn['knn'] = np.log1p(X_test_knn['knn'])\n",
    "y_test_knn = y_test.copy()\n",
    "#y_test_knn = np.log1p(y_test)"
   ]
  },
  {
   "cell_type": "code",
   "execution_count": null,
   "metadata": {},
   "outputs": [],
   "source": [
    "def rent_model_02(X_train, X_test, y_train):\n",
    "        class RentLRImputer(BaseEstimator, TransformerMixin):\n",
    "            def fit(self, X, y):\n",
    "                return self\n",
    "\n",
    "            def transform(self, X):\n",
    "                cols = [\n",
    "                    'Количество комнат', \n",
    "                    'Общая площадь', \n",
    "                    'Жилая площадь', \n",
    "                    'Площадь кухни',\n",
    "                    'Этаж', \n",
    "                    'Этажность', \n",
    "                    'Тип квартиры', \n",
    "                    'Планировка', \n",
    "                    'Ремонт', \n",
    "                    'Санузел',\n",
    "                    'Количество балконов', \n",
    "                    'Количество лоджий', \n",
    "                    'Интернет', \n",
    "                    'Торг',\n",
    "                    'Чистая продажа', \n",
    "                    'Ипотека', \n",
    "                    'Возможен обмен', \n",
    "                    'Внесен задаток',\n",
    "                    'Находится в залоге', \n",
    "                    'Форма собственности', \n",
    "                    'Год сдачи', \n",
    "                    'Тип дома',\n",
    "                    'Материал дома', \n",
    "                    'Количество фотографий', \n",
    "                    'lat_h', \n",
    "                    'lon_h', \n",
    "                    'dist_center', \n",
    "                    'dist_center2',\n",
    "#                     'dist_center3',\n",
    "#                     'dist_center4',\n",
    "                    'index_price_perv',\n",
    "                    'index_price_vtor',\n",
    "                    #'inds',\n",
    "                    'zp',\n",
    "                    'metro',\n",
    "                    'house_age',\n",
    "                    'not_first_floor',\n",
    "                    'not_top_floor',\n",
    "                    'has_balcony',\n",
    "                    #'region',\n",
    "                    #'town',\n",
    "                    #'urb'\n",
    "                ]\n",
    "                return X[cols].copy()\n",
    "\n",
    "        pipeline = Pipeline([\n",
    "            ('imputer', RentLRImputer()),\n",
    "            ('scaler', MinMaxScaler()),\n",
    "            ('lr', Ridge()),\n",
    "        ])\n",
    "\n",
    "        param_grid = {\n",
    "            'lr__alpha': [1, 10, 100, 1000],\n",
    "        }\n",
    "        \n",
    "        hyper_search = GridSearchCV(pipeline, param_grid, scoring=rmse_score, cv=3, n_jobs=5, refit=True, verbose=2)\n",
    "        hyper_search.fit(X_train, y_train)\n",
    "        model = hyper_search.best_estimator_\n",
    "        print(f\"RentLRModel:best_params = {hyper_search.best_params_}, best_score = {hyper_search.best_score_}\")\n",
    "        y_pred = model.predict(X_test)\n",
    "        return y_pred"
   ]
  },
  {
   "cell_type": "code",
   "execution_count": null,
   "metadata": {},
   "outputs": [],
   "source": [
    "#X_train2, X_test2, y_train2, y_test2 = train_test_split(X_test_knn, y_test_knn, random_state=0, test_size=0.3)\n",
    "#y2 = np.log1p(y_test_knn)"
   ]
  },
  {
   "cell_type": "code",
   "execution_count": null,
   "metadata": {},
   "outputs": [],
   "source": [
    "pred_lr = rent_model_02(X_train2, X_test2, y_train2)"
   ]
  },
  {
   "cell_type": "code",
   "execution_count": null,
   "metadata": {},
   "outputs": [],
   "source": [
    "print(f\"score = {rmsle(np.expm1(y_test2), np.expm1(pred_lr))}\") #score = 0.4293694740000044"
   ]
  },
  {
   "cell_type": "code",
   "execution_count": null,
   "metadata": {},
   "outputs": [],
   "source": [
    "def rent_model_03(X_train, X_test, y_train):\n",
    "        class RentRFRImputer(BaseEstimator, TransformerMixin):\n",
    "            def fit(self, X, y):\n",
    "                return self\n",
    "            def transform(self, X):\n",
    "                cols = [\n",
    "                    'Количество комнат', \n",
    "                    'Общая площадь', \n",
    "                    'Площадь кухни', \n",
    "                    'Этаж',\n",
    "                    'Этажность', \n",
    "                    'Тип квартиры', \n",
    "                    'Планировка', \n",
    "                    'Ремонт', \n",
    "                    'Санузел',\n",
    "                    'Количество балконов', \n",
    "                    'Количество лоджий', \n",
    "                    'Наличие мебели',\n",
    "                    'Наличие холодильника', \n",
    "                    'Интернет',\n",
    "                    'Коммунальные платежи включены', \n",
    "                    'Тип дома', \n",
    "                    'Материал дома',\n",
    "                    'Количество фотографий', \n",
    "                    'lat_h', \n",
    "                    'lon_h',\n",
    "                    'Год сдачи',\n",
    "                    'Жилая площадь',\n",
    "                    'dist_center',\n",
    "                    'dist_center2',\n",
    "                    'dist_center3',\n",
    "                    'dist_center4',\n",
    "                    'index_price_perv',\n",
    "                    'index_price_vtor',\n",
    "                     'inds',\n",
    "                     'zp',\n",
    "#                     'zp2',\n",
    "                    'metro',\n",
    "                    'house_age',\n",
    "                    #'not_first_not_top',\n",
    "                    'not_first_floor',\n",
    "                    'not_top_floor',\n",
    "                    'has_balcony',\n",
    "                    'region',\n",
    "                    'town',\n",
    "                    #'urb'\n",
    "            ]\n",
    "                return X[cols].copy()\n",
    "\n",
    "        pipe = Pipeline([\n",
    "            ('imputer', RentRFRImputer()),\n",
    "            ('rfr', RandomForestRegressor()),\n",
    "        ])\n",
    "\n",
    "        param_grid={\n",
    "            'rfr__max_depth': [25],\n",
    "            'rfr__n_estimators': [10],\n",
    "            #'rfr__max_features': ['sqrt'],\n",
    "            #'rfr__min_samples_split': range(2, 10),\n",
    "            #'rfr__min_samples_leaf': range(1, 500, 50),\n",
    "            #'rfr__warm_start': [True],\n",
    "            #'rfr__bootstrap': [False],\n",
    "        },\n",
    "        \n",
    "        kfold = KFold(n_splits=3, shuffle=True, random_state=0)\n",
    "        hyper_search = GridSearchCV(pipe, param_grid, scoring=rmsle_score, cv=kfold, n_jobs=2, refit=True, verbose=50)\n",
    "        hyper_search.fit(X_train, y_train)\n",
    "        model = hyper_search.best_estimator_\n",
    "        print(f\"RentRFRModel: best_params = {hyper_search.best_params_}, best_score = {hyper_search.best_score_}\")\n",
    "        \n",
    "#         # посмотрим на важность признаков\n",
    "#         features = X_train.columns\n",
    "#         importances = hyper_search.best_estimator_.named_steps['rfr'].feature_importances_\n",
    "#         indices = np.argsort(importances)\n",
    "#         plt.title('Feature Importances')\n",
    "#         plt.barh(range(len(indices)), importances[indices], color='b', align='center')\n",
    "#         plt.yticks(range(len(indices)), [features[i] for i in indices])\n",
    "#         plt.xlabel('Relative Importance')\n",
    "#         plt.show()\n",
    "        \n",
    "        prediction = model.predict(X_test)\n",
    "        \n",
    "        if 'Цена' in X_test.columns or 'Цена' in X_train.columns: print('\\n=======ALERT DATA LEAK!======\\n')\n",
    "        \n",
    "        return pd.Series(prediction, index=X_test.index, name='Цена')"
   ]
  },
  {
   "cell_type": "code",
   "execution_count": null,
   "metadata": {},
   "outputs": [],
   "source": [
    "X_train, X_test, y_train, y_test = train_test_split(df_train_rent, df_train_rent_target, random_state=0, test_size=0.3)\n",
    "X_train.shape, X_test.shape, y_train.shape, y_test.shape"
   ]
  },
  {
   "cell_type": "code",
   "execution_count": null,
   "metadata": {
    "scrolled": false
   },
   "outputs": [],
   "source": [
    "pred_train_rent_rfr = rent_model_03(X_train, X_test, y_train)\n",
    "print(pred_train_rent_rfr.shape)\n",
    "pred_train_rent_rfr"
   ]
  },
  {
   "cell_type": "code",
   "execution_count": null,
   "metadata": {},
   "outputs": [],
   "source": [
    "print(f\"score = {rmsle(y_test, pred_train_rent_rfr)}\") # score = 0.35763077798677656, 10 деревьев, \n",
    "# score = 0.35028523871246453 на 100"
   ]
  },
  {
   "cell_type": "code",
   "execution_count": null,
   "metadata": {},
   "outputs": [],
   "source": []
  },
  {
   "cell_type": "code",
   "execution_count": null,
   "metadata": {
    "scrolled": true
   },
   "outputs": [],
   "source": [
    "pred_rfr_knn = rent_model_03(X_train2, X_test2, y_train2)"
   ]
  },
  {
   "cell_type": "code",
   "execution_count": null,
   "metadata": {},
   "outputs": [],
   "source": [
    "print(f\"score = {rmsle(np.expm1(y_test2), np.expm1(pred_rfr_knn))}\") #"
   ]
  },
  {
   "cell_type": "code",
   "execution_count": null,
   "metadata": {},
   "outputs": [],
   "source": [
    "# def rfr_model(X, y):\n",
    "# # Perform Grid-Search\n",
    "#     gsc = GridSearchCV(\n",
    "#         estimator=RandomForestRegressor(),\n",
    "#         param_grid={\n",
    "#             'max_depth': range(3,7),\n",
    "#             'n_estimators': (10, 50, 100, 1000),\n",
    "#         },\n",
    "#         cv=5, scoring='neg_mean_squared_error', verbose=0, n_jobs=-1)\n",
    "    \n",
    "#     grid_result = gsc.fit(X, y)\n",
    "#     best_params = grid_result.best_params_\n",
    "    \n",
    "#     rfr = RandomForestRegressor(max_depth=best_params[\"max_depth\"], n_estimators=best_params[\"n_estimators\"],                               random_state=False, verbose=False)\n",
    "# # Perform K-Fold CV\n",
    "#    scores = cross_val_score(rfr, X, y, cv=10, scoring='neg_mean_absolute_error')\n",
    "\n",
    "#     return scores\n",
    "\n",
    "# scores = cross_val_score(rfr, X, y, cv=10, scoring='neg_mean_absolute_error')\n",
    "# predictions = cross_val_predict(rfr, X, y, cv=10)"
   ]
  },
  {
   "cell_type": "markdown",
   "metadata": {},
   "source": [
    "## Sale"
   ]
  },
  {
   "cell_type": "code",
   "execution_count": null,
   "metadata": {},
   "outputs": [],
   "source": [
    "def sale_model_01(X_train, X_test, y_train):\n",
    "        class SaleKNNImputer(BaseEstimator, TransformerMixin):\n",
    "            def fit(self, X, y):\n",
    "                return self\n",
    "            def transform(self, X):\n",
    "                cols = [\n",
    "                    'Количество комнат', \n",
    "                    'Общая площадь', \n",
    "                    'Жилая площадь', \n",
    "                    'Площадь кухни',\n",
    "                    'Этаж', \n",
    "                    'Этажность', \n",
    "                    'Тип квартиры', \n",
    "                    'Планировка', \n",
    "                    'Ремонт', \n",
    "                    'Санузел',\n",
    "                    'Количество балконов', \n",
    "                    'Количество лоджий', \n",
    "                    'Интернет', \n",
    "                    'Торг',\n",
    "                    'Чистая продажа', \n",
    "                    'Ипотека', \n",
    "                    'Возможен обмен', \n",
    "                    'Внесен задаток',\n",
    "                    'Находится в залоге', \n",
    "                    'Форма собственности', \n",
    "                    'Год сдачи', \n",
    "                    'Тип дома',\n",
    "                    'Материал дома', \n",
    "                    'Количество фотографий', \n",
    "                    'lat_h', \n",
    "                    'lon_h', \n",
    "                    'dist_center', \n",
    "                    'dist_center2'\n",
    "                ]\n",
    "                \n",
    "                return X[cols].copy()\n",
    "\n",
    "        pipeline = Pipeline([\n",
    "            ('imputer', SaleKNNImputer()),\n",
    "            ('scaler', StandardScaler()),\n",
    "            ('knn', KNeighborsRegressor()),\n",
    "        ])\n",
    "\n",
    "        param_grid = {\n",
    "            'knn__n_neighbors': [5],\n",
    "            'knn__p': [1]\n",
    "        }\n",
    "        \n",
    "        kfold = KFold(n_splits=3, shuffle=True, random_state=0)\n",
    "        hyper_search = GridSearchCV(pipeline, param_grid, scoring=rmse, cv=kfold, n_jobs=5, refit=True, verbose=50)\n",
    "        hyper_search.fit(X_train, y_train)\n",
    "        model = hyper_search.best_estimator_\n",
    "        print(f\"RentKNNModel: best_params = {hyper_search.best_params_}, best_score = {hyper_search.best_score_}\")\n",
    "        y_pred = model.predict(X_test)\n",
    "        \n",
    "        return y_pred"
   ]
  },
  {
   "cell_type": "code",
   "execution_count": null,
   "metadata": {},
   "outputs": [],
   "source": [
    "X_train3, X_test3, y_train3, y_test3 = train_test_split(X2, y2, random_state=0, test_size=0.5)\n",
    "X_train3.shape, X_test3.shape, y_train3.shape, y_test3.shape"
   ]
  },
  {
   "cell_type": "code",
   "execution_count": null,
   "metadata": {},
   "outputs": [],
   "source": [
    "y_train3 = np.log1p(y_train3)\n",
    "y_test3 = np.log1p(y_test3)"
   ]
  },
  {
   "cell_type": "code",
   "execution_count": null,
   "metadata": {},
   "outputs": [],
   "source": [
    "# pred_knn_sale = sale_model_01(X_train3, X_test3, y_train3)\n",
    "# pred_knn_sale;"
   ]
  },
  {
   "cell_type": "code",
   "execution_count": null,
   "metadata": {},
   "outputs": [],
   "source": [
    "print(f\"score = {rmsle(np.expm1(y_test3), np.expm1(pred_knn_sale))}\") #score = 0.2634184160979688"
   ]
  },
  {
   "cell_type": "code",
   "execution_count": null,
   "metadata": {},
   "outputs": [],
   "source": [
    "pred_knn_sale.shape"
   ]
  },
  {
   "cell_type": "code",
   "execution_count": null,
   "metadata": {},
   "outputs": [],
   "source": [
    "def sale_model_02(X_train, X_test, y_train):\n",
    "        class SaleLRImputer(BaseEstimator, TransformerMixin):\n",
    "            def fit(self, X, y):\n",
    "                return self\n",
    "\n",
    "            def transform(self, X):\n",
    "                cols = [\n",
    "                    'Количество комнат', \n",
    "                    'Общая площадь', \n",
    "                    'Жилая площадь', \n",
    "                    'Площадь кухни',\n",
    "                    'Этаж', \n",
    "                    'Этажность', \n",
    "                    'Тип квартиры', \n",
    "                    'Планировка', \n",
    "                    'Ремонт', \n",
    "                    'Санузел',\n",
    "                    'Количество балконов', \n",
    "                    'Количество лоджий', \n",
    "                    'Интернет', \n",
    "                    'Торг',\n",
    "                    'Чистая продажа', \n",
    "                    'Ипотека', \n",
    "                    'Возможен обмен', \n",
    "                    'Внесен задаток',\n",
    "                    'Находится в залоге', \n",
    "                    'Форма собственности', \n",
    "                    'Год сдачи', \n",
    "                    'Тип дома',\n",
    "                    'Материал дома', \n",
    "                    'Количество фотографий', \n",
    "                    'lat_h', \n",
    "                    'lon_h', \n",
    "                    'dist_center', \n",
    "                    'dist_center2',\n",
    "                    'dist_center3',\n",
    "                    'dist_center4',\n",
    "                    'index_price_perv',\n",
    "                    'index_price_vtor',\n",
    "                    'inds'\n",
    "                ]\n",
    "                return X[cols].copy()\n",
    "\n",
    "        pipeline = Pipeline([\n",
    "            ('imputer', SaleLRImputer()),\n",
    "            ('scaler', MinMaxScaler()),\n",
    "            ('lr', Ridge()),\n",
    "        ])\n",
    "\n",
    "        param_grid = {\n",
    "            'lr__alpha': [1, 10, 100, 1000],\n",
    "        }\n",
    "        \n",
    "        hyper_search = GridSearchCV(pipeline, param_grid, scoring=rmse, cv=3, n_jobs=5, refit=True, verbose=2)\n",
    "        hyper_search.fit(X_train, y_train)\n",
    "        model = hyper_search.best_estimator_\n",
    "        print(f\"RentLRModel:best_params = {hyper_search.best_params_}, best_score = {hyper_search.best_score_}\")\n",
    "        y_pred = model.predict(X_test)\n",
    "        return y_pred"
   ]
  },
  {
   "cell_type": "code",
   "execution_count": null,
   "metadata": {},
   "outputs": [],
   "source": [
    "X_test_knn3 = X_test3.copy()\n",
    "X_test_knn3 = pd.concat([X_test_knn3, pd.Series(pred_knn_sale, index=X_test3.index, name='knn')], axis=1, sort=False)"
   ]
  },
  {
   "cell_type": "code",
   "execution_count": null,
   "metadata": {},
   "outputs": [],
   "source": [
    "X_test_knn3['knn'] = np.log1p(X_test_knn3['knn'])\n",
    "y_test_knn3 = y_test3.copy()\n",
    "#y_test_knn = np.log1p(y_test)"
   ]
  },
  {
   "cell_type": "code",
   "execution_count": null,
   "metadata": {},
   "outputs": [],
   "source": [
    "X_train4, X_test4, y_train4, y_test4 = train_test_split(X_test_knn3, y_test_knn3, random_state=0, test_size=0.3)\n",
    "X_train4.shape, X_test4.shape, y_train4.shape, y_test4.shape"
   ]
  },
  {
   "cell_type": "code",
   "execution_count": null,
   "metadata": {},
   "outputs": [],
   "source": [
    "pred_lr_sale = sale_model_02(X_train4, X_test4, y_train4)\n",
    "pred_lr_sale.shape"
   ]
  },
  {
   "cell_type": "code",
   "execution_count": null,
   "metadata": {},
   "outputs": [],
   "source": [
    "print(f\"score = {rmsle(np.expm1(y_test4), np.expm1(pred_lr_sale))}\") #score = 0.3327222930861954"
   ]
  },
  {
   "cell_type": "code",
   "execution_count": null,
   "metadata": {},
   "outputs": [],
   "source": [
    "def sale_model_03(X_train, X_test, y_train):\n",
    "        class SaleRFRImputer(BaseEstimator, TransformerMixin):\n",
    "            def fit(self, X, y):\n",
    "                return self\n",
    "            def transform(self, X):\n",
    "                cols = [\n",
    "                    'Количество комнат', \n",
    "                    'Общая площадь', \n",
    "                    'Жилая площадь', \n",
    "                    'Площадь кухни',\n",
    "                    'Этаж', \n",
    "                    'Этажность', \n",
    "                    'Тип квартиры', \n",
    "                    'Планировка', \n",
    "                    'Ремонт', \n",
    "                    'Санузел',\n",
    "                    'Количество балконов', \n",
    "                    'Количество лоджий', \n",
    "                    'Интернет', \n",
    "                    'Торг',\n",
    "                    'Чистая продажа', \n",
    "                    'Ипотека', \n",
    "                    'Возможен обмен', \n",
    "                    'Внесен задаток',\n",
    "                    'Находится в залоге', \n",
    "                    'Форма собственности', \n",
    "                    'Год сдачи', \n",
    "                    'Тип дома',\n",
    "                    'Материал дома', \n",
    "                    'Количество фотографий', \n",
    "                    'lat_h', \n",
    "                    'lon_h', \n",
    "                    'dist_center', \n",
    "                    'dist_center2',\n",
    "                    #'dist_center3',\n",
    "                    #'dist_center4',\n",
    "                    'index_price_perv',\n",
    "                    'index_price_vtor',\n",
    "                    'inds',\n",
    "                    #'zp',\n",
    "                    #'zp2',\n",
    "                    #'metro',\n",
    "                    'house_age',\n",
    "                    #'not_first_not_top',\n",
    "                    'not_first_floor',\n",
    "                    'not_top_floor',\n",
    "                    'has_balcony',\n",
    "                    'region',\n",
    "                    'town',\n",
    "                    'urb'\n",
    "                ]\n",
    "                return X[cols].copy()\n",
    "\n",
    "        pipe = Pipeline([\n",
    "            ('imputer', SaleRFRImputer()),\n",
    "            ('rfr', RandomForestRegressor()),\n",
    "        ])\n",
    "\n",
    "        param_grid={\n",
    "            'rfr__max_depth': [25],\n",
    "            'rfr__n_estimators': [10],\n",
    "            #'rfr__max_features': ['sqrt'],\n",
    "            #'rfr__min_samples_split': range(2, 10),\n",
    "            #'rfr__min_samples_leaf': range(1, 500, 50),\n",
    "            #'rfr__warm_start': [False, True],\n",
    "            #'rfr__bootstrap': [False],\n",
    "        },\n",
    "        \n",
    "        kfold = KFold(n_splits=3, shuffle=True, random_state=0)\n",
    "        hyper_search = GridSearchCV(pipe, param_grid, scoring=rmsle_score, cv=kfold, n_jobs=2, refit=True, verbose=50)\n",
    "        hyper_search.fit(X_train, y_train)\n",
    "        model = hyper_search.best_estimator_\n",
    "        print(f\"SaleRFRModel: best_params = {hyper_search.best_params_}, best_score = {hyper_search.best_score_}\")\n",
    "        \n",
    "#         # посмотрим на важность признаков\n",
    "#         features = X_train.columns\n",
    "#         importances = hyper_search.best_estimator_.named_steps['rfr'].feature_importances_\n",
    "#         indices = np.argsort(importances)\n",
    "#         plt.title('Feature Importances')\n",
    "#         plt.barh(range(len(indices)), importances[indices], color='b', align='center')\n",
    "#         plt.yticks(range(len(indices)), [features[i] for i in indices])\n",
    "#         plt.xlabel('Relative Importance')\n",
    "#         plt.show()\n",
    "        \n",
    "        prediction = model.predict(X_test)\n",
    "                \n",
    "        if 'Цена' in X_test.columns or 'Цена' in X_train.columns: print('\\n=======ALERT DATA LEAK!======\\n')\n",
    "        \n",
    "        return pd.Series(prediction, index=X_test.index, name='Цена')"
   ]
  },
  {
   "cell_type": "code",
   "execution_count": null,
   "metadata": {},
   "outputs": [],
   "source": [
    "X_train5, X_test5, y_train5, y_test5 = train_test_split(df_train_sale, df_train_sale_target, random_state=0, test_size=0.3)\n",
    "X_train5.shape, X_test5.shape, y_train5.shape, y_test5.shape"
   ]
  },
  {
   "cell_type": "code",
   "execution_count": null,
   "metadata": {
    "scrolled": false
   },
   "outputs": [],
   "source": [
    "pred_train_sale_rfr = sale_model_03(X_train5, X_test5, y_train5)\n",
    "print(pred_train_sale_rfr.shape)\n",
    "pred_train_sale_rfr"
   ]
  },
  {
   "cell_type": "code",
   "execution_count": null,
   "metadata": {},
   "outputs": [],
   "source": [
    "print(f\"score = {rmsle(y_test5, pred_train_sale_rfr)}\") "
   ]
  },
  {
   "cell_type": "code",
   "execution_count": null,
   "metadata": {},
   "outputs": [],
   "source": []
  },
  {
   "cell_type": "code",
   "execution_count": null,
   "metadata": {
    "scrolled": true
   },
   "outputs": [],
   "source": [
    "pred_rfr_sale_knn = sale_model_03(X_train4, X_test4, y_train4)"
   ]
  },
  {
   "cell_type": "code",
   "execution_count": null,
   "metadata": {},
   "outputs": [],
   "source": [
    "print(f\"score = {rmsle(np.expm1(y_test4), np.expm1(pred_rfr_sale_knn))}\") #score = 0.3582030741056765"
   ]
  },
  {
   "cell_type": "markdown",
   "metadata": {},
   "source": [
    "## Test"
   ]
  },
  {
   "cell_type": "markdown",
   "metadata": {},
   "source": [
    "## Test Data Preprocessing"
   ]
  },
  {
   "cell_type": "code",
   "execution_count": 37,
   "metadata": {},
   "outputs": [],
   "source": [
    "def clean_test_data(df_input):\n",
    "    df_output = df_input.copy()\n",
    "\n",
    "    df_output['Форма собственности'] = df_output['Форма собственности'].replace(\n",
    "        {'другое (укажите в описании)': 'другое'}) \n",
    "    df_output['Материал дома'] = df_output['Материал дома'].replace({'кирпич-монолит':'кирпич - монолит'})\n",
    "    \n",
    "    return df_output"
   ]
  },
  {
   "cell_type": "code",
   "execution_count": 38,
   "metadata": {},
   "outputs": [
    {
     "data": {
      "text/plain": [
       "(129485, 42)"
      ]
     },
     "execution_count": 38,
     "metadata": {},
     "output_type": "execute_result"
    }
   ],
   "source": [
    "df_test_preproc_NA_OUT_ENC = df_test.pipe(fill_nan).pipe(clean_test_data).pipe(feature_encoding)\n",
    "df_test_preproc_NA_OUT_ENC.shape"
   ]
  },
  {
   "cell_type": "markdown",
   "metadata": {},
   "source": [
    "## Fit Rent"
   ]
  },
  {
   "cell_type": "code",
   "execution_count": 39,
   "metadata": {},
   "outputs": [
    {
     "data": {
      "text/plain": [
       "(46203, 29)"
      ]
     },
     "execution_count": 39,
     "metadata": {},
     "output_type": "execute_result"
    }
   ],
   "source": [
    "df_test_rent = \\\n",
    "df_test_preproc_NA_OUT_ENC[df_test_preproc_NA_OUT_ENC['Рубрика'] == 'Аренда'].pipe(add_features)\n",
    "df_test_rent.drop(cols_to_drop_rent, axis=1, inplace=True)\n",
    "df_test_rent.shape"
   ]
  },
  {
   "cell_type": "code",
   "execution_count": 40,
   "metadata": {},
   "outputs": [],
   "source": [
    "#pred_test_rent_rfr = rent_model_03(df_train_rent, df_test_rent, df_train_rent_target)"
   ]
  },
  {
   "cell_type": "code",
   "execution_count": 41,
   "metadata": {
    "scrolled": true
   },
   "outputs": [
    {
     "name": "stderr",
     "output_type": "stream",
     "text": [
      "[Parallel(n_jobs=2)]: Using backend ThreadingBackend with 2 concurrent workers.\n"
     ]
    },
    {
     "name": "stdout",
     "output_type": "stream",
     "text": [
      "building tree 1 of 100\n",
      "building tree 2 of 100\n",
      "building tree 3 of 100\n",
      "building tree 4 of 100\n",
      "building tree 5 of 100\n",
      "building tree 6 of 100\n",
      "building tree 7 of 100\n",
      "building tree 8 of 100\n",
      "building tree 9 of 100\n",
      "building tree 10 of 100\n",
      "building tree 11 of 100\n",
      "building tree 12 of 100\n",
      "building tree 13 of 100\n",
      "building tree 14 of 100\n",
      "building tree 15 of 100\n",
      "building tree 16 of 100\n",
      "building tree 17 of 100\n",
      "building tree 18 of 100\n",
      "building tree 19 of 100\n",
      "building tree 20 of 100\n",
      "building tree 21 of 100\n",
      "building tree 22 of 100\n",
      "building tree 23 of 100\n",
      "building tree 24 of 100\n",
      "building tree 25 of 100\n",
      "building tree 26 of 100\n",
      "building tree 27 of 100\n",
      "building tree 28 of 100\n",
      "building tree 29 of 100\n",
      "building tree 30 of 100\n",
      "building tree 31 of 100\n",
      "building tree 32 of 100\n",
      "building tree 33 of 100\n",
      "building tree 34 of 100\n",
      "building tree 35 of 100\n",
      "building tree 36 of 100\n",
      "building tree 37 of 100\n",
      "building tree 38 of 100\n"
     ]
    },
    {
     "name": "stderr",
     "output_type": "stream",
     "text": [
      "[Parallel(n_jobs=2)]: Done  37 tasks      | elapsed:   14.8s\n"
     ]
    },
    {
     "name": "stdout",
     "output_type": "stream",
     "text": [
      "building tree 39 of 100\n",
      "building tree 40 of 100\n",
      "building tree 41 of 100\n",
      "building tree 42 of 100\n",
      "building tree 43 of 100\n",
      "building tree 44 of 100\n",
      "building tree 45 of 100\n",
      "building tree 46 of 100\n",
      "building tree 47 of 100\n",
      "building tree 48 of 100\n",
      "building tree 49 of 100\n",
      "building tree 50 of 100\n",
      "building tree 51 of 100\n",
      "building tree 52 of 100\n",
      "building tree 53 of 100\n",
      "building tree 54 of 100\n",
      "building tree 55 of 100\n",
      "building tree 56 of 100\n",
      "building tree 57 of 100\n",
      "building tree 58 of 100\n",
      "building tree 59 of 100\n",
      "building tree 60 of 100\n",
      "building tree 61 of 100\n",
      "building tree 62 of 100\n",
      "building tree 63 of 100\n",
      "building tree 64 of 100\n",
      "building tree 65 of 100\n",
      "building tree 66 of 100\n",
      "building tree 67 of 100\n",
      "building tree 68 of 100\n",
      "building tree 69 of 100\n",
      "building tree 70 of 100\n",
      "building tree 71 of 100\n",
      "building tree 72 of 100\n",
      "building tree 73 of 100\n",
      "building tree 74 of 100\n",
      "building tree 75 of 100\n",
      "building tree 76 of 100\n",
      "building tree 77 of 100\n",
      "building tree 78 of 100\n",
      "building tree 79 of 100\n",
      "building tree 80 of 100\n",
      "building tree 81 of 100\n",
      "building tree 82 of 100\n",
      "building tree 83 of 100\n",
      "building tree 84 of 100\n",
      "building tree 85 of 100\n",
      "building tree 86 of 100\n",
      "building tree 87 of 100\n",
      "building tree 88 of 100\n",
      "building tree 89 of 100\n",
      "building tree 90 of 100\n",
      "building tree 91 of 100\n",
      "building tree 92 of 100\n",
      "building tree 93 of 100\n",
      "building tree 94 of 100\n",
      "building tree 95 of 100\n",
      "building tree 96 of 100\n",
      "building tree 97 of 100\n",
      "building tree 98 of 100\n",
      "building tree 99 of 100\n",
      "building tree 100 of 100\n"
     ]
    },
    {
     "name": "stderr",
     "output_type": "stream",
     "text": [
      "[Parallel(n_jobs=2)]: Done 100 out of 100 | elapsed:   39.2s finished\n"
     ]
    },
    {
     "data": {
      "text/plain": [
       "RandomForestRegressor(bootstrap=True, criterion='mse', max_depth=None,\n",
       "                      max_features='auto', max_leaf_nodes=None,\n",
       "                      min_impurity_decrease=0.0, min_impurity_split=None,\n",
       "                      min_samples_leaf=1, min_samples_split=2,\n",
       "                      min_weight_fraction_leaf=0.0, n_estimators=100, n_jobs=2,\n",
       "                      oob_score=False, random_state=None, verbose=2,\n",
       "                      warm_start=False)"
      ]
     },
     "execution_count": 41,
     "metadata": {},
     "output_type": "execute_result"
    }
   ],
   "source": [
    "model = RandomForestRegressor(n_estimators=100, verbose=2, n_jobs=2)\n",
    "model.fit(df_train_rent, df_train_rent_target)"
   ]
  },
  {
   "cell_type": "code",
   "execution_count": 42,
   "metadata": {
    "scrolled": true
   },
   "outputs": [
    {
     "name": "stderr",
     "output_type": "stream",
     "text": [
      "[Parallel(n_jobs=2)]: Using backend ThreadingBackend with 2 concurrent workers.\n",
      "[Parallel(n_jobs=2)]: Done  37 tasks      | elapsed:    0.2s\n",
      "[Parallel(n_jobs=2)]: Done 100 out of 100 | elapsed:    0.6s finished\n"
     ]
    }
   ],
   "source": [
    "pred_test_rent_rfr = model.predict(df_test_rent)"
   ]
  },
  {
   "cell_type": "code",
   "execution_count": 43,
   "metadata": {},
   "outputs": [
    {
     "data": {
      "text/plain": [
       "(46203,)"
      ]
     },
     "execution_count": 43,
     "metadata": {},
     "output_type": "execute_result"
    }
   ],
   "source": [
    "pred_test_rent_rfr.shape # best_score = -0.35762453844675574"
   ]
  },
  {
   "cell_type": "code",
   "execution_count": 44,
   "metadata": {},
   "outputs": [
    {
     "data": {
      "text/plain": [
       "ID\n",
       "262893     9074.000000\n",
       "262995    12460.900000\n",
       "263094     9213.970000\n",
       "263139    12264.111111\n",
       "263255     6110.000000\n",
       "              ...     \n",
       "376736    16814.893333\n",
       "379733    10936.000000\n",
       "380969    10446.000000\n",
       "385940    54400.000000\n",
       "389381    13380.000000\n",
       "Name: Цена, Length: 46203, dtype: float64"
      ]
     },
     "execution_count": 44,
     "metadata": {},
     "output_type": "execute_result"
    }
   ],
   "source": [
    "pred_test_rent_rfr = pd.Series(pred_test_rent_rfr, index=df_test_rent.index, name='Цена')\n",
    "pred_test_rent_rfr"
   ]
  },
  {
   "cell_type": "markdown",
   "metadata": {},
   "source": [
    "## Fit Sale"
   ]
  },
  {
   "cell_type": "code",
   "execution_count": 47,
   "metadata": {},
   "outputs": [
    {
     "data": {
      "text/plain": [
       "(83282, 42)"
      ]
     },
     "execution_count": 47,
     "metadata": {},
     "output_type": "execute_result"
    }
   ],
   "source": [
    "df_sale_test = df_test_preproc_NA_OUT_ENC[df_test_preproc_NA_OUT_ENC['Рубрика'] == 'Продажа']\n",
    "df_sale_test.shape"
   ]
  },
  {
   "cell_type": "code",
   "execution_count": 48,
   "metadata": {},
   "outputs": [],
   "source": [
    "del df_test_preproc_NA_OUT_ENC"
   ]
  },
  {
   "cell_type": "code",
   "execution_count": 49,
   "metadata": {},
   "outputs": [
    {
     "data": {
      "text/plain": [
       "(83282, 33)"
      ]
     },
     "execution_count": 49,
     "metadata": {},
     "output_type": "execute_result"
    }
   ],
   "source": [
    "df_test_sale = df_sale_test.pipe(add_features)\n",
    "df_test_sale.drop(cols_to_drop_sale, axis=1, inplace=True)\n",
    "df_test_sale.shape"
   ]
  },
  {
   "cell_type": "code",
   "execution_count": 50,
   "metadata": {
    "scrolled": true
   },
   "outputs": [],
   "source": [
    "#pred_test_sale_rfr = sale_model_03(df_train_sale, df_test_sale, df_train_sale_target)"
   ]
  },
  {
   "cell_type": "code",
   "execution_count": 51,
   "metadata": {
    "scrolled": true
   },
   "outputs": [
    {
     "name": "stderr",
     "output_type": "stream",
     "text": [
      "[Parallel(n_jobs=2)]: Using backend ThreadingBackend with 2 concurrent workers.\n"
     ]
    },
    {
     "name": "stdout",
     "output_type": "stream",
     "text": [
      "building tree 1 of 100\n",
      "building tree 2 of 100\n",
      "building tree 3 of 100\n",
      "building tree 4 of 100\n",
      "building tree 5 of 100\n",
      "building tree 6 of 100\n",
      "building tree 7 of 100\n",
      "building tree 8 of 100\n",
      "building tree 9 of 100building tree 10 of 100\n",
      "\n",
      "building tree 11 of 100\n",
      "building tree 12 of 100\n",
      "building tree 13 of 100\n",
      "building tree 14 of 100\n",
      "building tree 15 of 100\n",
      "building tree 16 of 100\n",
      "building tree 17 of 100\n",
      "building tree 18 of 100\n",
      "building tree 19 of 100\n",
      "building tree 20 of 100\n",
      "building tree 21 of 100\n",
      "building tree 22 of 100\n",
      "building tree 23 of 100\n",
      "building tree 24 of 100\n",
      "building tree 25 of 100\n",
      "building tree 26 of 100\n",
      "building tree 27 of 100\n",
      "building tree 28 of 100\n",
      "building tree 29 of 100\n",
      "building tree 30 of 100\n",
      "building tree 31 of 100\n",
      "building tree 32 of 100\n",
      "building tree 33 of 100\n",
      "building tree 34 of 100\n",
      "building tree 35 of 100\n",
      "building tree 36 of 100\n",
      "building tree 37 of 100\n",
      "building tree 38 of 100\n"
     ]
    },
    {
     "name": "stderr",
     "output_type": "stream",
     "text": [
      "[Parallel(n_jobs=2)]: Done  37 tasks      | elapsed:   32.5s\n"
     ]
    },
    {
     "name": "stdout",
     "output_type": "stream",
     "text": [
      "building tree 39 of 100\n",
      "building tree 40 of 100\n",
      "building tree 41 of 100\n",
      "building tree 42 of 100\n",
      "building tree 43 of 100\n",
      "building tree 44 of 100\n",
      "building tree 45 of 100\n",
      "building tree 46 of 100\n",
      "building tree 47 of 100\n",
      "building tree 48 of 100\n",
      "building tree 49 of 100\n",
      "building tree 50 of 100\n",
      "building tree 51 of 100\n",
      "building tree 52 of 100\n",
      "building tree 53 of 100\n",
      "building tree 54 of 100\n",
      "building tree 55 of 100\n",
      "building tree 56 of 100\n",
      "building tree 57 of 100\n",
      "building tree 58 of 100\n",
      "building tree 59 of 100\n",
      "building tree 60 of 100\n",
      "building tree 61 of 100\n",
      "building tree 62 of 100\n",
      "building tree 63 of 100\n",
      "building tree 64 of 100\n",
      "building tree 65 of 100\n",
      "building tree 66 of 100\n",
      "building tree 67 of 100\n",
      "building tree 68 of 100\n",
      "building tree 69 of 100\n",
      "building tree 70 of 100\n",
      "building tree 71 of 100\n",
      "building tree 72 of 100\n",
      "building tree 73 of 100\n",
      "building tree 74 of 100\n",
      "building tree 75 of 100\n",
      "building tree 76 of 100\n",
      "building tree 77 of 100\n",
      "building tree 78 of 100\n",
      "building tree 79 of 100\n",
      "building tree 80 of 100\n",
      "building tree 81 of 100\n",
      "building tree 82 of 100\n",
      "building tree 83 of 100\n",
      "building tree 84 of 100\n",
      "building tree 85 of 100\n",
      "building tree 86 of 100\n",
      "building tree 87 of 100\n",
      "building tree 88 of 100\n",
      "building tree 89 of 100\n",
      "building tree 90 of 100\n",
      "building tree 91 of 100\n",
      "building tree 92 of 100\n",
      "building tree 93 of 100\n",
      "building tree 94 of 100\n",
      "building tree 95 of 100\n",
      "building tree 96 of 100\n",
      "building tree 97 of 100\n",
      "building tree 98 of 100\n",
      "building tree 99 of 100\n",
      "building tree 100 of 100\n"
     ]
    },
    {
     "name": "stderr",
     "output_type": "stream",
     "text": [
      "[Parallel(n_jobs=2)]: Done 100 out of 100 | elapsed:  1.4min finished\n",
      "[Parallel(n_jobs=2)]: Using backend ThreadingBackend with 2 concurrent workers.\n",
      "[Parallel(n_jobs=2)]: Done  37 tasks      | elapsed:    0.5s\n",
      "[Parallel(n_jobs=2)]: Done 100 out of 100 | elapsed:    1.3s finished\n"
     ]
    }
   ],
   "source": [
    "model = RandomForestRegressor(n_estimators=100, verbose=2, n_jobs=2)\n",
    "model.fit(df_train_sale, df_train_sale_target)\n",
    "pred_test_sale_rfr = model.predict(df_test_sale)"
   ]
  },
  {
   "cell_type": "code",
   "execution_count": 52,
   "metadata": {},
   "outputs": [
    {
     "data": {
      "text/plain": [
       "(83282,)"
      ]
     },
     "execution_count": 52,
     "metadata": {},
     "output_type": "execute_result"
    }
   ],
   "source": [
    "pred_test_sale_rfr.shape # best_score = -0.1689683180613796"
   ]
  },
  {
   "cell_type": "code",
   "execution_count": 53,
   "metadata": {},
   "outputs": [
    {
     "data": {
      "text/plain": [
       "ID\n",
       "262894    4.966040e+06\n",
       "262907    2.355790e+06\n",
       "262916    3.277580e+06\n",
       "262933    8.076307e+06\n",
       "262935    3.885026e+06\n",
       "              ...     \n",
       "384173    3.852862e+06\n",
       "385000    9.176400e+05\n",
       "385271    3.611681e+06\n",
       "387660    1.921060e+06\n",
       "389962    1.167900e+06\n",
       "Name: Цена, Length: 83282, dtype: float64"
      ]
     },
     "execution_count": 53,
     "metadata": {},
     "output_type": "execute_result"
    }
   ],
   "source": [
    "pred_test_sale_rfr = pd.Series(pred_test_sale_rfr, index=df_test_sale.index, name='Цена')\n",
    "pred_test_sale_rfr"
   ]
  },
  {
   "cell_type": "code",
   "execution_count": 54,
   "metadata": {},
   "outputs": [],
   "source": [
    "del model"
   ]
  },
  {
   "cell_type": "markdown",
   "metadata": {},
   "source": [
    "## Combining predictions"
   ]
  },
  {
   "cell_type": "code",
   "execution_count": 55,
   "metadata": {},
   "outputs": [
    {
     "name": "stdout",
     "output_type": "stream",
     "text": [
      "(46203,)\n"
     ]
    },
    {
     "data": {
      "text/plain": [
       "ID\n",
       "262893     9074.000000\n",
       "262995    12460.900000\n",
       "263094     9213.970000\n",
       "263139    12264.111111\n",
       "263255     6110.000000\n",
       "              ...     \n",
       "376736    16814.893333\n",
       "379733    10936.000000\n",
       "380969    10446.000000\n",
       "385940    54400.000000\n",
       "389381    13380.000000\n",
       "Name: Цена, Length: 46203, dtype: float64"
      ]
     },
     "execution_count": 55,
     "metadata": {},
     "output_type": "execute_result"
    }
   ],
   "source": [
    "print(pred_test_rent_rfr.shape)\n",
    "pred_test_rent_rfr"
   ]
  },
  {
   "cell_type": "code",
   "execution_count": 56,
   "metadata": {},
   "outputs": [
    {
     "data": {
      "text/plain": [
       "ID\n",
       "262893     9074.000000\n",
       "262995    12460.900000\n",
       "263094     9213.970000\n",
       "263139    12264.111111\n",
       "263255     6110.000000\n",
       "              ...     \n",
       "376736    16814.893333\n",
       "379733    10936.000000\n",
       "380969    10446.000000\n",
       "385940    54400.000000\n",
       "389381    13380.000000\n",
       "Name: Цена, Length: 46203, dtype: float64"
      ]
     },
     "execution_count": 56,
     "metadata": {},
     "output_type": "execute_result"
    }
   ],
   "source": [
    "pred_rent = pd.Series(pred_test_rent_rfr, index=df_test_rent.index, name='Цена')\n",
    "pred_rent.shape\n",
    "pred_rent"
   ]
  },
  {
   "cell_type": "code",
   "execution_count": 57,
   "metadata": {},
   "outputs": [
    {
     "name": "stdout",
     "output_type": "stream",
     "text": [
      "(83282,)\n"
     ]
    },
    {
     "data": {
      "text/plain": [
       "ID\n",
       "262894    4.966040e+06\n",
       "262907    2.355790e+06\n",
       "262916    3.277580e+06\n",
       "262933    8.076307e+06\n",
       "262935    3.885026e+06\n",
       "              ...     \n",
       "384173    3.852862e+06\n",
       "385000    9.176400e+05\n",
       "385271    3.611681e+06\n",
       "387660    1.921060e+06\n",
       "389962    1.167900e+06\n",
       "Name: Цена, Length: 83282, dtype: float64"
      ]
     },
     "execution_count": 57,
     "metadata": {},
     "output_type": "execute_result"
    }
   ],
   "source": [
    "print(pred_test_sale_rfr.shape)\n",
    "pred_test_sale_rfr"
   ]
  },
  {
   "cell_type": "code",
   "execution_count": 58,
   "metadata": {},
   "outputs": [
    {
     "data": {
      "text/plain": [
       "ID\n",
       "262894    4.966040e+06\n",
       "262895    2.383010e+06\n",
       "262896    1.450560e+07\n",
       "262906    2.404970e+06\n",
       "262907    2.355790e+06\n",
       "              ...     \n",
       "392372    2.227447e+06\n",
       "392374    1.793154e+06\n",
       "392375    2.058733e+06\n",
       "392376    2.118886e+06\n",
       "392377    2.259131e+06\n",
       "Name: Цена, Length: 83282, dtype: float64"
      ]
     },
     "execution_count": 58,
     "metadata": {},
     "output_type": "execute_result"
    }
   ],
   "source": [
    "pred_sale = pd.Series(pred_test_sale_rfr, index=df_sale_test.index, name='Цена');\n",
    "pred_sale.shape\n",
    "pred_sale"
   ]
  },
  {
   "cell_type": "code",
   "execution_count": 59,
   "metadata": {},
   "outputs": [
    {
     "data": {
      "text/plain": [
       "ID\n",
       "262893    9.074000e+03\n",
       "262894    4.966040e+06\n",
       "262895    2.383010e+06\n",
       "262896    1.450560e+07\n",
       "262897    9.648000e+03\n",
       "              ...     \n",
       "392373    1.340300e+04\n",
       "392374    1.793154e+06\n",
       "392375    2.058733e+06\n",
       "392376    2.118886e+06\n",
       "392377    2.259131e+06\n",
       "Name: Цена, Length: 129485, dtype: float64"
      ]
     },
     "execution_count": 59,
     "metadata": {},
     "output_type": "execute_result"
    }
   ],
   "source": [
    "pred = pd.concat([pred_rent, pred_sale], axis=0).sort_index()\n",
    "pred.shape\n",
    "pred"
   ]
  },
  {
   "cell_type": "code",
   "execution_count": 60,
   "metadata": {},
   "outputs": [],
   "source": [
    "pd.DataFrame(zip(pred.index.values, pred.values), columns=['ID', 'Цена']).to_csv('pred_01_comp.csv', sep=',', index=False)"
   ]
  },
  {
   "cell_type": "code",
   "execution_count": 61,
   "metadata": {},
   "outputs": [
    {
     "name": "stdout",
     "output_type": "stream",
     "text": [
      "Once deleted, variables cannot be recovered. Proceed (y/[n])? y\n"
     ]
    }
   ],
   "source": [
    "%reset"
   ]
  },
  {
   "cell_type": "code",
   "execution_count": null,
   "metadata": {},
   "outputs": [],
   "source": []
  },
  {
   "cell_type": "code",
   "execution_count": null,
   "metadata": {},
   "outputs": [],
   "source": []
  }
 ],
 "metadata": {
  "kernelspec": {
   "display_name": "Python 3",
   "language": "python",
   "name": "python3"
  },
  "language_info": {
   "codemirror_mode": {
    "name": "ipython",
    "version": 3
   },
   "file_extension": ".py",
   "mimetype": "text/x-python",
   "name": "python",
   "nbconvert_exporter": "python",
   "pygments_lexer": "ipython3",
   "version": "3.6.8"
  }
 },
 "nbformat": 4,
 "nbformat_minor": 2
}
