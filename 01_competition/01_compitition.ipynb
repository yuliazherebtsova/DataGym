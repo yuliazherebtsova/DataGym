{
 "cells": [
  {
   "cell_type": "code",
   "execution_count": null,
   "metadata": {},
   "outputs": [],
   "source": [
    "import pandas as pd\n",
    "import numpy as np\n",
    "import matplotlib.pyplot as plt\n",
    "import seaborn as sns\n",
    "import warnings\n",
    "import system assys\n",
    "warnings.filterwarnings(\"ignore\")\n",
    "import math\n",
    "import scipy.stats as st\n",
    "from sklearn import preprocessing\n",
    "\n",
    "from sklearn.preprocessing import StandardScaler, MinMaxScaler\n",
    "from sklearn.neighbors import KNeighborsRegressor\n",
    "from sklearn.linear_model import LinearRegression, Lasso, Ridge\n",
    "from sklearn.metrics import mean_squared_log_error, make_scorer, mean_squared_error\n",
    "from sklearn.base import BaseEstimator, TransformerMixin\n",
    "from sklearn.pipeline import Pipeline\n",
    "from sklearn.model_selection import train_test_split, KFold, cross_val_score, StratifiedKFold, RandomizedSearchCV, GridSearchCV\n",
    "from sklearn.ensemble import RandomForestRegressor, GradientBoostingRegressor\n",
    "import pickle\n",
    "\n",
    "# plt.style.use('ggplot')\n",
    "# plt.rcParams['figure.figsize'] = (18,12)"
   ]
  },
  {
   "cell_type": "markdown",
   "metadata": {},
   "source": [
    "## Make Scorers"
   ]
  },
  {
   "cell_type": "code",
   "execution_count": null,
   "metadata": {},
   "outputs": [],
   "source": [
    "def rmsle(y, y_hat):\n",
    "    res = 0\n",
    "    for i, j in zip(y, y_hat):\n",
    "        res += (math.log(i + 1) - math.log(j + 1)) ** 2\n",
    "    return (res / len(y)) ** 0.5\n",
    "\n",
    "def rmse(y_actual, y_pred):\n",
    "    return np.sqrt(mean_squared_error(y_actual, y_pred))\n",
    "\n",
    "rmsle_score = make_scorer(rmsle, greater_is_better=False)\n",
    "rmse_score = make_scorer(rmse, greater_is_better=False)"
   ]
  },
  {
   "cell_type": "markdown",
   "metadata": {},
   "source": [
    "## Data Uploading"
   ]
  },
  {
   "cell_type": "code",
   "execution_count": null,
   "metadata": {},
   "outputs": [],
   "source": [
    "# объединенный трейн и тест датасеты с геогр.координатами\n",
    "with open('df.pkl', 'rb') as f:\n",
    "    df_coordinates = pickle.load(f)\n",
    "f.close()\n",
    "del f"
   ]
  },
  {
   "cell_type": "code",
   "execution_count": null,
   "metadata": {},
   "outputs": [],
   "source": [
    "df_train = df_coordinates[df_coordinates['sampletype']=='train']\n",
    "df_train.shape"
   ]
  },
  {
   "cell_type": "code",
   "execution_count": null,
   "metadata": {},
   "outputs": [],
   "source": [
    "df_test = df_coordinates[df_coordinates['sampletype']=='test']\n",
    "df_test.shape"
   ]
  },
  {
   "cell_type": "code",
   "execution_count": null,
   "metadata": {},
   "outputs": [],
   "source": [
    "del df_coordinates"
   ]
  },
  {
   "cell_type": "markdown",
   "metadata": {},
   "source": [
    "## Test"
   ]
  },
  {
   "cell_type": "markdown",
   "metadata": {},
   "source": [
    "## EDA"
   ]
  },
  {
   "cell_type": "code",
   "execution_count": null,
   "metadata": {},
   "outputs": [],
   "source": [
    "def df_print_unique(df_input):\n",
    "    df_output = df_input.fillna(-100)\n",
    "    for col in df_output.columns:\n",
    "        print(df_output[col].value_counts())\n",
    "        print(f'nunique = {df_output[col].nunique()}')\n",
    "        print(\"~\"*50)\n",
    "        \n",
    "#df_print_unique(df_train)"
   ]
  },
  {
   "cell_type": "code",
   "execution_count": null,
   "metadata": {},
   "outputs": [],
   "source": [
    "# for col in df_train.columns:\n",
    "#     print(df_train.groupby('Рубрика')[col].count())\n",
    "#     print('---------------------------------')"
   ]
  },
  {
   "cell_type": "markdown",
   "metadata": {},
   "source": [
    "## Filling NaN"
   ]
  },
  {
   "cell_type": "code",
   "execution_count": null,
   "metadata": {},
   "outputs": [],
   "source": [
    "# for col in df_train.columns:\n",
    "#     print(col)\n",
    "#     print(pd.unique(df_train[col].values))\n",
    "#     print('---------------------------------')"
   ]
  },
  {
   "cell_type": "code",
   "execution_count": null,
   "metadata": {},
   "outputs": [],
   "source": [
    "# кол-во пропусков в процентах\n",
    "#df_train.isna().sum()*100/df_train.shape[0]"
   ]
  },
  {
   "cell_type": "code",
   "execution_count": null,
   "metadata": {},
   "outputs": [],
   "source": [
    "def fill_nan(df_input):\n",
    "    df_output = df_input.copy()\n",
    "    fill_with_minus_1 = ['Коммунальные платежи включены',\n",
    "                  'Находится в залоге',\n",
    "                  'Внесен задаток',\n",
    "                  'Возможен обмен',\n",
    "                  'Ипотека',\n",
    "                  'Чистая продажа',\n",
    "                  'Торг',\n",
    "                  'Интернет',\n",
    "                  'Наличие мебели',\n",
    "                  'Наличие холодильника',\n",
    "                  'Площадь кухни',\n",
    "                  'Жилая площадь',\n",
    "                  'Общая площадь',\n",
    "                  'Год сдачи',\n",
    "                  'Санузел',\n",
    "                  'Ремонт',\n",
    "    ]\n",
    "    \n",
    "    fill_with_other = ['Ориентир',\n",
    "                      'Тип квартиры',\n",
    "                      'Планировка',\n",
    "                      'Форма собственности',\n",
    "                      'Тип дома',       \n",
    "                      'Материал дома'                     \n",
    "    ]\n",
    "    \n",
    "    fill_with_unkn = ['Улица',\n",
    "                      'Номер дома',\n",
    "                      'Район', \n",
    "                      'Микрорайон'\n",
    "    ]\n",
    "    \n",
    "    df_output[fill_with_minus_1] = df_output[fill_with_minus_1].fillna(value=-1)\n",
    "    df_output[fill_with_other] = df_output[fill_with_other].fillna(value='другое')\n",
    "    df_output[fill_with_unkn] = df_output[fill_with_unkn].fillna(value='не указано')\n",
    "    \n",
    "    return df_output"
   ]
  },
  {
   "cell_type": "markdown",
   "metadata": {},
   "source": [
    "## Data Cleaning (preprocessing outliers + garbage)"
   ]
  },
  {
   "cell_type": "code",
   "execution_count": null,
   "metadata": {},
   "outputs": [],
   "source": [
    "def clean_test_data(df_input):\n",
    "    df_output = df_input.copy()\n",
    "\n",
    "    df_output['Форма собственности'] = df_output['Форма собственности'].replace(\n",
    "        {'другое (укажите в описании)': 'другое'}) \n",
    "    df_output['Материал дома'] = df_output['Материал дома'].replace({'кирпич-монолит':'кирпич - монолит'})\n",
    "    \n",
    "    # исправляем выборосы из координат: сравниваем реальные координаты городов и регионов с раскодированными, удаляем\n",
    "    # слишком далекие друг от друга (по евклидовому расстоянию), заменяем на средние lon и lat по городу\n",
    "#     df_tmp = pd.merge(\n",
    "#                 df_output, df_output.groupby(['Регион', 'Город']).agg({'lat': 'mean', 'lon': 'mean'}).reset_index(), \n",
    "#                 how='left', \n",
    "#                 left_on=['Регион', 'Город'], \n",
    "#                 right_on=['Регион', 'Город'])\n",
    "#     df_tmp['dist'] = df_tmp.apply(\n",
    "#         lambda r: ((r['lat_x'] - r['lat_y'])**2 + (r['lon_x'] - r['lon_y'])**2)**0.5, axis=1)\n",
    "#     for i in df_tmp[(~df_tmp.location_full_match) & (df_tmp.dist > 5)].index.values:\n",
    "#         if str(df_tmp.loc[i, 'Регион']).lower() not in str(df_tmp.loc[i, 'location_display_name']).lower() \\\n",
    "#         and str(df_tmp.loc[i, 'Город']).lower() not in str(df_tmp.loc[i, 'location_display_name']).lower():\n",
    "#             df_output.loc[i, 'lat'] = df_tmp.loc[i, 'lat_y']\n",
    "#             df_output.loc[i, 'lon'] = df_tmp.loc[i, 'lon_y']\n",
    "            \n",
    "            \n",
    "    # удаляем выборосы из всей выборки\n",
    "    outliers = [] \n",
    "    \n",
    "    outliers.extend(df_output[(df_output['Цена']>=10000000)&(df_output['Общая площадь']<=50)|\n",
    "                              (df_output['Цена']>20000000)&(df_output['Общая площадь']<100)|\n",
    "                              (df_output['Цена']==350000000)|\n",
    "                              (df_output['Цена']==111111111)|\n",
    "                              (df_output['Цена']==85000000)|\n",
    "                              (df_output['Цена']==68000000)|\n",
    "                              (df_output['Общая площадь']<=5)\n",
    "                             ].index)\n",
    "    outliers.extend(df_output[(df_output['Этажность']>52)].index)\n",
    "    outliers.extend(df_output[(df_output['Количество лоджий']>20)|(df_output['Количество балконов']>20)].index)\n",
    "    outliers.extend(\n",
    "        df_output[\n",
    "            (df_output['Общая площадь']>400)|\n",
    "            (df_output['Площадь кухни']>df_output['Общая площадь'])|\n",
    "            (df_output['Жилая площадь']>df_output['Общая площадь'])].index\n",
    "    )\n",
    "    \n",
    "    df_output = df_output.drop(df_output.index[outliers])\n",
    "    print('Удалено общих выбросов:', len(outliers))\n",
    "    \n",
    "#     # ДЛЯ АРЕНДЫ\n",
    "#     outliers_rent = []\n",
    "#     outliers_rent.extend(\n",
    "#         (df_output[(df_output['Рубрика']=='Аренда')&(\n",
    "#             (df_output['Цена']<1000)|\n",
    "#             (df_output['Цена']>150000))]).index)\n",
    "#     df_output = df_output.drop(outliers_rent)\n",
    "#     print('Удалено выбросов аренды:', len(outliers_rent))\n",
    "    \n",
    "#     # ДЛЯ ПРОДАЖИ\n",
    "#     outliers_sale = []\n",
    "#     outliers_sale.extend(\n",
    "#         (df_output[(df_output['Рубрика']=='Продажа')&(\n",
    "#             (df_output['Цена']<50000)|\n",
    "#             (df_output['Цена']>45000000))]).index)\n",
    "#     df_output = df_output.drop(outliers_sale)\n",
    "#     print('Удалено выбросов продаж:', len(outliers_sale))\n",
    "    \n",
    "    return df_output"
   ]
  },
  {
   "cell_type": "code",
   "execution_count": null,
   "metadata": {},
   "outputs": [],
   "source": [
    "# plt.scatter(df_train['lat'], df_train['lon'])\n",
    "# plt.scatter(df_train_preproc_NA_OUT['lat'], df_train_preproc_NA_OUT['lon'])\n",
    "# plt.ylabel('lon')\n",
    "# plt.xlabel('lat')"
   ]
  },
  {
   "cell_type": "markdown",
   "metadata": {},
   "source": [
    "## Feature Encoding"
   ]
  },
  {
   "cell_type": "code",
   "execution_count": null,
   "metadata": {},
   "outputs": [],
   "source": [
    "# for c in df_train_preproc_NA_OUT.columns:\n",
    "#     if df_train_preproc_NA_OUT[c].dtype == 'object':\n",
    "#         print(df_train_preproc_NA_OUT.groupby(c)[c].count())\n",
    "#         print('----------------------------')"
   ]
  },
  {
   "cell_type": "code",
   "execution_count": null,
   "metadata": {},
   "outputs": [],
   "source": [
    "def feature_encoding(df_input):\n",
    "    df_output = df_input.copy()\n",
    "    \n",
    "    features_to_ohe = [] # порядок на переменных не задан\n",
    "    \n",
    "    df_output['Количество комнат'] = df_output['Количество комнат'].replace({'комната': 0.5}).astype('float64')\n",
    "    \n",
    "    df_output['Ремонт'] = df_output['Ремонт'].replace(\n",
    "                                                        {\n",
    "                                                        'требует капитального ремонта':1,\n",
    "                                                        'требует косметического ремонта':10,\n",
    "                                                        'хорошее':20,\n",
    "                                                        'в отличном состоянии':100},\n",
    "    ).astype('int64') \n",
    "    \n",
    "    df_output['Санузел'] = df_output['Санузел'].replace(\n",
    "                                                        {'другое':1,\n",
    "                                                        'совмещенный':2,\n",
    "                                                        'раздельный':3,\n",
    "                                                        'несколько':6}\n",
    "    ).astype('int64') \n",
    "    \n",
    "    df_output['Планировка'] = df_output['Планировка'].replace(\n",
    "                                                        {'другое': -1,\n",
    "                                                        'смежная':1,\n",
    "                                                        'смежно-изолированная':10,\n",
    "                                                        'свободная':20,\n",
    "                                                        'изолированная':100},\n",
    "    ).astype('int64') \n",
    "    \n",
    "    df_output['Тип квартиры'] = df_output['Тип квартиры'].replace(\n",
    "                                                        {'другое': -1,\n",
    "                                                        'гостинка':1,\n",
    "                                                        'студия':2,\n",
    "                                                        'улучшенной планировки':3,\n",
    "                                                        'индивидуальной планировки':4,\n",
    "                                                        'двухуровневая':5,\n",
    "                                                        'пентхаус':6}\n",
    "     ).astype('int64')\n",
    "        \n",
    "    df_output['Материал дома'] = df_output['Материал дома'].replace(\n",
    "                                                        {'другое': -1,\n",
    "                                                        'сборный железобетон':1,\n",
    "                                                        'панель':2,\n",
    "                                                        'монолит':3,\n",
    "                                                        'кирпич - монолит':4,\n",
    "                                                        'кирпич':5,\n",
    "                                                        'шлакоблоки':6,\n",
    "                                                        'силикатные блоки':7,\n",
    "                                                        'бетонные блоки':8,\n",
    "                                                        'бетонные блоки - монолит':9,\n",
    "                                                        'дерево':9}\n",
    "     ).astype('int64')\n",
    "    \n",
    "    \n",
    "    df_output['Форма собственности'] = df_output['Форма собственности'].replace(\n",
    "                                                        {'другое': -1,\n",
    "                                                        'не оформлена':1,\n",
    "                                                        'государственная':2,\n",
    "                                                        'предварительный договор':3,\n",
    "                                                        'участие в ЖСК':4,\n",
    "                                                        'кооперативная':5,\n",
    "                                                        'инвестиционная':6,\n",
    "                                                        'договор долевого участия':7,\n",
    "                                                        'частная':8,\n",
    "                                                        'свидетельство о праве собственности':9}\n",
    "     ).astype('int64')\n",
    "    \n",
    "    df_output['Тип дома'] = df_output['Тип дома'].replace(\n",
    "                                                        {'другое': -1,\n",
    "                                                        'общежитие':1,\n",
    "                                                        'секционного типа':2,\n",
    "                                                        'малоэтажка':3,\n",
    "                                                        'ульяновка':4,\n",
    "                                                        'хрущевка':5,\n",
    "                                                        'брежневка':6,\n",
    "                                                        'сталинка':7,\n",
    "                                                        'ленинградский проект':8,\n",
    "                                                        '93 серия':9,\n",
    "                                                        '95 серия':10,\n",
    "                                                        '97 серия':11,\n",
    "                                                        '97 серия улучшенная':12,\n",
    "                                                        '121 серия':13,\n",
    "                                                        '121Т':14,\n",
    "                                                        'спецпроект':15}\n",
    "     ).astype('int64')\n",
    "       \n",
    "    return df_output"
   ]
  },
  {
   "cell_type": "code",
   "execution_count": null,
   "metadata": {},
   "outputs": [],
   "source": [
    "df_train_preproc_NA_OUT_ENC = df_train.pipe(fill_nan).pipe(clean_test_data).pipe(feature_encoding)"
   ]
  },
  {
   "cell_type": "code",
   "execution_count": null,
   "metadata": {},
   "outputs": [],
   "source": [
    "# def fill_na_with_predict (df_input):\n",
    "#     df_output = df_input.copy()\n",
    "    \n",
    "#     # заполняем пропуски Общей площади методом ближайших соседей\n",
    "#     knn = KNeighborsRegressor(n_neighbors=15, weights='distance')\n",
    "#     knn.fit(df_output.loc[df_output['Общая площадь'].notna(), ['lat', 'lon', 'Количество комнат']], \n",
    "#             df_output.loc[df_output['Общая площадь'].notna(), 'Общая площадь'])\n",
    "#     df_output.loc[df_output['Общая площадь'].isna(), 'Общая площадь'] = \\\n",
    "#     knn.predict(df_output.loc[df_output['Общая площадь'].isna(), ['lat', 'lon', 'Количество комнат']])\n",
    "    \n",
    "#     return df_output\n",
    "\n",
    "#df_train_preproc_NA_OUT_ENC = df_train_preproc_NA_OUT_ENC.pipe(fill_na_with_predict)"
   ]
  },
  {
   "cell_type": "code",
   "execution_count": null,
   "metadata": {},
   "outputs": [],
   "source": [
    "#df_print_unique(df_train_preproc_NA_OUT_ENC)"
   ]
  },
  {
   "cell_type": "code",
   "execution_count": null,
   "metadata": {},
   "outputs": [],
   "source": [
    "# for c in df_train_preproc_NA_OUT_ENC.columns:\n",
    "#     if df_train_preproc_NA_OUT_ENC[c].dtype == 'object':\n",
    "#         print(df_train_preproc_NA_OUT.groupby(c)[c].count())\n",
    "#         print('----------------------------')"
   ]
  },
  {
   "cell_type": "code",
   "execution_count": null,
   "metadata": {},
   "outputs": [],
   "source": [
    "def check_skewness_log(col, train):\n",
    "    sns.distplot(np.log1p(train[col]+1), fit=st.norm);\n",
    "    fig = plt.figure()\n",
    "    (mu, sigma) = st.norm.fit(train[col])"
   ]
  },
  {
   "cell_type": "code",
   "execution_count": null,
   "metadata": {},
   "outputs": [],
   "source": [
    "def check_skewness(col, train):\n",
    "    sns.distplot(train[col]+1, fit=st.norm);\n",
    "    fig = plt.figure()\n",
    "    (mu, sigma) = st.norm.fit(train[col])"
   ]
  },
  {
   "cell_type": "code",
   "execution_count": null,
   "metadata": {
    "scrolled": true
   },
   "outputs": [],
   "source": [
    "# for c in df_train_preproc_NA_OUT_ENC.columns:\n",
    "#     if df_train_preproc_NA_OUT_ENC[c].dtype != 'object':\n",
    "#         check_skewness_log(c, df_train_preproc_NA_OUT_ENC)"
   ]
  },
  {
   "cell_type": "markdown",
   "metadata": {},
   "source": [
    "## Visualization"
   ]
  },
  {
   "cell_type": "code",
   "execution_count": null,
   "metadata": {},
   "outputs": [],
   "source": [
    "# plt.figure(figsize=(20,10))\n",
    "# sns.heatmap(df_train_preproc_NA_OUT_ENC.corr('kendall'), annot=True, linewidths=.5)"
   ]
  },
  {
   "cell_type": "code",
   "execution_count": null,
   "metadata": {},
   "outputs": [],
   "source": [
    "# # most correlated features\n",
    "# corrmat = df_train_preproc_NA_OUT_ENC.corr()\n",
    "# top_corr_features = corrmat.index[abs(corrmat[\"Цена\"])>0.3]\n",
    "# plt.figure(figsize=(7,5))\n",
    "# g = sns.heatmap(df_train_preproc_NA_OUT_ENC[top_corr_features].corr(),annot=True,cmap=\"RdYlGn\")"
   ]
  },
  {
   "cell_type": "code",
   "execution_count": null,
   "metadata": {},
   "outputs": [],
   "source": [
    "# sns.pairplot(df_train_rent, vars=['Количество комнат', 'Общая площадь', 'Жилая площадь', 'Площадь кухни',\n",
    "#        'Этаж', 'Этажность','Цена'], diag_kind='hist')"
   ]
  },
  {
   "cell_type": "code",
   "execution_count": null,
   "metadata": {},
   "outputs": [],
   "source": [
    "# sns.pairplot(df_train_rent, vars=['lat_h', 'lon_h', 'lat_centr',\n",
    "#        'lon_centr', 'dist_center', 'dist_center2', 'dist_center3',\n",
    "#        'dist_center4', 'house_age', 'house_age2', 'index_price_perv',\n",
    "#        'index_price_vtor', 'inds', 'zp', 'zp2', 'metro', 'Цена'], diag_kind='hist')"
   ]
  },
  {
   "cell_type": "markdown",
   "metadata": {},
   "source": [
    "## Feature engineering  "
   ]
  },
  {
   "cell_type": "code",
   "execution_count": null,
   "metadata": {},
   "outputs": [],
   "source": [
    "import re"
   ]
  },
  {
   "cell_type": "code",
   "execution_count": null,
   "metadata": {},
   "outputs": [],
   "source": [
    "def add_features(df_input):\n",
    "    df_output = df_input.copy()\n",
    "\n",
    "    centroid = df_output[['Город', 'lat', 'lon']].groupby('Город').mean()\n",
    "    df_output = df_output.merge(centroid, on='Город', suffixes=('_h', '_centr'), right_index=True)\n",
    "    df_output['dist_center'] = ((df_output.lat_h-df_output.lat_centr)**2+(df_output.lon_h-df_output.lon_centr)**2)**0.5\n",
    "    df_output['dist_center2'] = np.log1p(df_output['dist_center'])\n",
    "    df_output['house_age'] = df_output['Год сдачи'].apply(lambda x: -1 if x<0 else 2019-x if 2019-x>0 else 0.5)\n",
    "    df_output['not_first_floor'] = df_output['Этаж'].apply(lambda x: 0 if x==1 else -1 if x==-1 else 1)\n",
    "    df_output['tmp'] = df_output['Этаж']/df_output['Этажность']\n",
    "    df_output['not_top_floor'] = df_output['tmp'].apply(lambda x: 0 if x==1 else -1 if x<0 else 1)\n",
    "    df_output['has_balcony'] = (df_output['Количество балконов'].apply(lambda x: 0 if x<=0 else 1) + \\\n",
    "                                    df_output['Количество лоджий'].apply(lambda x: 0 if x<=0 else 1))/2\n",
    "    df_output['index_price_perv'] = df_output['Регион'].replace(\n",
    "                                                        {\n",
    "                                                        'Новосибирская область':105.7,\n",
    "                                                        'Свердловская область':103.3,\n",
    "                                                        'Омская область':102.9,\n",
    "                                                        'Тюменская область':103.0,\n",
    "                                                        'Челябинская область':101.0,\n",
    "                                                        'Красноярский край':102.1,\n",
    "                                                        'Пермский край':106.4,\n",
    "                                                        'Архангельская область':100.7,\n",
    "                                                        }\n",
    "                            )\n",
    "    df_output['index_price_vtor'] = df_output['Регион'].replace(\n",
    "                                                        {\n",
    "                                                        'Новосибирская область':101.8,\n",
    "                                                        'Свердловская область':103.0,\n",
    "                                                        'Омская область':105.1,\n",
    "                                                        'Тюменская область':100.3,\n",
    "                                                        'Челябинская область':100.1,\n",
    "                                                        'Красноярский край':101.2,\n",
    "                                                        'Пермский край':92.4,\n",
    "                                                        'Архангельская область':101.4,\n",
    "                                                        }\n",
    "                            )\n",
    "    df_output['zp'] = df_output['Регион'].replace(\n",
    "                                                        {\n",
    "                                                        'Новосибирская область':37173,\n",
    "                                                        'Свердловская область':36853,\n",
    "                                                        'Омская область':34136,\n",
    "                                                        'Тюменская область':72289,\n",
    "                                                        'Челябинская область':36619,\n",
    "                                                        'Красноярский край':48980,\n",
    "                                                        'Пермский край':37173,\n",
    "                                                        'Архангельская область':51236,\n",
    "                                                        }\n",
    "                            )\n",
    "    df_output['metro'] = df_output['Ориентир'].apply(lambda x: 1 if re.search('метро', str(x)) else -1 )\n",
    "    enc = preprocessing.LabelEncoder()\n",
    "    df_output['town'] = enc.fit_transform(df_output['Город'])\n",
    "    \n",
    "    #df_output.plot(x='metro', y='Цена', kind='scatter')\n",
    "    \n",
    "    cols_to_drop = [\n",
    "        'Регион',\n",
    "        'Город',\n",
    "        'Улица',\n",
    "        'Номер дома',\n",
    "        'Район',\n",
    "        'Микрорайон',\n",
    "        'Ориентир',\n",
    "        'Рубрика', \n",
    "        'sampletype',\n",
    "        'address',\n",
    "        'location_display_name',\n",
    "        'location_full_match',\n",
    "    ]\n",
    "    \n",
    "    df_output = df_output.drop(cols_to_drop, axis=1)\n",
    "    \n",
    "    return df_output"
   ]
  },
  {
   "cell_type": "markdown",
   "metadata": {},
   "source": [
    "## Modeling"
   ]
  },
  {
   "cell_type": "code",
   "execution_count": null,
   "metadata": {
    "scrolled": false
   },
   "outputs": [],
   "source": [
    "# Добавляем новые фичи, делим тестовую выбрку на аренду и продажу, отделяем таргет (цену)\n",
    "df_train_rent = df_train_preproc_NA_OUT_ENC[df_train_preproc_NA_OUT_ENC['Рубрика'] == 'Аренда'].pipe(add_features)\n",
    "df_train_sale = df_train_preproc_NA_OUT_ENC[df_train_preproc_NA_OUT_ENC['Рубрика'] == 'Продажа'].pipe(add_features)\n",
    "\n",
    "cols_to_drop_rent = [\n",
    "        'Цена', 'Торг', 'Чистая продажа', 'Ипотека', 'lat_centr', 'lon_centr',\n",
    "        'Возможен обмен', 'Внесен задаток', 'Находится в залоге', 'tmp', 'town',\n",
    "        'index_price_perv', 'index_price_vtor', 'zp', 'dist_center2'\n",
    "]\n",
    "\n",
    "cols_to_drop_sale = [\n",
    "       'Цена', 'Наличие мебели', 'Наличие холодильника', 'Коммунальные платежи включены', \n",
    "       'lat_centr', 'lon_centr', 'tmp', 'index_price_perv', 'index_price_vtor', 'zp', 'dist_center2'\n",
    "]\n",
    "\n",
    "df_train_rent_target = df_train_rent['Цена']\n",
    "df_train_sale_target = df_train_sale['Цена']\n",
    "\n",
    "df_train_rent.drop(cols_to_drop_rent, axis=1, inplace=True)\n",
    "df_train_sale.drop(cols_to_drop_sale, axis=1, inplace=True)\n",
    "\n",
    "del df_train_preproc_NA_OUT_ENC\n",
    "del df_train"
   ]
  },
  {
   "cell_type": "code",
   "execution_count": null,
   "metadata": {},
   "outputs": [],
   "source": [
    "print('Аренда:',df_train_rent.columns,'\\n-----\\n',df_train_rent.shape,df_train_rent_target.shape,'\\n-----')\n",
    "print('Продажа:',df_train_sale.columns,'\\n-----\\n',df_train_sale.shape,df_train_sale_target.shape,'\\n-----')"
   ]
  },
  {
   "cell_type": "markdown",
   "metadata": {},
   "source": [
    "## Rent"
   ]
  },
  {
   "cell_type": "code",
   "execution_count": null,
   "metadata": {},
   "outputs": [],
   "source": [
    "def rent_model_01(X_train, X_test, y_train):\n",
    "        class RentKNNImputer(BaseEstimator, TransformerMixin):\n",
    "            def fit(self, X, y):\n",
    "                return self\n",
    "            def transform(self, X):\n",
    "                cols = [\n",
    "                    'Количество комнат', \n",
    "                    'Общая площадь', \n",
    "                    'Площадь кухни', \n",
    "                    'lat_h', \n",
    "                    'lon_h',\n",
    "                    'Жилая площадь',\n",
    "                    'dist_center',\n",
    "                    'dist_center2',\n",
    "                    'dist_center3',\n",
    "                    'dist_center4',\n",
    "                    'house_age'\n",
    "            ]\n",
    "                return X[cols].copy()\n",
    "\n",
    "        pipe = Pipeline([\n",
    "            ('imputer', RentKNNImputer()),\n",
    "            ('scaler', StandardScaler()),\n",
    "            ('knn', KNeighborsRegressor()),\n",
    "        ])\n",
    "\n",
    "        param_grid = {\n",
    "            'knn__n_neighbors': [12],\n",
    "            'knn__p': [1]\n",
    "        }\n",
    "        \n",
    "        kfold = KFold(n_splits=3, shuffle=True, random_state=0)\n",
    "        hyper_search = GridSearchCV(pipe, param_grid, scoring=rmse_score, cv=kfold, n_jobs=2, refit=True, verbose=2)\n",
    "        hyper_search.fit(X_train, y_train)\n",
    "        model = hyper_search.best_estimator_\n",
    "        print(f\"RentKNNModel: best_params = {hyper_search.best_params_}, best_score = {hyper_search.best_score_}\")\n",
    "        y_pred = model.predict(X_test)\n",
    "        \n",
    "        return y_pred"
   ]
  },
  {
   "cell_type": "code",
   "execution_count": null,
   "metadata": {},
   "outputs": [],
   "source": [
    "X_train, X_test, y_train, y_test = train_test_split(df_train_rent, df_train_rent_target, random_state=0, test_size=0.5)\n",
    "X_train.shape, X_test.shape, y_train.shape, y_test.shape\n",
    "y_train = np.log1p(y_train)\n",
    "y_test = np.log1p(y_test)"
   ]
  },
  {
   "cell_type": "code",
   "execution_count": null,
   "metadata": {},
   "outputs": [],
   "source": [
    "pred_knn = rent_model_01(X_train, X_test, y_train)\n",
    "pred_knn"
   ]
  },
  {
   "cell_type": "code",
   "execution_count": null,
   "metadata": {},
   "outputs": [],
   "source": [
    "print(f\"score = {rmsle(np.expm1(y_test), np.expm1(pred_knn))}\") #score = 0.23534122382702258"
   ]
  },
  {
   "cell_type": "code",
   "execution_count": null,
   "metadata": {},
   "outputs": [],
   "source": [
    "pred_knn.shape"
   ]
  },
  {
   "cell_type": "code",
   "execution_count": null,
   "metadata": {},
   "outputs": [],
   "source": [
    "X_test_knn = X_test.copy()\n",
    "X_test_knn = pd.concat([X_test_knn, pd.Series(pred_knn, index=X_test.index, name='knn')], axis=1, sort=False)"
   ]
  },
  {
   "cell_type": "code",
   "execution_count": null,
   "metadata": {},
   "outputs": [],
   "source": [
    "X_test_knn['knn'] = np.log1p(X_test_knn['knn'])\n",
    "y_test_knn = y_test.copy()\n",
    "#y_test_knn = np.log1p(y_test)"
   ]
  },
  {
   "cell_type": "code",
   "execution_count": null,
   "metadata": {},
   "outputs": [],
   "source": [
    "def rent_model_02(X_train, X_test, y_train):\n",
    "        class RentLRImputer(BaseEstimator, TransformerMixin):\n",
    "            def fit(self, X, y):\n",
    "                return self\n",
    "\n",
    "            def transform(self, X):\n",
    "                cols = [\n",
    "                    'Количество комнат', \n",
    "                    'Общая площадь', \n",
    "                    'Жилая площадь', \n",
    "                    'Площадь кухни',\n",
    "                    'Этаж', \n",
    "                    'Этажность', \n",
    "                    'Тип квартиры', \n",
    "                    'Планировка', \n",
    "                    'Ремонт', \n",
    "                    'Санузел',\n",
    "                    'Количество балконов', \n",
    "                    'Количество лоджий', \n",
    "                    'Интернет', \n",
    "                    'Торг',\n",
    "                    'Чистая продажа', \n",
    "                    'Ипотека', \n",
    "                    'Возможен обмен', \n",
    "                    'Внесен задаток',\n",
    "                    'Находится в залоге', \n",
    "                    'Форма собственности', \n",
    "                    'Год сдачи', \n",
    "                    'Тип дома',\n",
    "                    'Материал дома', \n",
    "                    'Количество фотографий', \n",
    "                    'lat_h', \n",
    "                    'lon_h', \n",
    "                    'dist_center', \n",
    "                    'dist_center2',\n",
    "#                     'dist_center3',\n",
    "#                     'dist_center4',\n",
    "                    'index_price_perv',\n",
    "                    'index_price_vtor',\n",
    "                    #'inds',\n",
    "                    'zp',\n",
    "                    'metro',\n",
    "                    'house_age',\n",
    "                    'not_first_floor',\n",
    "                    'not_top_floor',\n",
    "                    'has_balcony',\n",
    "                    #'region',\n",
    "                    #'town',\n",
    "                    #'urb'\n",
    "                ]\n",
    "                return X[cols].copy()\n",
    "\n",
    "        pipeline = Pipeline([\n",
    "            ('imputer', RentLRImputer()),\n",
    "            ('scaler', MinMaxScaler()),\n",
    "            ('lr', Ridge()),\n",
    "        ])\n",
    "\n",
    "        param_grid = {\n",
    "            'lr__alpha': [1, 10, 100, 1000],\n",
    "        }\n",
    "        \n",
    "        hyper_search = GridSearchCV(pipeline, param_grid, scoring=rmse_score, cv=3, n_jobs=5, refit=True, verbose=2)\n",
    "        hyper_search.fit(X_train, y_train)\n",
    "        model = hyper_search.best_estimator_\n",
    "        print(f\"RentLRModel:best_params = {hyper_search.best_params_}, best_score = {hyper_search.best_score_}\")\n",
    "        y_pred = model.predict(X_test)\n",
    "        return y_pred"
   ]
  },
  {
   "cell_type": "code",
   "execution_count": null,
   "metadata": {},
   "outputs": [],
   "source": [
    "#X_train2, X_test2, y_train2, y_test2 = train_test_split(X_test_knn, y_test_knn, random_state=0, test_size=0.3)\n",
    "#y2 = np.log1p(y_test_knn)"
   ]
  },
  {
   "cell_type": "code",
   "execution_count": null,
   "metadata": {},
   "outputs": [],
   "source": [
    "pred_lr = rent_model_02(X_train2, X_test2, y_train2)"
   ]
  },
  {
   "cell_type": "code",
   "execution_count": null,
   "metadata": {},
   "outputs": [],
   "source": [
    "print(f\"score = {rmsle(np.expm1(y_test2), np.expm1(pred_lr))}\") #score = 0.4293694740000044"
   ]
  },
  {
   "cell_type": "code",
   "execution_count": null,
   "metadata": {},
   "outputs": [],
   "source": [
    "def rent_model_03(X_train, X_test, y_train):\n",
    "        class RentRFRImputer(BaseEstimator, TransformerMixin):\n",
    "            def fit(self, X, y):\n",
    "                return self\n",
    "            def transform(self, X):\n",
    "                cols = [\n",
    "                    'Количество комнат', \n",
    "                    'Общая площадь', \n",
    "                    'Площадь кухни', \n",
    "                    'Этаж',\n",
    "                    'Этажность', \n",
    "                    'Тип квартиры', \n",
    "                    'Планировка', \n",
    "                    'Ремонт', \n",
    "                    'Санузел',\n",
    "                    'Количество балконов', \n",
    "                    'Количество лоджий', \n",
    "                    'Наличие мебели',\n",
    "                    'Наличие холодильника', \n",
    "                    'Интернет',\n",
    "                    'Коммунальные платежи включены', \n",
    "                    'Тип дома', \n",
    "                    'Материал дома',\n",
    "                    'Количество фотографий', \n",
    "                    'lat_h', \n",
    "                    'lon_h',\n",
    "                    'Год сдачи',\n",
    "                    'Жилая площадь',\n",
    "                    'dist_center',\n",
    "                    'dist_center2',\n",
    "                    'dist_center3',\n",
    "                    'dist_center4',\n",
    "                    'index_price_perv',\n",
    "                    'index_price_vtor',\n",
    "                     'inds',\n",
    "                     'zp',\n",
    "#                     'zp2',\n",
    "                    'metro',\n",
    "                    'house_age',\n",
    "                    #'not_first_not_top',\n",
    "                    'not_first_floor',\n",
    "                    'not_top_floor',\n",
    "                    'has_balcony',\n",
    "                    'region',\n",
    "                    'town',\n",
    "                    #'urb'\n",
    "            ]\n",
    "                return X[cols].copy()\n",
    "\n",
    "        pipe = Pipeline([\n",
    "            ('imputer', RentRFRImputer()),\n",
    "            ('rfr', RandomForestRegressor()),\n",
    "        ])\n",
    "\n",
    "        param_grid={\n",
    "            'rfr__max_depth': [25],\n",
    "            'rfr__n_estimators': [10],\n",
    "            #'rfr__max_features': ['sqrt'],\n",
    "            #'rfr__min_samples_split': range(2, 10),\n",
    "            #'rfr__min_samples_leaf': range(1, 500, 50),\n",
    "            #'rfr__warm_start': [True],\n",
    "            #'rfr__bootstrap': [False],\n",
    "        },\n",
    "        \n",
    "        kfold = KFold(n_splits=3, shuffle=True, random_state=0)\n",
    "        hyper_search = GridSearchCV(pipe, param_grid, scoring=rmsle_score, cv=kfold, n_jobs=2, refit=True, verbose=50)\n",
    "        hyper_search.fit(X_train, y_train)\n",
    "        model = hyper_search.best_estimator_\n",
    "        print(f\"RentRFRModel: best_params = {hyper_search.best_params_}, best_score = {hyper_search.best_score_}\")\n",
    "        \n",
    "#         # посмотрим на важность признаков\n",
    "#         features = X_train.columns\n",
    "#         importances = hyper_search.best_estimator_.named_steps['rfr'].feature_importances_\n",
    "#         indices = np.argsort(importances)\n",
    "#         plt.title('Feature Importances')\n",
    "#         plt.barh(range(len(indices)), importances[indices], color='b', align='center')\n",
    "#         plt.yticks(range(len(indices)), [features[i] for i in indices])\n",
    "#         plt.xlabel('Relative Importance')\n",
    "#         plt.show()\n",
    "        \n",
    "        prediction = model.predict(X_test)\n",
    "        \n",
    "        if 'Цена' in X_test.columns or 'Цена' in X_train.columns: print('\\n=======ALERT DATA LEAK!======\\n')\n",
    "        \n",
    "        return pd.Series(prediction, index=X_test.index, name='Цена')"
   ]
  },
  {
   "cell_type": "code",
   "execution_count": null,
   "metadata": {},
   "outputs": [],
   "source": [
    "X_train, X_test, y_train, y_test = train_test_split(df_train_rent, df_train_rent_target, random_state=0, test_size=0.3)\n",
    "X_train.shape, X_test.shape, y_train.shape, y_test.shape"
   ]
  },
  {
   "cell_type": "code",
   "execution_count": null,
   "metadata": {
    "scrolled": false
   },
   "outputs": [],
   "source": [
    "pred_train_rent_rfr = rent_model_03(X_train, X_test, y_train)\n",
    "print(pred_train_rent_rfr.shape)\n",
    "pred_train_rent_rfr"
   ]
  },
  {
   "cell_type": "code",
   "execution_count": null,
   "metadata": {},
   "outputs": [],
   "source": [
    "print(f\"score = {rmsle(y_test, pred_train_rent_rfr)}\") # score = 0.35763077798677656, 10 деревьев, \n",
    "# score = 0.35028523871246453 на 100"
   ]
  },
  {
   "cell_type": "code",
   "execution_count": null,
   "metadata": {},
   "outputs": [],
   "source": []
  },
  {
   "cell_type": "code",
   "execution_count": null,
   "metadata": {
    "scrolled": true
   },
   "outputs": [],
   "source": [
    "pred_rfr_knn = rent_model_03(X_train2, X_test2, y_train2)"
   ]
  },
  {
   "cell_type": "code",
   "execution_count": null,
   "metadata": {},
   "outputs": [],
   "source": [
    "print(f\"score = {rmsle(np.expm1(y_test2), np.expm1(pred_rfr_knn))}\") #"
   ]
  },
  {
   "cell_type": "code",
   "execution_count": null,
   "metadata": {},
   "outputs": [],
   "source": [
    "# def rfr_model(X, y):\n",
    "# # Perform Grid-Search\n",
    "#     gsc = GridSearchCV(\n",
    "#         estimator=RandomForestRegressor(),\n",
    "#         param_grid={\n",
    "#             'max_depth': range(3,7),\n",
    "#             'n_estimators': (10, 50, 100, 1000),\n",
    "#         },\n",
    "#         cv=5, scoring='neg_mean_squared_error', verbose=0, n_jobs=-1)\n",
    "    \n",
    "#     grid_result = gsc.fit(X, y)\n",
    "#     best_params = grid_result.best_params_\n",
    "    \n",
    "#     rfr = RandomForestRegressor(max_depth=best_params[\"max_depth\"], n_estimators=best_params[\"n_estimators\"],                               random_state=False, verbose=False)\n",
    "# # Perform K-Fold CV\n",
    "#    scores = cross_val_score(rfr, X, y, cv=10, scoring='neg_mean_absolute_error')\n",
    "\n",
    "#     return scores\n",
    "\n",
    "# scores = cross_val_score(rfr, X, y, cv=10, scoring='neg_mean_absolute_error')\n",
    "# predictions = cross_val_predict(rfr, X, y, cv=10)"
   ]
  },
  {
   "cell_type": "markdown",
   "metadata": {},
   "source": [
    "## Sale"
   ]
  },
  {
   "cell_type": "code",
   "execution_count": null,
   "metadata": {},
   "outputs": [],
   "source": [
    "def sale_model_01(X_train, X_test, y_train):\n",
    "        class SaleKNNImputer(BaseEstimator, TransformerMixin):\n",
    "            def fit(self, X, y):\n",
    "                return self\n",
    "            def transform(self, X):\n",
    "                cols = [\n",
    "                    'Количество комнат', \n",
    "                    'Общая площадь', \n",
    "                    'Жилая площадь', \n",
    "                    'Площадь кухни',\n",
    "                    'Этаж', \n",
    "                    'Этажность', \n",
    "                    'Тип квартиры', \n",
    "                    'Планировка', \n",
    "                    'Ремонт', \n",
    "                    'Санузел',\n",
    "                    'Количество балконов', \n",
    "                    'Количество лоджий', \n",
    "                    'Интернет', \n",
    "                    'Торг',\n",
    "                    'Чистая продажа', \n",
    "                    'Ипотека', \n",
    "                    'Возможен обмен', \n",
    "                    'Внесен задаток',\n",
    "                    'Находится в залоге', \n",
    "                    'Форма собственности', \n",
    "                    'Год сдачи', \n",
    "                    'Тип дома',\n",
    "                    'Материал дома', \n",
    "                    'Количество фотографий', \n",
    "                    'lat_h', \n",
    "                    'lon_h', \n",
    "                    'dist_center', \n",
    "                    'dist_center2'\n",
    "                ]\n",
    "                \n",
    "                return X[cols].copy()\n",
    "\n",
    "        pipeline = Pipeline([\n",
    "            ('imputer', SaleKNNImputer()),\n",
    "            ('scaler', StandardScaler()),\n",
    "            ('knn', KNeighborsRegressor()),\n",
    "        ])\n",
    "\n",
    "        param_grid = {\n",
    "            'knn__n_neighbors': [5],\n",
    "            'knn__p': [1]\n",
    "        }\n",
    "        \n",
    "        kfold = KFold(n_splits=3, shuffle=True, random_state=0)\n",
    "        hyper_search = GridSearchCV(pipeline, param_grid, scoring=rmse, cv=kfold, n_jobs=5, refit=True, verbose=50)\n",
    "        hyper_search.fit(X_train, y_train)\n",
    "        model = hyper_search.best_estimator_\n",
    "        print(f\"RentKNNModel: best_params = {hyper_search.best_params_}, best_score = {hyper_search.best_score_}\")\n",
    "        y_pred = model.predict(X_test)\n",
    "        \n",
    "        return y_pred"
   ]
  },
  {
   "cell_type": "code",
   "execution_count": null,
   "metadata": {},
   "outputs": [],
   "source": [
    "X_train3, X_test3, y_train3, y_test3 = train_test_split(X2, y2, random_state=0, test_size=0.5)\n",
    "X_train3.shape, X_test3.shape, y_train3.shape, y_test3.shape"
   ]
  },
  {
   "cell_type": "code",
   "execution_count": null,
   "metadata": {},
   "outputs": [],
   "source": [
    "y_train3 = np.log1p(y_train3)\n",
    "y_test3 = np.log1p(y_test3)"
   ]
  },
  {
   "cell_type": "code",
   "execution_count": null,
   "metadata": {},
   "outputs": [],
   "source": [
    "# pred_knn_sale = sale_model_01(X_train3, X_test3, y_train3)\n",
    "# pred_knn_sale;"
   ]
  },
  {
   "cell_type": "code",
   "execution_count": null,
   "metadata": {},
   "outputs": [],
   "source": [
    "print(f\"score = {rmsle(np.expm1(y_test3), np.expm1(pred_knn_sale))}\") #score = 0.2634184160979688"
   ]
  },
  {
   "cell_type": "code",
   "execution_count": null,
   "metadata": {},
   "outputs": [],
   "source": [
    "pred_knn_sale.shape"
   ]
  },
  {
   "cell_type": "code",
   "execution_count": null,
   "metadata": {},
   "outputs": [],
   "source": [
    "def sale_model_02(X_train, X_test, y_train):\n",
    "        class SaleLRImputer(BaseEstimator, TransformerMixin):\n",
    "            def fit(self, X, y):\n",
    "                return self\n",
    "\n",
    "            def transform(self, X):\n",
    "                cols = [\n",
    "                    'Количество комнат', \n",
    "                    'Общая площадь', \n",
    "                    'Жилая площадь', \n",
    "                    'Площадь кухни',\n",
    "                    'Этаж', \n",
    "                    'Этажность', \n",
    "                    'Тип квартиры', \n",
    "                    'Планировка', \n",
    "                    'Ремонт', \n",
    "                    'Санузел',\n",
    "                    'Количество балконов', \n",
    "                    'Количество лоджий', \n",
    "                    'Интернет', \n",
    "                    'Торг',\n",
    "                    'Чистая продажа', \n",
    "                    'Ипотека', \n",
    "                    'Возможен обмен', \n",
    "                    'Внесен задаток',\n",
    "                    'Находится в залоге', \n",
    "                    'Форма собственности', \n",
    "                    'Год сдачи', \n",
    "                    'Тип дома',\n",
    "                    'Материал дома', \n",
    "                    'Количество фотографий', \n",
    "                    'lat_h', \n",
    "                    'lon_h', \n",
    "                    'dist_center', \n",
    "                    'dist_center2',\n",
    "                    'dist_center3',\n",
    "                    'dist_center4',\n",
    "                    'index_price_perv',\n",
    "                    'index_price_vtor',\n",
    "                    'inds'\n",
    "                ]\n",
    "                return X[cols].copy()\n",
    "\n",
    "        pipeline = Pipeline([\n",
    "            ('imputer', SaleLRImputer()),\n",
    "            ('scaler', MinMaxScaler()),\n",
    "            ('lr', Ridge()),\n",
    "        ])\n",
    "\n",
    "        param_grid = {\n",
    "            'lr__alpha': [1, 10, 100, 1000],\n",
    "        }\n",
    "        \n",
    "        hyper_search = GridSearchCV(pipeline, param_grid, scoring=rmse, cv=3, n_jobs=5, refit=True, verbose=2)\n",
    "        hyper_search.fit(X_train, y_train)\n",
    "        model = hyper_search.best_estimator_\n",
    "        print(f\"RentLRModel:best_params = {hyper_search.best_params_}, best_score = {hyper_search.best_score_}\")\n",
    "        y_pred = model.predict(X_test)\n",
    "        return y_pred"
   ]
  },
  {
   "cell_type": "code",
   "execution_count": null,
   "metadata": {},
   "outputs": [],
   "source": [
    "X_test_knn3 = X_test3.copy()\n",
    "X_test_knn3 = pd.concat([X_test_knn3, pd.Series(pred_knn_sale, index=X_test3.index, name='knn')], axis=1, sort=False)"
   ]
  },
  {
   "cell_type": "code",
   "execution_count": null,
   "metadata": {},
   "outputs": [],
   "source": [
    "X_test_knn3['knn'] = np.log1p(X_test_knn3['knn'])\n",
    "y_test_knn3 = y_test3.copy()\n",
    "#y_test_knn = np.log1p(y_test)"
   ]
  },
  {
   "cell_type": "code",
   "execution_count": null,
   "metadata": {},
   "outputs": [],
   "source": [
    "X_train4, X_test4, y_train4, y_test4 = train_test_split(X_test_knn3, y_test_knn3, random_state=0, test_size=0.3)\n",
    "X_train4.shape, X_test4.shape, y_train4.shape, y_test4.shape"
   ]
  },
  {
   "cell_type": "code",
   "execution_count": null,
   "metadata": {},
   "outputs": [],
   "source": [
    "pred_lr_sale = sale_model_02(X_train4, X_test4, y_train4)\n",
    "pred_lr_sale.shape"
   ]
  },
  {
   "cell_type": "code",
   "execution_count": null,
   "metadata": {},
   "outputs": [],
   "source": [
    "print(f\"score = {rmsle(np.expm1(y_test4), np.expm1(pred_lr_sale))}\") #score = 0.3327222930861954"
   ]
  },
  {
   "cell_type": "code",
   "execution_count": null,
   "metadata": {},
   "outputs": [],
   "source": [
    "def sale_model_03(X_train, X_test, y_train):\n",
    "        class SaleRFRImputer(BaseEstimator, TransformerMixin):\n",
    "            def fit(self, X, y):\n",
    "                return self\n",
    "            def transform(self, X):\n",
    "                cols = [\n",
    "                    'Количество комнат', \n",
    "                    'Общая площадь', \n",
    "                    'Жилая площадь', \n",
    "                    'Площадь кухни',\n",
    "                    'Этаж', \n",
    "                    'Этажность', \n",
    "                    'Тип квартиры', \n",
    "                    'Планировка', \n",
    "                    'Ремонт', \n",
    "                    'Санузел',\n",
    "                    'Количество балконов', \n",
    "                    'Количество лоджий', \n",
    "                    'Интернет', \n",
    "                    'Торг',\n",
    "                    'Чистая продажа', \n",
    "                    'Ипотека', \n",
    "                    'Возможен обмен', \n",
    "                    'Внесен задаток',\n",
    "                    'Находится в залоге', \n",
    "                    'Форма собственности', \n",
    "                    'Год сдачи', \n",
    "                    'Тип дома',\n",
    "                    'Материал дома', \n",
    "                    'Количество фотографий', \n",
    "                    'lat_h', \n",
    "                    'lon_h', \n",
    "                    'dist_center', \n",
    "                    'dist_center2',\n",
    "                    #'dist_center3',\n",
    "                    #'dist_center4',\n",
    "                    'index_price_perv',\n",
    "                    'index_price_vtor',\n",
    "                    'inds',\n",
    "                    #'zp',\n",
    "                    #'zp2',\n",
    "                    #'metro',\n",
    "                    'house_age',\n",
    "                    #'not_first_not_top',\n",
    "                    'not_first_floor',\n",
    "                    'not_top_floor',\n",
    "                    'has_balcony',\n",
    "                    'region',\n",
    "                    'town',\n",
    "                    'urb'\n",
    "                ]\n",
    "                return X[cols].copy()\n",
    "\n",
    "        pipe = Pipeline([\n",
    "            ('imputer', SaleRFRImputer()),\n",
    "            ('rfr', RandomForestRegressor()),\n",
    "        ])\n",
    "\n",
    "        param_grid={\n",
    "            'rfr__max_depth': [25],\n",
    "            'rfr__n_estimators': [10],\n",
    "            #'rfr__max_features': ['sqrt'],\n",
    "            #'rfr__min_samples_split': range(2, 10),\n",
    "            #'rfr__min_samples_leaf': range(1, 500, 50),\n",
    "            #'rfr__warm_start': [False, True],\n",
    "            #'rfr__bootstrap': [False],\n",
    "        },\n",
    "        \n",
    "        kfold = KFold(n_splits=3, shuffle=True, random_state=0)\n",
    "        hyper_search = GridSearchCV(pipe, param_grid, scoring=rmsle_score, cv=kfold, n_jobs=2, refit=True, verbose=50)\n",
    "        hyper_search.fit(X_train, y_train)\n",
    "        model = hyper_search.best_estimator_\n",
    "        print(f\"SaleRFRModel: best_params = {hyper_search.best_params_}, best_score = {hyper_search.best_score_}\")\n",
    "        \n",
    "#         # посмотрим на важность признаков\n",
    "#         features = X_train.columns\n",
    "#         importances = hyper_search.best_estimator_.named_steps['rfr'].feature_importances_\n",
    "#         indices = np.argsort(importances)\n",
    "#         plt.title('Feature Importances')\n",
    "#         plt.barh(range(len(indices)), importances[indices], color='b', align='center')\n",
    "#         plt.yticks(range(len(indices)), [features[i] for i in indices])\n",
    "#         plt.xlabel('Relative Importance')\n",
    "#         plt.show()\n",
    "        \n",
    "        prediction = model.predict(X_test)\n",
    "                \n",
    "        if 'Цена' in X_test.columns or 'Цена' in X_train.columns: print('\\n=======ALERT DATA LEAK!======\\n')\n",
    "        \n",
    "        return pd.Series(prediction, index=X_test.index, name='Цена')"
   ]
  },
  {
   "cell_type": "code",
   "execution_count": null,
   "metadata": {},
   "outputs": [],
   "source": [
    "X_train5, X_test5, y_train5, y_test5 = train_test_split(df_train_sale, df_train_sale_target, random_state=0, test_size=0.3)\n",
    "X_train5.shape, X_test5.shape, y_train5.shape, y_test5.shape"
   ]
  },
  {
   "cell_type": "code",
   "execution_count": null,
   "metadata": {
    "scrolled": false
   },
   "outputs": [],
   "source": [
    "pred_train_sale_rfr = sale_model_03(X_train5, X_test5, y_train5)\n",
    "print(pred_train_sale_rfr.shape)\n",
    "pred_train_sale_rfr"
   ]
  },
  {
   "cell_type": "code",
   "execution_count": null,
   "metadata": {},
   "outputs": [],
   "source": [
    "print(f\"score = {rmsle(y_test5, pred_train_sale_rfr)}\") "
   ]
  },
  {
   "cell_type": "code",
   "execution_count": null,
   "metadata": {},
   "outputs": [],
   "source": []
  },
  {
   "cell_type": "code",
   "execution_count": null,
   "metadata": {
    "scrolled": true
   },
   "outputs": [],
   "source": [
    "pred_rfr_sale_knn = sale_model_03(X_train4, X_test4, y_train4)"
   ]
  },
  {
   "cell_type": "code",
   "execution_count": null,
   "metadata": {},
   "outputs": [],
   "source": [
    "print(f\"score = {rmsle(np.expm1(y_test4), np.expm1(pred_rfr_sale_knn))}\") #score = 0.3582030741056765"
   ]
  },
  {
   "cell_type": "markdown",
   "metadata": {},
   "source": [
    "## Test"
   ]
  },
  {
   "cell_type": "markdown",
   "metadata": {},
   "source": [
    "## Test Data Preprocessing"
   ]
  },
  {
   "cell_type": "code",
   "execution_count": null,
   "metadata": {},
   "outputs": [],
   "source": [
    "def clean_test_data(df_input):\n",
    "    df_output = df_input.copy()\n",
    "\n",
    "    df_output['Форма собственности'] = df_output['Форма собственности'].replace(\n",
    "        {'другое (укажите в описании)': 'другое'}) \n",
    "    df_output['Материал дома'] = df_output['Материал дома'].replace({'кирпич-монолит':'кирпич - монолит'})\n",
    "    \n",
    "    return df_output"
   ]
  },
  {
   "cell_type": "code",
   "execution_count": null,
   "metadata": {},
   "outputs": [],
   "source": [
    "df_test_preproc_NA_OUT_ENC = df_test.pipe(fill_nan).pipe(clean_test_data).pipe(feature_encoding)\n",
    "df_test_preproc_NA_OUT_ENC.shape\n",
    "del df_test"
   ]
  },
  {
   "cell_type": "markdown",
   "metadata": {},
   "source": [
    "## Fit Rent"
   ]
  },
  {
   "cell_type": "code",
   "execution_count": null,
   "metadata": {},
   "outputs": [],
   "source": [
    "df_test_rent = \\\n",
    "df_test_preproc_NA_OUT_ENC[df_test_preproc_NA_OUT_ENC['Рубрика'] == 'Аренда'].pipe(add_features)\n",
    "df_test_rent.drop(cols_to_drop_rent, axis=1, inplace=True)\n",
    "df_test_rent.shape"
   ]
  },
  {
   "cell_type": "code",
   "execution_count": null,
   "metadata": {},
   "outputs": [],
   "source": [
    "#pred_test_rent_rfr = rent_model_03(df_train_rent, df_test_rent, df_train_rent_target)"
   ]
  },
  {
   "cell_type": "code",
   "execution_count": null,
   "metadata": {
    "scrolled": true
   },
   "outputs": [],
   "source": [
    "model = RandomForestRegressor(n_estimators=100, verbose=2, n_jobs=2)\n",
    "model.fit(df_train_rent, df_train_rent_target)"
   ]
  },
  {
   "cell_type": "code",
   "execution_count": null,
   "metadata": {
    "scrolled": true
   },
   "outputs": [],
   "source": [
    "pred_test_rent_rfr = model.predict(df_test_rent)"
   ]
  },
  {
   "cell_type": "code",
   "execution_count": null,
   "metadata": {},
   "outputs": [],
   "source": [
    "pred_test_rent_rfr.shape # best_score = -0.35762453844675574"
   ]
  },
  {
   "cell_type": "code",
   "execution_count": null,
   "metadata": {},
   "outputs": [],
   "source": [
    "pred_test_rent_rfr = pd.Series(pred_test_rent_rfr, index=df_test_rent.index, name='Цена')\n",
    "pred_test_rent_rfr"
   ]
  },
  {
   "cell_type": "markdown",
   "metadata": {},
   "source": [
    "## Fit Sale"
   ]
  },
  {
   "cell_type": "code",
   "execution_count": null,
   "metadata": {},
   "outputs": [],
   "source": [
    "df_test_sale = df_test_preproc_NA_OUT_ENC[df_test_preproc_NA_OUT_ENC['Рубрика'] == 'Продажа']\n",
    "df_test_sale.shape"
   ]
  },
  {
   "cell_type": "code",
   "execution_count": null,
   "metadata": {},
   "outputs": [],
   "source": [
    "del df_test_preproc_NA_OUT_ENC"
   ]
  },
  {
   "cell_type": "code",
   "execution_count": null,
   "metadata": {},
   "outputs": [],
   "source": [
    "df_test_sale = df_test_sale.pipe(add_features)\n",
    "df_test_sale.drop(cols_to_drop_sale, axis=1, inplace=True)\n",
    "df_test_sale.shape"
   ]
  },
  {
   "cell_type": "code",
   "execution_count": null,
   "metadata": {
    "scrolled": true
   },
   "outputs": [],
   "source": [
    "#pred_test_sale_rfr = sale_model_03(df_train_sale, df_test_sale, df_train_sale_target)"
   ]
  },
  {
   "cell_type": "code",
   "execution_count": null,
   "metadata": {
    "scrolled": true
   },
   "outputs": [],
   "source": [
    "model = RandomForestRegressor(n_estimators=100, verbose=2, n_jobs=2)\n",
    "model.fit(df_train_sale, df_train_sale_target)\n",
    "pred_test_sale_rfr = model.predict(df_test_sale)"
   ]
  },
  {
   "cell_type": "code",
   "execution_count": null,
   "metadata": {},
   "outputs": [],
   "source": [
    "pred_test_sale_rfr.shape # best_score = -0.1689683180613796"
   ]
  },
  {
   "cell_type": "code",
   "execution_count": null,
   "metadata": {},
   "outputs": [],
   "source": [
    "pred_test_sale_rfr = pd.Series(pred_test_sale_rfr, index=df_test_sale.index, name='Цена')\n",
    "pred_test_sale_rfr"
   ]
  },
  {
   "cell_type": "code",
   "execution_count": null,
   "metadata": {},
   "outputs": [],
   "source": [
    "del model"
   ]
  },
  {
   "cell_type": "markdown",
   "metadata": {},
   "source": [
    "## Combining predictions"
   ]
  },
  {
   "cell_type": "code",
   "execution_count": null,
   "metadata": {},
   "outputs": [],
   "source": [
    "print(pred_test_rent_rfr.shape)\n",
    "pred_test_rent_rfr"
   ]
  },
  {
   "cell_type": "code",
   "execution_count": null,
   "metadata": {},
   "outputs": [],
   "source": [
    "pred_rent = pd.Series(pred_test_rent_rfr, index=df_test_rent.index, name='Цена')\n",
    "pred_rent.shape\n",
    "pred_rent"
   ]
  },
  {
   "cell_type": "code",
   "execution_count": null,
   "metadata": {},
   "outputs": [],
   "source": [
    "print(pred_test_sale_rfr.shape)\n",
    "pred_test_sale_rfr"
   ]
  },
  {
   "cell_type": "code",
   "execution_count": null,
   "metadata": {},
   "outputs": [],
   "source": [
    "pred_sale = pd.Series(pred_test_sale_rfr, index=df_sale_test.index, name='Цена');\n",
    "pred_sale.shape\n",
    "pred_sale"
   ]
  },
  {
   "cell_type": "code",
   "execution_count": null,
   "metadata": {},
   "outputs": [],
   "source": [
    "pred = pd.concat([pred_rent, pred_sale], axis=0).sort_index()\n",
    "pred.shape\n",
    "pred"
   ]
  },
  {
   "cell_type": "code",
   "execution_count": null,
   "metadata": {},
   "outputs": [],
   "source": [
    "pd.DataFrame(zip(pred.index.values, pred.values), columns=['ID', 'Цена']).to_csv('pred_01_comp.csv', sep=',', index=False)"
   ]
  },
  {
   "cell_type": "markdown",
   "metadata": {},
   "source": [
    "## Memory Monitoring"
   ]
  },
  {
   "cell_type": "code",
   "execution_count": null,
   "metadata": {},
   "outputs": [],
   "source": [
    "# какие десять переменных занимают больше всего памяти\n",
    "import sys\n",
    "def sizeof_fmt(num, suffix='B'):\n",
    "    ''' by Fred Cirera,  https://stackoverflow.com/a/1094933/1870254, modified'''\n",
    "    for unit in ['','Ki','Mi','Gi','Ti','Pi','Ei','Zi']:\n",
    "        if abs(num) < 1024.0:\n",
    "            return \"%3.1f %s%s\" % (num, unit, suffix)\n",
    "        num /= 1024.0\n",
    "    return \"%.1f %s%s\" % (num, 'Yi', suffix)\n",
    "\n",
    "for name, size in sorted(((name, sys.getsizeof(value)) for name, value in locals().items()),\n",
    "                         key= lambda x: -x[1])[:10]:\n",
    "    print(\"{:>30}: {:>8}\".format(name, sizeof_fmt(size)))"
   ]
  },
  {
   "cell_type": "code",
   "execution_count": null,
   "metadata": {},
   "outputs": [],
   "source": [
    "%reset"
   ]
  },
  {
   "cell_type": "code",
   "execution_count": null,
   "metadata": {},
   "outputs": [],
   "source": []
  },
  {
   "cell_type": "code",
   "execution_count": null,
   "metadata": {},
   "outputs": [],
   "source": []
  }
 ],
 "metadata": {
  "kernelspec": {
   "display_name": "Python 3",
   "language": "python",
   "name": "python3"
  },
  "language_info": {
   "codemirror_mode": {
    "name": "ipython",
    "version": 3
   },
   "file_extension": ".py",
   "mimetype": "text/x-python",
   "name": "python",
   "nbconvert_exporter": "python",
   "pygments_lexer": "ipython3",
   "version": "3.6.8"
  }
 },
 "nbformat": 4,
 "nbformat_minor": 2
}
