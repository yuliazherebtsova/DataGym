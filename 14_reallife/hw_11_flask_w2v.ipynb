{
 "cells": [
  {
   "cell_type": "markdown",
   "metadata": {},
   "source": [
    "## Пишем веб-сервис"
   ]
  },
  {
   "cell_type": "code",
   "execution_count": 51,
   "metadata": {},
   "outputs": [],
   "source": [
    "import pandas as pd\n",
    "import numpy as np\n",
    "import requests\n",
    "import pickle"
   ]
  },
  {
   "cell_type": "markdown",
   "metadata": {},
   "source": [
    "Загружаем тестовую выборку текстов из ДЗ №10:"
   ]
  },
  {
   "cell_type": "code",
   "execution_count": 52,
   "metadata": {},
   "outputs": [],
   "source": [
    "df_test = pd.read_csv('test.csv', sep=';', index_col='id')"
   ]
  },
  {
   "cell_type": "markdown",
   "metadata": {},
   "source": [
    "Берем текст для тестирования:"
   ]
  },
  {
   "cell_type": "code",
   "execution_count": 53,
   "metadata": {},
   "outputs": [
    {
     "data": {
      "text/plain": [
       "array(['<p><strong>В крупную компанию по организации и приготовлению корпоративного питания требуется - Бухгалтер калькулятор.</strong></p> <p><strong>Обязанности:</strong></p> <ul> <li>работа с технологическими картами</li> <li>расчет себестоимости блюд</li> <li>ведение номенклатур</li> <li>ведение документооборота производства</li> <li>ценообразование</li> <li>участие в проведении инвентаризации</li> </ul> <strong>Требования:</strong> <ul> <li>опыт работы в общепите бухгалтером-калькулятором</li> <li>умение работать в программе общепит &quot;Айко&quot; (или другой)</li> <li>внимательность и ответственное отношение к работе</li> </ul> <strong>Условия:</strong> <ul> <li>официальное трудоустройство с первого рабочего дня</li> <li>место работы Советский район</li> <li>график работы 5/2 с 9:00 до 18:00</li> <li>предоставляется бесплатное питание</li> </ul>'],\n",
       "      dtype=object)"
      ]
     },
     "execution_count": 53,
     "metadata": {},
     "output_type": "execute_result"
    }
   ],
   "source": [
    "text = df_test.iloc[0]\n",
    "text.values"
   ]
  },
  {
   "cell_type": "markdown",
   "metadata": {},
   "source": [
    "Отправляем POST запрос в веб-сервис, поднятый на выделенном порту 11018:"
   ]
  },
  {
   "cell_type": "code",
   "execution_count": 54,
   "metadata": {},
   "outputs": [],
   "source": [
    "resp_hw11 = requests.post(\n",
    "    'http://localhost:11018/predict',\n",
    "    data = {\n",
    "        'text': text\n",
    "    }\n",
    ")"
   ]
  },
  {
   "cell_type": "markdown",
   "metadata": {},
   "source": [
    "Получаем ответ в виде json-а:"
   ]
  },
  {
   "cell_type": "code",
   "execution_count": 56,
   "metadata": {},
   "outputs": [
    {
     "name": "stdout",
     "output_type": "stream",
     "text": [
      "{'predict': 3}\n"
     ]
    }
   ],
   "source": [
    "resp_json = resp_hw11.json()\n",
    "print(resp_json)"
   ]
  },
  {
   "cell_type": "markdown",
   "metadata": {},
   "source": [
    "Предсказание класса для выбранного текста:"
   ]
  },
  {
   "cell_type": "code",
   "execution_count": 57,
   "metadata": {},
   "outputs": [
    {
     "data": {
      "text/plain": [
       "3"
      ]
     },
     "execution_count": 57,
     "metadata": {},
     "output_type": "execute_result"
    }
   ],
   "source": [
    "resp_json['predict']"
   ]
  },
  {
   "cell_type": "code",
   "execution_count": null,
   "metadata": {},
   "outputs": [],
   "source": []
  },
  {
   "cell_type": "code",
   "execution_count": null,
   "metadata": {},
   "outputs": [],
   "source": []
  }
 ],
 "metadata": {
  "kernelspec": {
   "display_name": "Python 3",
   "language": "python",
   "name": "python3"
  },
  "language_info": {
   "codemirror_mode": {
    "name": "ipython",
    "version": 3
   },
   "file_extension": ".py",
   "mimetype": "text/x-python",
   "name": "python",
   "nbconvert_exporter": "python",
   "pygments_lexer": "ipython3",
   "version": "3.6.8"
  }
 },
 "nbformat": 4,
 "nbformat_minor": 2
}
